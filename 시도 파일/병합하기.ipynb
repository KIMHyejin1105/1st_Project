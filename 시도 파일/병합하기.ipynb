{
 "cells": [
  {
   "cell_type": "code",
   "execution_count": 2,
   "id": "c6355be5-178b-4f5d-896b-e77cedda9cea",
   "metadata": {},
   "outputs": [
    {
     "name": "stdout",
     "output_type": "stream",
     "text": [
      "CSV 파일 병합 완료!\n"
     ]
    }
   ],
   "source": [
    "import pandas as pd\n",
    "import os\n",
    "\n",
    "# CSV 파일이 있는 폴더 경로\n",
    "folder_path = \"./TW\"  # 폴더명을 사용자의 폴더명으로 변경하세요.\n",
    "\n",
    "# 폴더 내 모든 CSV 파일 목록 가져오기\n",
    "file_list = [file for file in os.listdir(folder_path) if file.endswith(\".csv\")]\n",
    "\n",
    "# CSV 파일 읽어서 리스트에 저장\n",
    "df_list = [pd.read_csv(os.path.join(folder_path, file)) for file in file_list]\n",
    "\n",
    "# 모든 DataFrame을 하나로 병합\n",
    "JPOSA = pd.concat(df_list, ignore_index=True)\n",
    "\n",
    "# 병합된 파일 저장\n",
    "JPOSA.to_csv(\"TW.csv\", index=False)\n",
    "\n",
    "print(\"CSV 파일 병합 완료!\")"
   ]
  }
 ],
 "metadata": {
  "kernelspec": {
   "display_name": "Python [conda env:base] *",
   "language": "python",
   "name": "conda-base-py"
  },
  "language_info": {
   "codemirror_mode": {
    "name": "ipython",
    "version": 3
   },
   "file_extension": ".py",
   "mimetype": "text/x-python",
   "name": "python",
   "nbconvert_exporter": "python",
   "pygments_lexer": "ipython3",
   "version": "3.12.7"
  }
 },
 "nbformat": 4,
 "nbformat_minor": 5
}
