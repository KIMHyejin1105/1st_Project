{
 "cells": [
  {
   "cell_type": "code",
   "execution_count": 30,
   "id": "78740694-9237-48de-9070-a96b1dea9761",
   "metadata": {},
   "outputs": [],
   "source": [
    "import matplotlib.pyplot as plt\n",
    "import matplotlib.font_manager as fm\n",
    "import warnings\n",
    "warnings.simplefilter('ignore')\n",
    "\n",
    "plt.rcParams['font.family'] = 'Malgun Gothic'\n",
    "plt.rcParams['axes.unicode_minus'] = False  # 마이너스 깨짐 방지"
   ]
  },
  {
   "cell_type": "markdown",
   "id": "4da8abcd-bc68-4bdc-8d5d-1a86d7ec086e",
   "metadata": {},
   "source": [
    "# 전체 항구 파일 병합(VNHPH, HKHKG, CNHUA)"
   ]
  },
  {
   "cell_type": "code",
   "execution_count": null,
   "id": "cb04ec17-b480-4615-bd73-37b51161735b",
   "metadata": {},
   "outputs": [],
   "source": [
    "import pandas as pd\n",
    "import glob\n",
    "import os\n",
    "\n",
    "# 병합할 폴더 리스트 (항구별 폴더)\n",
    "folders = ['./dataset/VNHPH', './dataset/CNHUA', './dataset/HKHKG']\n",
    "merged_dfs = []\n",
    "\n",
    "for folder in folders:\n",
    "    port_code = os.path.basename(folder)  # 예: 'VNHPH'\n",
    "\n",
    "    # 폴더 내 모든 CSV 파일 읽기\n",
    "    for filepath in glob.glob(os.path.join(folder, '*.csv')):\n",
    "        df = pd.read_csv(filepath)\n",
    "\n",
    "        # 선박명 추출 (파일명 기준)\n",
    "        ship_name = os.path.splitext(os.path.basename(filepath))[0]\n",
    "\n",
    "        # 선박 ID 및 출발 항구 열 추가\n",
    "        df['ship_id'] = ship_name\n",
    "        df['origin_port'] = port_code\n",
    "\n",
    "        merged_dfs.append(df)\n",
    "\n",
    "# 전체 데이터프레임 병합\n",
    "merged_df = pd.concat(merged_dfs, ignore_index=True)\n",
    "\n",
    "# TIMESTAMP 정렬 (시계열 순서 보장)\n",
    "# 필요 시 datetime 형식 변환\n",
    "merged_df['TIMESTAMP'] = pd.to_datetime(merged_df['TIMESTAMP'])\n",
    "merged_df = merged_df.sort_values('TIMESTAMP').reset_index(drop=True)\n",
    "\n",
    "# 결과 출력\n",
    "print(merged_df.head())\n",
    "print(f\"총 병합된 행 수: {len(merged_df)}\")\n",
    "\n",
    "# 저장 -> 파일명 지정 후 저장하면 됨\n",
    "merged_df.to_csv('merged_all_ships.csv', index=False)"
   ]
  },
  {
   "cell_type": "markdown",
   "id": "73a25dcc-f709-49ed-92ae-e9eae0b21a58",
   "metadata": {},
   "source": [
    "## 데이터 불러오기"
   ]
  },
  {
   "cell_type": "code",
   "execution_count": 148,
   "id": "faeb634d-f7e7-45c7-a3da-4d6ae8128918",
   "metadata": {},
   "outputs": [],
   "source": [
    "import pandas as pd\n",
    "import numpy as np\n",
    "from sklearn.model_selection import train_test_split\n",
    "from sklearn.preprocessing import StandardScaler\n",
    "from tensorflow.keras.models import Sequential\n",
    "from tensorflow.keras.layers import LSTM, Dense"
   ]
  },
  {
   "cell_type": "code",
   "execution_count": 150,
   "id": "2105da5a-a6b0-4e4e-aeb9-c42e262da22c",
   "metadata": {},
   "outputs": [],
   "source": [
    "df = pd.read_csv(\"./dataset/merged_all_ships.csv\")"
   ]
  },
  {
   "cell_type": "code",
   "execution_count": 152,
   "id": "279aea63-5cd3-48d7-b372-179f52c44070",
   "metadata": {},
   "outputs": [],
   "source": [
    "cluster_A_ports = ['VNHPH', 'CNHUA', 'HKHKG']\n",
    "df['target'] = df['origin_port'].apply(lambda x: 1 if x in cluster_A_ports else 0)"
   ]
  },
  {
   "cell_type": "markdown",
   "id": "752490fa-1425-4004-9f1d-d5ac1210f153",
   "metadata": {},
   "source": [
    "## 함수 생성"
   ]
  },
  {
   "cell_type": "code",
   "execution_count": 182,
   "id": "e5b92a1f-0eb2-46ab-8024-7e6fe1465f0f",
   "metadata": {},
   "outputs": [],
   "source": [
    "def create_offset_sequences(df, features, input_steps=18, target_offset=18):\n",
    "    X, y = [], []\n",
    "    for ship_id, group in df.groupby('ship_id'):\n",
    "        group = group.sort_values('TIMESTAMP')\n",
    "        values = group[features].to_numpy()\n",
    "        lat_lon = group[['LAT', 'LON']].to_numpy()\n",
    "\n",
    "        for i in range(len(values) - input_steps - target_offset):\n",
    "            X.append(values[i:i+input_steps])\n",
    "            y.append(lat_lon[i+input_steps+target_offset - 1])  # 6시간 뒤 위치\n",
    "\n",
    "    return np.array(X), np.array(y)"
   ]
  },
  {
   "cell_type": "markdown",
   "id": "1e95c60b-5f84-46b7-8c6e-6971b5275a1e",
   "metadata": {},
   "source": [
    "## 하이퍼파라미터 설정"
   ]
  },
  {
   "cell_type": "code",
   "execution_count": 184,
   "id": "4ddf479d-ba4e-46b1-9b50-8f323278ab3f",
   "metadata": {},
   "outputs": [],
   "source": [
    "INPUT_STEPS = 18  # 10분 간격 × 18 = 3시간\n",
    "TARGET_OFFSET = 18  # 6시간 후\n",
    "FEATURES = ['COG', 'HEADING', 'LAT', 'LON']\n",
    "EPOCHS = 20\n",
    "BATCH_SIZE = 64"
   ]
  },
  {
   "cell_type": "markdown",
   "id": "5df0725a-cf1a-4315-89e8-5b49f97c0b86",
   "metadata": {},
   "source": [
    "## 표준화"
   ]
  },
  {
   "cell_type": "code",
   "execution_count": 186,
   "id": "928a6c63-13c8-41e5-973b-db3bfc35fafb",
   "metadata": {
    "scrolled": true
   },
   "outputs": [],
   "source": [
    "from tensorflow.keras.models import Sequential\n",
    "from tensorflow.keras.layers import LSTM, Dense\n",
    "\n",
    "model = Sequential([\n",
    "    LSTM(64, input_shape=(INPUT_STEPS, len(FEATURES))),\n",
    "    Dense(32, activation='relu'),\n",
    "    Dense(2)  # LAT, LON 예측\n",
    "])\n",
    "\n",
    "model.compile(optimizer='adam', loss='mse', metrics=['mae'])"
   ]
  },
  {
   "cell_type": "code",
   "execution_count": 188,
   "id": "8a535884-1d33-41cc-9828-8adfbcd91e89",
   "metadata": {},
   "outputs": [],
   "source": [
    "X, y = create_offset_sequences(df, FEATURES, INPUT_STEPS, TARGET_OFFSET)"
   ]
  },
  {
   "cell_type": "code",
   "execution_count": 190,
   "id": "30c971c4-9b0c-40c1-aba0-b1862e3a29ca",
   "metadata": {
    "scrolled": true
   },
   "outputs": [],
   "source": [
    "from sklearn.preprocessing import StandardScaler\n",
    "\n",
    "X_flat = X.reshape(-1, len(FEATURES))\n",
    "scaler = StandardScaler()\n",
    "X_scaled = scaler.fit_transform(X_flat).reshape(X.shape)"
   ]
  },
  {
   "cell_type": "code",
   "execution_count": 192,
   "id": "ebff6a0c-42b3-408e-87c5-c86884f8e4a8",
   "metadata": {},
   "outputs": [],
   "source": [
    "from sklearn.model_selection import train_test_split\n",
    "X_train, X_val, y_train, y_val = train_test_split(X_scaled, y, test_size=0.2, random_state=42)"
   ]
  },
  {
   "cell_type": "code",
   "execution_count": 194,
   "id": "5dce730d-f3a0-48f6-a884-ebed0e8b4945",
   "metadata": {
    "scrolled": true
   },
   "outputs": [
    {
     "name": "stdout",
     "output_type": "stream",
     "text": [
      "Epoch 1/20\n",
      "\u001b[1m184/184\u001b[0m \u001b[32m━━━━━━━━━━━━━━━━━━━━\u001b[0m\u001b[37m\u001b[0m \u001b[1m9s\u001b[0m 23ms/step - loss: 6493.3540 - mae: 66.7100 - val_loss: 2189.4668 - val_mae: 34.6844\n",
      "Epoch 2/20\n",
      "\u001b[1m184/184\u001b[0m \u001b[32m━━━━━━━━━━━━━━━━━━━━\u001b[0m\u001b[37m\u001b[0m \u001b[1m4s\u001b[0m 20ms/step - loss: 1030.5317 - mae: 21.1224 - val_loss: 31.0566 - val_mae: 4.5813\n",
      "Epoch 3/20\n",
      "\u001b[1m184/184\u001b[0m \u001b[32m━━━━━━━━━━━━━━━━━━━━\u001b[0m\u001b[37m\u001b[0m \u001b[1m5s\u001b[0m 19ms/step - loss: 27.7216 - mae: 4.4139 - val_loss: 18.3731 - val_mae: 3.4864\n",
      "Epoch 4/20\n",
      "\u001b[1m184/184\u001b[0m \u001b[32m━━━━━━━━━━━━━━━━━━━━\u001b[0m\u001b[37m\u001b[0m \u001b[1m3s\u001b[0m 18ms/step - loss: 15.3047 - mae: 3.1476 - val_loss: 7.4575 - val_mae: 1.9585\n",
      "Epoch 5/20\n",
      "\u001b[1m184/184\u001b[0m \u001b[32m━━━━━━━━━━━━━━━━━━━━\u001b[0m\u001b[37m\u001b[0m \u001b[1m3s\u001b[0m 18ms/step - loss: 5.6931 - mae: 1.7023 - val_loss: 3.5601 - val_mae: 1.1908\n",
      "Epoch 6/20\n",
      "\u001b[1m184/184\u001b[0m \u001b[32m━━━━━━━━━━━━━━━━━━━━\u001b[0m\u001b[37m\u001b[0m \u001b[1m6s\u001b[0m 20ms/step - loss: 2.8623 - mae: 1.0619 - val_loss: 2.3130 - val_mae: 0.8873\n",
      "Epoch 7/20\n",
      "\u001b[1m184/184\u001b[0m \u001b[32m━━━━━━━━━━━━━━━━━━━━\u001b[0m\u001b[37m\u001b[0m \u001b[1m4s\u001b[0m 20ms/step - loss: 2.1336 - mae: 0.7916 - val_loss: 1.7019 - val_mae: 0.6951\n",
      "Epoch 8/20\n",
      "\u001b[1m184/184\u001b[0m \u001b[32m━━━━━━━━━━━━━━━━━━━━\u001b[0m\u001b[37m\u001b[0m \u001b[1m4s\u001b[0m 22ms/step - loss: 1.4810 - mae: 0.6524 - val_loss: 1.2570 - val_mae: 0.6082\n",
      "Epoch 9/20\n",
      "\u001b[1m184/184\u001b[0m \u001b[32m━━━━━━━━━━━━━━━━━━━━\u001b[0m\u001b[37m\u001b[0m \u001b[1m4s\u001b[0m 19ms/step - loss: 1.2090 - mae: 0.5619 - val_loss: 0.9499 - val_mae: 0.4761\n",
      "Epoch 10/20\n",
      "\u001b[1m184/184\u001b[0m \u001b[32m━━━━━━━━━━━━━━━━━━━━\u001b[0m\u001b[37m\u001b[0m \u001b[1m5s\u001b[0m 21ms/step - loss: 0.9473 - mae: 0.4640 - val_loss: 0.8495 - val_mae: 0.4395\n",
      "Epoch 11/20\n",
      "\u001b[1m184/184\u001b[0m \u001b[32m━━━━━━━━━━━━━━━━━━━━\u001b[0m\u001b[37m\u001b[0m \u001b[1m4s\u001b[0m 19ms/step - loss: 0.8893 - mae: 0.4333 - val_loss: 0.7906 - val_mae: 0.4015\n",
      "Epoch 12/20\n",
      "\u001b[1m184/184\u001b[0m \u001b[32m━━━━━━━━━━━━━━━━━━━━\u001b[0m\u001b[37m\u001b[0m \u001b[1m3s\u001b[0m 18ms/step - loss: 0.7712 - mae: 0.3987 - val_loss: 0.7741 - val_mae: 0.3968\n",
      "Epoch 13/20\n",
      "\u001b[1m184/184\u001b[0m \u001b[32m━━━━━━━━━━━━━━━━━━━━\u001b[0m\u001b[37m\u001b[0m \u001b[1m4s\u001b[0m 19ms/step - loss: 0.6524 - mae: 0.3714 - val_loss: 0.7292 - val_mae: 0.3679\n",
      "Epoch 14/20\n",
      "\u001b[1m184/184\u001b[0m \u001b[32m━━━━━━━━━━━━━━━━━━━━\u001b[0m\u001b[37m\u001b[0m \u001b[1m3s\u001b[0m 18ms/step - loss: 0.8540 - mae: 0.3810 - val_loss: 0.7038 - val_mae: 0.3605\n",
      "Epoch 15/20\n",
      "\u001b[1m184/184\u001b[0m \u001b[32m━━━━━━━━━━━━━━━━━━━━\u001b[0m\u001b[37m\u001b[0m \u001b[1m4s\u001b[0m 20ms/step - loss: 0.8675 - mae: 0.3772 - val_loss: 0.7459 - val_mae: 0.4095\n",
      "Epoch 16/20\n",
      "\u001b[1m184/184\u001b[0m \u001b[32m━━━━━━━━━━━━━━━━━━━━\u001b[0m\u001b[37m\u001b[0m \u001b[1m4s\u001b[0m 20ms/step - loss: 0.8198 - mae: 0.3706 - val_loss: 0.6647 - val_mae: 0.3391\n",
      "Epoch 17/20\n",
      "\u001b[1m184/184\u001b[0m \u001b[32m━━━━━━━━━━━━━━━━━━━━\u001b[0m\u001b[37m\u001b[0m \u001b[1m4s\u001b[0m 20ms/step - loss: 0.6742 - mae: 0.3418 - val_loss: 0.6480 - val_mae: 0.3355\n",
      "Epoch 18/20\n",
      "\u001b[1m184/184\u001b[0m \u001b[32m━━━━━━━━━━━━━━━━━━━━\u001b[0m\u001b[37m\u001b[0m \u001b[1m4s\u001b[0m 20ms/step - loss: 0.6346 - mae: 0.3393 - val_loss: 0.6351 - val_mae: 0.3238\n",
      "Epoch 19/20\n",
      "\u001b[1m184/184\u001b[0m \u001b[32m━━━━━━━━━━━━━━━━━━━━\u001b[0m\u001b[37m\u001b[0m \u001b[1m5s\u001b[0m 18ms/step - loss: 0.6105 - mae: 0.3255 - val_loss: 0.6019 - val_mae: 0.3144\n",
      "Epoch 20/20\n",
      "\u001b[1m184/184\u001b[0m \u001b[32m━━━━━━━━━━━━━━━━━━━━\u001b[0m\u001b[37m\u001b[0m \u001b[1m5s\u001b[0m 19ms/step - loss: 0.6038 - mae: 0.3319 - val_loss: 0.5995 - val_mae: 0.3192\n"
     ]
    },
    {
     "data": {
      "text/plain": [
       "<keras.src.callbacks.history.History at 0x2b289ed47a0>"
      ]
     },
     "execution_count": 194,
     "metadata": {},
     "output_type": "execute_result"
    }
   ],
   "source": [
    "model.fit(X_train, y_train, validation_data=(X_val, y_val), epochs=EPOCHS, batch_size=BATCH_SIZE)"
   ]
  },
  {
   "cell_type": "code",
   "execution_count": 196,
   "id": "6d73a49c-0126-43c7-835e-ec2a609746cf",
   "metadata": {},
   "outputs": [],
   "source": [
    "model.save(\"lstm_position_predictor1.keras\")"
   ]
  },
  {
   "cell_type": "code",
   "execution_count": 198,
   "id": "8add0d48-cca1-485c-be3f-84633fd7a8f2",
   "metadata": {},
   "outputs": [
    {
     "name": "stdout",
     "output_type": "stream",
     "text": [
      "\u001b[1m92/92\u001b[0m \u001b[32m━━━━━━━━━━━━━━━━━━━━\u001b[0m\u001b[37m\u001b[0m \u001b[1m1s\u001b[0m 11ms/step\n"
     ]
    }
   ],
   "source": [
    "y_pred = model.predict(X_val)"
   ]
  },
  {
   "cell_type": "code",
   "execution_count": 202,
   "id": "12f427a3-95bb-4360-ae85-c2b2cd5ceea3",
   "metadata": {},
   "outputs": [
    {
     "data": {
      "image/png": "[encoded data removed]",
      "text/plain": [
       "<Figure size 640x480 with 1 Axes>"
      ]
     },
     "metadata": {},
     "output_type": "display_data"
    }
   ],
   "source": [
    "import matplotlib.pyplot as plt\n",
    "\n",
    "plt.scatter(y_val[:, 1], y_val[:, 0], label='실제 항로', alpha=0.5)  # LON, LAT\n",
    "plt.scatter(y_pred[:, 1], y_pred[:, 0], label='예측 항로', alpha=0.5)\n",
    "plt.legend()\n",
    "plt.xlabel('LON'); plt.ylabel('LAT')\n",
    "plt.title('6시간 뒤 위치 예측 결과')\n",
    "plt.show()"
   ]
  },
  {
   "cell_type": "markdown",
   "id": "76d9e3aa-35e3-40f2-8b2e-8c3348765701",
   "metadata": {},
   "source": [
    "# 다른 선박 대입"
   ]
  },
  {
   "cell_type": "markdown",
   "id": "84fd0df7-cdf9-409e-89cd-f05ec883e9ce",
   "metadata": {},
   "source": [
    "## 모델 불러오기"
   ]
  },
  {
   "cell_type": "code",
   "execution_count": 204,
   "id": "7cdcdfd5-2605-42dd-a7ed-7d9c77b19712",
   "metadata": {},
   "outputs": [],
   "source": [
    "import pandas as pd\n",
    "import numpy as np\n",
    "from tensorflow.keras.models import load_model"
   ]
  },
  {
   "cell_type": "code",
   "execution_count": 206,
   "id": "6c4a036d-7085-4b0b-8899-6a8f01a09a47",
   "metadata": {},
   "outputs": [],
   "source": [
    "model = load_model(\"lstm_position_predictor1.keras\")"
   ]
  },
  {
   "cell_type": "code",
   "execution_count": 209,
   "id": "1410496b-5c80-4e29-8e7b-09b2b7f5cf34",
   "metadata": {},
   "outputs": [],
   "source": [
    "df_new = pd.read_csv(\"./dataset/CNHUA/028690b9-6aba-3401-8d39-d602f2a30d82.csv\")  # 예시 경로"
   ]
  },
  {
   "cell_type": "code",
   "execution_count": 211,
   "id": "34956554-729a-4766-8c61-5d7f25c38087",
   "metadata": {},
   "outputs": [],
   "source": [
    "FEATURES = ['COG', 'HEADING', 'LAT', 'LON']\n",
    "df_new = df_new.sort_values('TIMESTAMP')"
   ]
  },
  {
   "cell_type": "markdown",
   "id": "bd0f1e79-00f2-43e5-bd5c-90a46cc8f087",
   "metadata": {},
   "source": [
    "## 입력 시퀀스 생성"
   ]
  },
  {
   "cell_type": "code",
   "execution_count": 213,
   "id": "5de809cb-c930-4164-baa2-7ad4a500a681",
   "metadata": {},
   "outputs": [],
   "source": [
    "INPUT_STEPS = 18\n",
    "values = df_new[FEATURES].to_numpy()"
   ]
  },
  {
   "cell_type": "code",
   "execution_count": 217,
   "id": "00fb228a-b139-4c21-8c01-f51f8f7f4ce3",
   "metadata": {},
   "outputs": [],
   "source": [
    "input_seq = values[-INPUT_STEPS:]\n",
    "#가장 최근 18포인트를 이용한 예측"
   ]
  },
  {
   "cell_type": "markdown",
   "id": "f5c120cf-a2fd-478b-b554-441a16bbb13a",
   "metadata": {},
   "source": [
    "## 스케일링"
   ]
  },
  {
   "cell_type": "code",
   "execution_count": 219,
   "id": "89f38857-d7d2-4d08-835f-6f804957f748",
   "metadata": {},
   "outputs": [],
   "source": [
    "input_scaled = scaler.transform(input_seq).reshape(1, INPUT_STEPS, len(FEATURES))"
   ]
  },
  {
   "cell_type": "code",
   "execution_count": 223,
   "id": "58ffd93b-5837-4021-9f1c-55d042a75dc7",
   "metadata": {},
   "outputs": [
    {
     "name": "stdout",
     "output_type": "stream",
     "text": [
      "\u001b[1m1/1\u001b[0m \u001b[32m━━━━━━━━━━━━━━━━━━━━\u001b[0m\u001b[37m\u001b[0m \u001b[1m0s\u001b[0m 83ms/step\n"
     ]
    }
   ],
   "source": [
    "pred_latlon = model.predict(input_scaled)\n",
    "pred_lat, pred_lon = pred_latlon[0]"
   ]
  },
  {
   "cell_type": "code",
   "execution_count": 225,
   "id": "7b0e3db3-6137-40c1-b960-70603ab09fda",
   "metadata": {},
   "outputs": [
    {
     "name": "stdout",
     "output_type": "stream",
     "text": [
      "예측된 6시간 후 위치: 위도 23.30650, 경도 116.18169\n"
     ]
    }
   ],
   "source": [
    "print(f\"예측된 6시간 후 위치: 위도 {pred_lat:.5f}, 경도 {pred_lon:.5f}\")"
   ]
  },
  {
   "cell_type": "code",
   "execution_count": 229,
   "id": "3c906dde-df62-41cd-8a2d-c4951df7a5dd",
   "metadata": {},
   "outputs": [
    {
     "data": {
      "image/png": "[encoded data removed]",
      "text/plain": [
       "<Figure size 600x600 with 1 Axes>"
      ]
     },
     "metadata": {},
     "output_type": "display_data"
    }
   ],
   "source": [
    "import matplotlib.pyplot as plt\n",
    "\n",
    "# 현재 위치: 입력 시퀀스 마지막 지점\n",
    "current_lat, current_lon = input_seq[-1][2], input_seq[-1][3]\n",
    "\n",
    "# 시각화\n",
    "plt.figure(figsize=(6, 6))\n",
    "plt.plot(input_seq[:, 3], input_seq[:, 2], label='최근 3시간 항로', color='blue')  # LON, LAT\n",
    "plt.scatter(current_lon, current_lat, color='orange', label='현재 위치')\n",
    "plt.scatter(pred_lon, pred_lat, color='red', label='예측 위치 (6시간 후)')\n",
    "plt.plot([current_lon, pred_lon], [current_lat, pred_lat], 'r--', label='예측 경로')\n",
    "plt.xlabel(\"Longitude\"); plt.ylabel(\"Latitude\")\n",
    "plt.title(\"새로운 선박 예측 결과\")\n",
    "plt.legend()\n",
    "plt.grid(True)\n",
    "plt.show()"
   ]
  },
  {
   "cell_type": "code",
   "execution_count": 243,
   "id": "b740ec23-49dd-4d8c-bb67-c6621e92a520",
   "metadata": {},
   "outputs": [
    {
     "name": "stdout",
     "output_type": "stream",
     "text": [
      "\u001b[1m92/92\u001b[0m \u001b[32m━━━━━━━━━━━━━━━━━━━━\u001b[0m\u001b[37m\u001b[0m \u001b[1m1s\u001b[0m 7ms/step\n",
      "MAE (LAT + LON 평균 오차): 0.319156\n",
      "RMSE: 0.767675\n"
     ]
    }
   ],
   "source": [
    "from sklearn.metrics import mean_absolute_error, mean_squared_error\n",
    "import numpy as np\n",
    "\n",
    "# 예측 결과\n",
    "y_pred = model.predict(X_val)  # shape: (N, 2)\n",
    "\n",
    "# MAE, RMSE\n",
    "mae = mean_absolute_error(y_val, y_pred)\n",
    "rmse = mean_squared_error(y_val, y_pred, squared=False)\n",
    "\n",
    "print(f\"MAE (LAT + LON 평균 오차): {mae:.6f}\") # 예측값과 실제값의 절대 오차 평균 → 일반적인 위치 예측 정확도 지표\n",
    "print(f\"RMSE: {rmse:.6f}\") # MSE의 제곱근 → 단위가 위치 단위(LAT, LON)와 같아서 해석 쉬움"
   ]
  },
  {
   "cell_type": "code",
   "execution_count": 235,
   "id": "80c1240d-3a24-43b4-b44b-ddc4432471d8",
   "metadata": {},
   "outputs": [
    {
     "name": "stdout",
     "output_type": "stream",
     "text": [
      "Haversine MAE (평균 위치 오차, km): 51.30 km\n"
     ]
    }
   ],
   "source": [
    "from math import radians, sin, cos, sqrt, atan2\n",
    "\n",
    "def haversine(lat1, lon1, lat2, lon2):\n",
    "    R = 6371  # 지구 반지름 (km)\n",
    "    dlat = radians(lat2 - lat1)\n",
    "    dlon = radians(lon2 - lon1)\n",
    "    a = sin(dlat/2)**2 + cos(radians(lat1)) * cos(radians(lat2)) * sin(dlon/2)**2\n",
    "    return R * 2 * atan2(sqrt(a), sqrt(1-a))\n",
    "\n",
    "# 평균 Haversine 거리 계산\n",
    "haversine_errors = [\n",
    "    haversine(lat1, lon1, lat2, lon2)\n",
    "    for (lat1, lon1), (lat2, lon2) in zip(y_val, y_pred)\n",
    "]\n",
    "\n",
    "haversine_mae = np.mean(haversine_errors)\n",
    "print(f\"Haversine MAE (평균 위치 오차, km): {haversine_mae:.2f} km\")"
   ]
  },
  {
   "cell_type": "code",
   "execution_count": 241,
   "id": "a113d521-2224-491b-918b-24102a850a53",
   "metadata": {},
   "outputs": [
    {
     "name": "stdout",
     "output_type": "stream",
     "text": [
      "MAE (LAT+LON): 0.319156\n",
      "RMSE: 0.767675\n",
      "평균 예측 오차 (Haversine): 51.30 km\n"
     ]
    }
   ],
   "source": [
    "print(f\"MAE (LAT+LON): {mae:.6f}\")\n",
    "print(f\"RMSE: {rmse:.6f}\")\n",
    "print(f\"평균 예측 오차 (Haversine): {haversine_mae:.2f} km\")"
   ]
  },
  {
   "cell_type": "code",
   "execution_count": 245,
   "id": "427a22d5-752f-4be9-8898-9955afdf79fc",
   "metadata": {},
   "outputs": [
    {
     "name": "stdout",
     "output_type": "stream",
     "text": [
      "결정계수 R²: 0.9787\n"
     ]
    }
   ],
   "source": [
    "from sklearn.metrics import r2_score\n",
    "\n",
    "r2 = r2_score(y_val, y_pred)\n",
    "print(f\"결정계수 R²: {r2:.4f}\")"
   ]
  },
  {
   "cell_type": "code",
   "execution_count": 257,
   "id": "b17f32db-63fe-471b-8a99-2404ef2773bc",
   "metadata": {},
   "outputs": [
    {
     "data": {
      "text/html": [
       "<div style=\"width:100%;\"><div style=\"position:relative;width:100%;height:0;padding-bottom:60%;\"><span style=\"color:#565656\">Make this Notebook Trusted to load map: File -> Trust Notebook</span><iframe srcdoc=\"&lt;!DOCTYPE html&gt;\n",
       "&lt;html&gt;\n",
       "&lt;head&gt;\n",
       "    \n",
       "    &lt;meta http-equiv=&quot;content-type&quot; content=&quot;text/html; charset=UTF-8&quot; /&gt;\n",
       "    \n",
       "        &lt;script&gt;\n",
       "            L_NO_TOUCH = false;\n",
       "            L_DISABLE_3D = false;\n",
       "        &lt;/script&gt;\n",
       "    \n",
       "    &lt;style&gt;html, body {width: 100%;height: 100%;margin: 0;padding: 0;}&lt;/style&gt;\n",
       "    &lt;style&gt;#map {position:absolute;top:0;bottom:0;right:0;left:0;}&lt;/style&gt;\n",
       "    &lt;script src=&quot;https://cdn.jsdelivr.net/npm/leaflet@1.9.3/dist/leaflet.js&quot;&gt;&lt;/script&gt;\n",
       "    &lt;script src=&quot;https://code.jquery.com/jquery-3.7.1.min.js&quot;&gt;&lt;/script&gt;\n",
       "    &lt;script src=&quot;https://cdn.jsdelivr.net/npm/bootstrap@5.2.2/dist/js/bootstrap.bundle.min.js&quot;&gt;&lt;/script&gt;\n",
       "    &lt;script src=&quot;https://cdnjs.cloudflare.com/ajax/libs/Leaflet.awesome-markers/2.0.2/leaflet.awesome-markers.js&quot;&gt;&lt;/script&gt;\n",
       "    &lt;link rel=&quot;stylesheet&quot; href=&quot;https://cdn.jsdelivr.net/npm/leaflet@1.9.3/dist/leaflet.css&quot;/&gt;\n",
       "    &lt;link rel=&quot;stylesheet&quot; href=&quot;https://cdn.jsdelivr.net/npm/bootstrap@5.2.2/dist/css/bootstrap.min.css&quot;/&gt;\n",
       "    &lt;link rel=&quot;stylesheet&quot; href=&quot;https://netdna.bootstrapcdn.com/bootstrap/3.0.0/css/bootstrap-glyphicons.css&quot;/&gt;\n",
       "    &lt;link rel=&quot;stylesheet&quot; href=&quot;https://cdn.jsdelivr.net/npm/@fortawesome/fontawesome-free@6.2.0/css/all.min.css&quot;/&gt;\n",
       "    &lt;link rel=&quot;stylesheet&quot; href=&quot;https://cdnjs.cloudflare.com/ajax/libs/Leaflet.awesome-markers/2.0.2/leaflet.awesome-markers.css&quot;/&gt;\n",
       "    &lt;link rel=&quot;stylesheet&quot; href=&quot;https://cdn.jsdelivr.net/gh/python-visualization/folium/folium/templates/leaflet.awesome.rotate.min.css&quot;/&gt;\n",
       "    \n",
       "            &lt;meta name=&quot;viewport&quot; content=&quot;width=device-width,\n",
       "                initial-scale=1.0, maximum-scale=1.0, user-scalable=no&quot; /&gt;\n",
       "            &lt;style&gt;\n",
       "                #map_7d1050f9dc3fcc02cb444e194068bcc5 {\n",
       "                    position: relative;\n",
       "                    width: 100.0%;\n",
       "                    height: 100.0%;\n",
       "                    left: 0.0%;\n",
       "                    top: 0.0%;\n",
       "                }\n",
       "                .leaflet-container { font-size: 1rem; }\n",
       "            &lt;/style&gt;\n",
       "        \n",
       "&lt;/head&gt;\n",
       "&lt;body&gt;\n",
       "    \n",
       "    \n",
       "            &lt;div class=&quot;folium-map&quot; id=&quot;map_7d1050f9dc3fcc02cb444e194068bcc5&quot; &gt;&lt;/div&gt;\n",
       "        \n",
       "&lt;/body&gt;\n",
       "&lt;script&gt;\n",
       "    \n",
       "    \n",
       "            var map_7d1050f9dc3fcc02cb444e194068bcc5 = L.map(\n",
       "                &quot;map_7d1050f9dc3fcc02cb444e194068bcc5&quot;,\n",
       "                {\n",
       "                    center: [24.09536333, 118.23676833],\n",
       "                    crs: L.CRS.EPSG3857,\n",
       "                    ...{\n",
       "  &quot;zoom&quot;: 6,\n",
       "  &quot;zoomControl&quot;: true,\n",
       "  &quot;preferCanvas&quot;: false,\n",
       "}\n",
       "\n",
       "                }\n",
       "            );\n",
       "\n",
       "            \n",
       "\n",
       "        \n",
       "    \n",
       "            var tile_layer_2facf5c651eee94934606885d48ee960 = L.tileLayer(\n",
       "                &quot;https://tile.openstreetmap.org/{z}/{x}/{y}.png&quot;,\n",
       "                {\n",
       "  &quot;minZoom&quot;: 0,\n",
       "  &quot;maxZoom&quot;: 19,\n",
       "  &quot;maxNativeZoom&quot;: 19,\n",
       "  &quot;noWrap&quot;: false,\n",
       "  &quot;attribution&quot;: &quot;\\u0026copy; \\u003ca href=\\&quot;https://www.openstreetmap.org/copyright\\&quot;\\u003eOpenStreetMap\\u003c/a\\u003e contributors&quot;,\n",
       "  &quot;subdomains&quot;: &quot;abc&quot;,\n",
       "  &quot;detectRetina&quot;: false,\n",
       "  &quot;tms&quot;: false,\n",
       "  &quot;opacity&quot;: 1,\n",
       "}\n",
       "\n",
       "            );\n",
       "        \n",
       "    \n",
       "            tile_layer_2facf5c651eee94934606885d48ee960.addTo(map_7d1050f9dc3fcc02cb444e194068bcc5);\n",
       "        \n",
       "    \n",
       "            var poly_line_007fcb40509a71accbce1042956696ec = L.polyline(\n",
       "                [[24.591626665, 118.849814165], [24.5620874975, 118.8122495825], [24.53254833, 118.774685], [24.50144583, 118.738983335], [24.47034333, 118.70328167], [24.45172833, 118.68379833], [24.40649167, 118.63130167], [24.38796, 118.60261], [24.35110833, 118.551425], [24.33091667, 118.52605], [24.293635, 118.48267833], [24.25740833, 118.44347333], [24.24288, 118.425885], [24.21351833, 118.39035667], [24.16678667, 118.33407], [24.14357, 118.30350667], [24.10970667, 118.257655], [24.09536333, 118.23676833]],\n",
       "                {&quot;bubblingMouseEvents&quot;: true, &quot;color&quot;: &quot;blue&quot;, &quot;dashArray&quot;: null, &quot;dashOffset&quot;: null, &quot;fill&quot;: false, &quot;fillColor&quot;: &quot;blue&quot;, &quot;fillOpacity&quot;: 0.2, &quot;fillRule&quot;: &quot;evenodd&quot;, &quot;lineCap&quot;: &quot;round&quot;, &quot;lineJoin&quot;: &quot;round&quot;, &quot;noClip&quot;: false, &quot;opacity&quot;: 1.0, &quot;smoothFactor&quot;: 1.0, &quot;stroke&quot;: true, &quot;weight&quot;: 3}\n",
       "            ).addTo(map_7d1050f9dc3fcc02cb444e194068bcc5);\n",
       "        \n",
       "    \n",
       "        var popup_c5abd4b6edacfdc320a0d46a08dd4368 = L.popup({\n",
       "  &quot;maxWidth&quot;: &quot;100%&quot;,\n",
       "});\n",
       "\n",
       "        \n",
       "            \n",
       "                var html_aca940a948cea2e6afc1f8f209fcac84 = $(`&lt;div id=&quot;html_aca940a948cea2e6afc1f8f209fcac84&quot; style=&quot;width: 100.0%; height: 100.0%;&quot;&gt;입력 항로&lt;/div&gt;`)[0];\n",
       "                popup_c5abd4b6edacfdc320a0d46a08dd4368.setContent(html_aca940a948cea2e6afc1f8f209fcac84);\n",
       "            \n",
       "        \n",
       "\n",
       "        poly_line_007fcb40509a71accbce1042956696ec.bindPopup(popup_c5abd4b6edacfdc320a0d46a08dd4368)\n",
       "        ;\n",
       "\n",
       "        \n",
       "    \n",
       "    \n",
       "            var marker_b4e8e65f969df8ed2a0528cfb1d22f0b = L.marker(\n",
       "                [24.09536333, 118.23676833],\n",
       "                {\n",
       "}\n",
       "            ).addTo(map_7d1050f9dc3fcc02cb444e194068bcc5);\n",
       "        \n",
       "    \n",
       "            var icon_afb0871b9a6384f7c7d6d5bc3bfe5dab = L.AwesomeMarkers.icon(\n",
       "                {\n",
       "  &quot;markerColor&quot;: &quot;orange&quot;,\n",
       "  &quot;iconColor&quot;: &quot;white&quot;,\n",
       "  &quot;icon&quot;: &quot;info-sign&quot;,\n",
       "  &quot;prefix&quot;: &quot;glyphicon&quot;,\n",
       "  &quot;extraClasses&quot;: &quot;fa-rotate-0&quot;,\n",
       "}\n",
       "            );\n",
       "        \n",
       "    \n",
       "        var popup_204f7049eef7211be45532d7affaca5d = L.popup({\n",
       "  &quot;maxWidth&quot;: &quot;100%&quot;,\n",
       "});\n",
       "\n",
       "        \n",
       "            \n",
       "                var html_96c208e4ddfe9f8d9ad1eb6dc7b57813 = $(`&lt;div id=&quot;html_96c208e4ddfe9f8d9ad1eb6dc7b57813&quot; style=&quot;width: 100.0%; height: 100.0%;&quot;&gt;현재 위치 (3시간 시점)&lt;/div&gt;`)[0];\n",
       "                popup_204f7049eef7211be45532d7affaca5d.setContent(html_96c208e4ddfe9f8d9ad1eb6dc7b57813);\n",
       "            \n",
       "        \n",
       "\n",
       "        marker_b4e8e65f969df8ed2a0528cfb1d22f0b.bindPopup(popup_204f7049eef7211be45532d7affaca5d)\n",
       "        ;\n",
       "\n",
       "        \n",
       "    \n",
       "    \n",
       "                marker_b4e8e65f969df8ed2a0528cfb1d22f0b.setIcon(icon_afb0871b9a6384f7c7d6d5bc3bfe5dab);\n",
       "            \n",
       "    \n",
       "            var marker_6d7988095211c8aa84d38184168d970d = L.marker(\n",
       "                [33.7255744934082, 127.83100128173828],\n",
       "                {\n",
       "}\n",
       "            ).addTo(map_7d1050f9dc3fcc02cb444e194068bcc5);\n",
       "        \n",
       "    \n",
       "            var icon_d875b1ba932b90a4d932502b399a1ff4 = L.AwesomeMarkers.icon(\n",
       "                {\n",
       "  &quot;markerColor&quot;: &quot;red&quot;,\n",
       "  &quot;iconColor&quot;: &quot;white&quot;,\n",
       "  &quot;icon&quot;: &quot;flag&quot;,\n",
       "  &quot;prefix&quot;: &quot;glyphicon&quot;,\n",
       "  &quot;extraClasses&quot;: &quot;fa-rotate-0&quot;,\n",
       "}\n",
       "            );\n",
       "        \n",
       "    \n",
       "        var popup_136d535f9e58c772ca0ab81d5af554c7 = L.popup({\n",
       "  &quot;maxWidth&quot;: &quot;100%&quot;,\n",
       "});\n",
       "\n",
       "        \n",
       "            \n",
       "                var html_908a6405fdf5fb24d16b93ab270d12c1 = $(`&lt;div id=&quot;html_908a6405fdf5fb24d16b93ab270d12c1&quot; style=&quot;width: 100.0%; height: 100.0%;&quot;&gt;예측 위치 (6시간 후)&lt;/div&gt;`)[0];\n",
       "                popup_136d535f9e58c772ca0ab81d5af554c7.setContent(html_908a6405fdf5fb24d16b93ab270d12c1);\n",
       "            \n",
       "        \n",
       "\n",
       "        marker_6d7988095211c8aa84d38184168d970d.bindPopup(popup_136d535f9e58c772ca0ab81d5af554c7)\n",
       "        ;\n",
       "\n",
       "        \n",
       "    \n",
       "    \n",
       "                marker_6d7988095211c8aa84d38184168d970d.setIcon(icon_d875b1ba932b90a4d932502b399a1ff4);\n",
       "            \n",
       "    \n",
       "            var marker_d440b00eee5323d1508731f3afbffce1 = L.marker(\n",
       "                [23.49084167, 117.68736333],\n",
       "                {\n",
       "}\n",
       "            ).addTo(map_7d1050f9dc3fcc02cb444e194068bcc5);\n",
       "        \n",
       "    \n",
       "            var icon_bc9abaae692702bf799273a87edbbd1b = L.AwesomeMarkers.icon(\n",
       "                {\n",
       "  &quot;markerColor&quot;: &quot;green&quot;,\n",
       "  &quot;iconColor&quot;: &quot;white&quot;,\n",
       "  &quot;icon&quot;: &quot;info-sign&quot;,\n",
       "  &quot;prefix&quot;: &quot;glyphicon&quot;,\n",
       "  &quot;extraClasses&quot;: &quot;fa-rotate-0&quot;,\n",
       "}\n",
       "            );\n",
       "        \n",
       "    \n",
       "        var popup_ef04871019672f175ca1114f50130c6e = L.popup({\n",
       "  &quot;maxWidth&quot;: &quot;100%&quot;,\n",
       "});\n",
       "\n",
       "        \n",
       "            \n",
       "                var html_be42bcc3c14c0d0a031e2557c8af6670 = $(`&lt;div id=&quot;html_be42bcc3c14c0d0a031e2557c8af6670&quot; style=&quot;width: 100.0%; height: 100.0%;&quot;&gt;실제 위치 (6시간 후)&lt;/div&gt;`)[0];\n",
       "                popup_ef04871019672f175ca1114f50130c6e.setContent(html_be42bcc3c14c0d0a031e2557c8af6670);\n",
       "            \n",
       "        \n",
       "\n",
       "        marker_d440b00eee5323d1508731f3afbffce1.bindPopup(popup_ef04871019672f175ca1114f50130c6e)\n",
       "        ;\n",
       "\n",
       "        \n",
       "    \n",
       "    \n",
       "                marker_d440b00eee5323d1508731f3afbffce1.setIcon(icon_bc9abaae692702bf799273a87edbbd1b);\n",
       "            \n",
       "    \n",
       "            var poly_line_3a36d8017f8ba9d5b37455a1ad8a6b44 = L.polyline(\n",
       "                [[33.7255744934082, 127.83100128173828], [23.49084167, 117.68736333]],\n",
       "                {&quot;bubblingMouseEvents&quot;: true, &quot;color&quot;: &quot;green&quot;, &quot;dashArray&quot;: &quot;5, 10&quot;, &quot;dashOffset&quot;: null, &quot;fill&quot;: false, &quot;fillColor&quot;: &quot;green&quot;, &quot;fillOpacity&quot;: 0.2, &quot;fillRule&quot;: &quot;evenodd&quot;, &quot;lineCap&quot;: &quot;round&quot;, &quot;lineJoin&quot;: &quot;round&quot;, &quot;noClip&quot;: false, &quot;opacity&quot;: 1.0, &quot;smoothFactor&quot;: 1.0, &quot;stroke&quot;: true, &quot;weight&quot;: 2}\n",
       "            ).addTo(map_7d1050f9dc3fcc02cb444e194068bcc5);\n",
       "        \n",
       "    \n",
       "        var popup_3e1c2d4929a839ff2ac92e148c3adce5 = L.popup({\n",
       "  &quot;maxWidth&quot;: &quot;100%&quot;,\n",
       "});\n",
       "\n",
       "        \n",
       "            \n",
       "                var html_374f3881b86ed2a38613a4b106efb182 = $(`&lt;div id=&quot;html_374f3881b86ed2a38613a4b106efb182&quot; style=&quot;width: 100.0%; height: 100.0%;&quot;&gt;예측 오차&lt;/div&gt;`)[0];\n",
       "                popup_3e1c2d4929a839ff2ac92e148c3adce5.setContent(html_374f3881b86ed2a38613a4b106efb182);\n",
       "            \n",
       "        \n",
       "\n",
       "        poly_line_3a36d8017f8ba9d5b37455a1ad8a6b44.bindPopup(popup_3e1c2d4929a839ff2ac92e148c3adce5)\n",
       "        ;\n",
       "\n",
       "        \n",
       "    \n",
       "&lt;/script&gt;\n",
       "&lt;/html&gt;\" style=\"position:absolute;width:100%;height:100%;left:0;top:0;border:none !important;\" allowfullscreen webkitallowfullscreen mozallowfullscreen></iframe></div></div>"
      ],
      "text/plain": [
       "<folium.folium.Map at 0x2b2fd3eef60>"
      ]
     },
     "metadata": {},
     "output_type": "display_data"
    }
   ],
   "source": [
    "import folium\n",
    "\n",
    "# 예시: X_val[0]을 사용하여 1개 예측 보기\n",
    "idx = 0\n",
    "\n",
    "# 입력 시퀀스 복원\n",
    "input_seq = X_val[idx].copy()\n",
    "input_seq_unscaled = scaler.inverse_transform(input_seq)\n",
    "latlon_seq = input_seq_unscaled[:, 2:4]  # LAT, LON\n",
    "\n",
    "# 현재 위치\n",
    "current_lat, current_lon = latlon_seq[-1]\n",
    "\n",
    "# 예측 위치\n",
    "pred_lat, pred_lon = y_pred[idx]\n",
    "\n",
    "# 실제 위치\n",
    "true_lat, true_lon = y_val[idx]\n",
    "\n",
    "# 지도 생성\n",
    "m = folium.Map(location=[current_lat, current_lon], zoom_start=6)\n",
    "\n",
    "# 파랑 입력 경로\n",
    "folium.PolyLine(latlon_seq, color='blue', weight=3, popup='입력 항로').add_to(m)\n",
    "\n",
    "# 주황 현재 위치\n",
    "folium.Marker(\n",
    "    location=(current_lat, current_lon),\n",
    "    icon=folium.Icon(color='orange'),\n",
    "    popup='현재 위치 (3시간 시점)'\n",
    ").add_to(m)\n",
    "\n",
    "# 빨강 예측 위치\n",
    "folium.Marker(\n",
    "    location=(pred_lat, pred_lon),\n",
    "    icon=folium.Icon(color='red', icon='flag'),\n",
    "    popup='예측 위치 (6시간 후)'\n",
    ").add_to(m)\n",
    "\n",
    "# 초록 실제 위치\n",
    "folium.Marker(\n",
    "    location=(true_lat, true_lon),\n",
    "    icon=folium.Icon(color='green'),\n",
    "    popup='실제 위치 (6시간 후)'\n",
    ").add_to(m)\n",
    "\n",
    "# 초록 <-> 빨강 예측 vs 실제 오차 선\n",
    "folium.PolyLine(\n",
    "    [(pred_lat, pred_lon), (true_lat, true_lon)],\n",
    "    color='green',\n",
    "    dash_array='5, 10',\n",
    "    weight=2,\n",
    "    popup='예측 오차'\n",
    ").add_to(m)\n",
    "\n",
    "# 지도 저장\n",
    "display(m)"
   ]
  },
  {
   "cell_type": "code",
   "execution_count": 255,
   "id": "c5b2700d-1f39-4da0-aa4b-9a8a5073cce7",
   "metadata": {},
   "outputs": [
    {
     "name": "stdout",
     "output_type": "stream",
     "text": [
      "\u001b[1m458/458\u001b[0m \u001b[32m━━━━━━━━━━━━━━━━━━━━\u001b[0m\u001b[37m\u001b[0m \u001b[1m3s\u001b[0m 7ms/step\n"
     ]
    },
    {
     "data": {
      "text/html": [
       "<div style=\"width:100%;\"><div style=\"position:relative;width:100%;height:0;padding-bottom:60%;\"><span style=\"color:#565656\">Make this Notebook Trusted to load map: File -> Trust Notebook</span><iframe srcdoc=\"&lt;!DOCTYPE html&gt;\n",
       "&lt;html&gt;\n",
       "&lt;head&gt;\n",
       "    \n",
       "    &lt;meta http-equiv=&quot;content-type&quot; content=&quot;text/html; charset=UTF-8&quot; /&gt;\n",
       "    \n",
       "        &lt;script&gt;\n",
       "            L_NO_TOUCH = false;\n",
       "            L_DISABLE_3D = false;\n",
       "        &lt;/script&gt;\n",
       "    \n",
       "    &lt;style&gt;html, body {width: 100%;height: 100%;margin: 0;padding: 0;}&lt;/style&gt;\n",
       "    &lt;style&gt;#map {position:absolute;top:0;bottom:0;right:0;left:0;}&lt;/style&gt;\n",
       "    &lt;script src=&quot;https://cdn.jsdelivr.net/npm/leaflet@1.9.3/dist/leaflet.js&quot;&gt;&lt;/script&gt;\n",
       "    &lt;script src=&quot;https://code.jquery.com/jquery-3.7.1.min.js&quot;&gt;&lt;/script&gt;\n",
       "    &lt;script src=&quot;https://cdn.jsdelivr.net/npm/bootstrap@5.2.2/dist/js/bootstrap.bundle.min.js&quot;&gt;&lt;/script&gt;\n",
       "    &lt;script src=&quot;https://cdnjs.cloudflare.com/ajax/libs/Leaflet.awesome-markers/2.0.2/leaflet.awesome-markers.js&quot;&gt;&lt;/script&gt;\n",
       "    &lt;link rel=&quot;stylesheet&quot; href=&quot;https://cdn.jsdelivr.net/npm/leaflet@1.9.3/dist/leaflet.css&quot;/&gt;\n",
       "    &lt;link rel=&quot;stylesheet&quot; href=&quot;https://cdn.jsdelivr.net/npm/bootstrap@5.2.2/dist/css/bootstrap.min.css&quot;/&gt;\n",
       "    &lt;link rel=&quot;stylesheet&quot; href=&quot;https://netdna.bootstrapcdn.com/bootstrap/3.0.0/css/bootstrap-glyphicons.css&quot;/&gt;\n",
       "    &lt;link rel=&quot;stylesheet&quot; href=&quot;https://cdn.jsdelivr.net/npm/@fortawesome/fontawesome-free@6.2.0/css/all.min.css&quot;/&gt;\n",
       "    &lt;link rel=&quot;stylesheet&quot; href=&quot;https://cdnjs.cloudflare.com/ajax/libs/Leaflet.awesome-markers/2.0.2/leaflet.awesome-markers.css&quot;/&gt;\n",
       "    &lt;link rel=&quot;stylesheet&quot; href=&quot;https://cdn.jsdelivr.net/gh/python-visualization/folium/folium/templates/leaflet.awesome.rotate.min.css&quot;/&gt;\n",
       "    \n",
       "            &lt;meta name=&quot;viewport&quot; content=&quot;width=device-width,\n",
       "                initial-scale=1.0, maximum-scale=1.0, user-scalable=no&quot; /&gt;\n",
       "            &lt;style&gt;\n",
       "                #map_5aaf6c37b253941465ea93519d97b430 {\n",
       "                    position: relative;\n",
       "                    width: 100.0%;\n",
       "                    height: 100.0%;\n",
       "                    left: 0.0%;\n",
       "                    top: 0.0%;\n",
       "                }\n",
       "                .leaflet-container { font-size: 1rem; }\n",
       "            &lt;/style&gt;\n",
       "        \n",
       "&lt;/head&gt;\n",
       "&lt;body&gt;\n",
       "    \n",
       "    \n",
       "            &lt;div class=&quot;folium-map&quot; id=&quot;map_5aaf6c37b253941465ea93519d97b430&quot; &gt;&lt;/div&gt;\n",
       "        \n",
       "&lt;/body&gt;\n",
       "&lt;script&gt;\n",
       "    \n",
       "    \n",
       "            var map_5aaf6c37b253941465ea93519d97b430 = L.map(\n",
       "                &quot;map_5aaf6c37b253941465ea93519d97b430&quot;,\n",
       "                {\n",
       "                    center: [34.13075833, 128.58834667],\n",
       "                    crs: L.CRS.EPSG3857,\n",
       "                    ...{\n",
       "  &quot;zoom&quot;: 6,\n",
       "  &quot;zoomControl&quot;: true,\n",
       "  &quot;preferCanvas&quot;: false,\n",
       "}\n",
       "\n",
       "                }\n",
       "            );\n",
       "\n",
       "            \n",
       "\n",
       "        \n",
       "    \n",
       "            var tile_layer_36cb45069fdbade633023b7ad8e03bd5 = L.tileLayer(\n",
       "                &quot;https://tile.openstreetmap.org/{z}/{x}/{y}.png&quot;,\n",
       "                {\n",
       "  &quot;minZoom&quot;: 0,\n",
       "  &quot;maxZoom&quot;: 19,\n",
       "  &quot;maxNativeZoom&quot;: 19,\n",
       "  &quot;noWrap&quot;: false,\n",
       "  &quot;attribution&quot;: &quot;\\u0026copy; \\u003ca href=\\&quot;https://www.openstreetmap.org/copyright\\&quot;\\u003eOpenStreetMap\\u003c/a\\u003e contributors&quot;,\n",
       "  &quot;subdomains&quot;: &quot;abc&quot;,\n",
       "  &quot;detectRetina&quot;: false,\n",
       "  &quot;tms&quot;: false,\n",
       "  &quot;opacity&quot;: 1,\n",
       "}\n",
       "\n",
       "            );\n",
       "        \n",
       "    \n",
       "            tile_layer_36cb45069fdbade633023b7ad8e03bd5.addTo(map_5aaf6c37b253941465ea93519d97b430);\n",
       "        \n",
       "    \n",
       "            var poly_line_3abeb726d586c5bafe3c6d28cc869062 = L.polyline(\n",
       "                [[34.6676285, 128.92523133333333], [34.744642, 128.96117766666666], [34.8216555, 128.997124], [34.898669, 129.03307033333334], [34.9756825, 129.06901666666667], [34.590615, 128.889285], [34.548465, 128.869275], [34.50536667, 128.86188667], [34.442765, 128.85717167], [34.412281666666665, 128.8468255566667], [34.381798333333336, 128.83647944333333], [34.351315, 128.82613333], [34.31700667, 128.78206167], [34.27786833, 128.73831167], [34.25309667, 128.71742167], [34.21082, 128.67581917], [34.16854333, 128.63421667], [34.13075833, 128.58834667]],\n",
       "                {&quot;bubblingMouseEvents&quot;: true, &quot;color&quot;: &quot;blue&quot;, &quot;dashArray&quot;: null, &quot;dashOffset&quot;: null, &quot;fill&quot;: false, &quot;fillColor&quot;: &quot;blue&quot;, &quot;fillOpacity&quot;: 0.2, &quot;fillRule&quot;: &quot;evenodd&quot;, &quot;lineCap&quot;: &quot;round&quot;, &quot;lineJoin&quot;: &quot;round&quot;, &quot;noClip&quot;: false, &quot;opacity&quot;: 1.0, &quot;smoothFactor&quot;: 1.0, &quot;stroke&quot;: true, &quot;weight&quot;: 3}\n",
       "            ).addTo(map_5aaf6c37b253941465ea93519d97b430);\n",
       "        \n",
       "    \n",
       "        var popup_30c43b4b09c27a4e9e938a681e4ba7d3 = L.popup({\n",
       "  &quot;maxWidth&quot;: &quot;100%&quot;,\n",
       "});\n",
       "\n",
       "        \n",
       "            \n",
       "                var html_5ceaea299c7b42387197f328701d91b8 = $(`&lt;div id=&quot;html_5ceaea299c7b42387197f328701d91b8&quot; style=&quot;width: 100.0%; height: 100.0%;&quot;&gt;입력 항로&lt;/div&gt;`)[0];\n",
       "                popup_30c43b4b09c27a4e9e938a681e4ba7d3.setContent(html_5ceaea299c7b42387197f328701d91b8);\n",
       "            \n",
       "        \n",
       "\n",
       "        poly_line_3abeb726d586c5bafe3c6d28cc869062.bindPopup(popup_30c43b4b09c27a4e9e938a681e4ba7d3)\n",
       "        ;\n",
       "\n",
       "        \n",
       "    \n",
       "    \n",
       "            var marker_747467f734814190af1a096f23f46df1 = L.marker(\n",
       "                [34.13075833, 128.58834667],\n",
       "                {\n",
       "}\n",
       "            ).addTo(map_5aaf6c37b253941465ea93519d97b430);\n",
       "        \n",
       "    \n",
       "            var icon_85951ac7e404f59c225868eb9a4bb817 = L.AwesomeMarkers.icon(\n",
       "                {\n",
       "  &quot;markerColor&quot;: &quot;orange&quot;,\n",
       "  &quot;iconColor&quot;: &quot;white&quot;,\n",
       "  &quot;icon&quot;: &quot;info-sign&quot;,\n",
       "  &quot;prefix&quot;: &quot;glyphicon&quot;,\n",
       "  &quot;extraClasses&quot;: &quot;fa-rotate-0&quot;,\n",
       "}\n",
       "            );\n",
       "        \n",
       "    \n",
       "        var popup_e8abb6616773d9bd5d4023d0e3e7fc53 = L.popup({\n",
       "  &quot;maxWidth&quot;: &quot;100%&quot;,\n",
       "});\n",
       "\n",
       "        \n",
       "            \n",
       "                var html_231dd2bdd65dbbec1d98822542871169 = $(`&lt;div id=&quot;html_231dd2bdd65dbbec1d98822542871169&quot; style=&quot;width: 100.0%; height: 100.0%;&quot;&gt;현재 위치 (3시간)&lt;/div&gt;`)[0];\n",
       "                popup_e8abb6616773d9bd5d4023d0e3e7fc53.setContent(html_231dd2bdd65dbbec1d98822542871169);\n",
       "            \n",
       "        \n",
       "\n",
       "        marker_747467f734814190af1a096f23f46df1.bindPopup(popup_e8abb6616773d9bd5d4023d0e3e7fc53)\n",
       "        ;\n",
       "\n",
       "        \n",
       "    \n",
       "    \n",
       "                marker_747467f734814190af1a096f23f46df1.setIcon(icon_85951ac7e404f59c225868eb9a4bb817);\n",
       "            \n",
       "    \n",
       "            var marker_98b983ff33ad4c60b1130f448e470c6c = L.marker(\n",
       "                [33.7255744934082, 127.83100128173828],\n",
       "                {\n",
       "}\n",
       "            ).addTo(map_5aaf6c37b253941465ea93519d97b430);\n",
       "        \n",
       "    \n",
       "            var icon_da6a52874df528818afa4824f905e63f = L.AwesomeMarkers.icon(\n",
       "                {\n",
       "  &quot;markerColor&quot;: &quot;red&quot;,\n",
       "  &quot;iconColor&quot;: &quot;white&quot;,\n",
       "  &quot;icon&quot;: &quot;flag&quot;,\n",
       "  &quot;prefix&quot;: &quot;glyphicon&quot;,\n",
       "  &quot;extraClasses&quot;: &quot;fa-rotate-0&quot;,\n",
       "}\n",
       "            );\n",
       "        \n",
       "    \n",
       "        var popup_51c7374eb7411bdde1f2bf21598ce206 = L.popup({\n",
       "  &quot;maxWidth&quot;: &quot;100%&quot;,\n",
       "});\n",
       "\n",
       "        \n",
       "            \n",
       "                var html_ba4ef88a156eeefe838993649edf16db = $(`&lt;div id=&quot;html_ba4ef88a156eeefe838993649edf16db&quot; style=&quot;width: 100.0%; height: 100.0%;&quot;&gt;예측 위치 (6시간 후)&lt;/div&gt;`)[0];\n",
       "                popup_51c7374eb7411bdde1f2bf21598ce206.setContent(html_ba4ef88a156eeefe838993649edf16db);\n",
       "            \n",
       "        \n",
       "\n",
       "        marker_98b983ff33ad4c60b1130f448e470c6c.bindPopup(popup_51c7374eb7411bdde1f2bf21598ce206)\n",
       "        ;\n",
       "\n",
       "        \n",
       "    \n",
       "    \n",
       "                marker_98b983ff33ad4c60b1130f448e470c6c.setIcon(icon_da6a52874df528818afa4824f905e63f);\n",
       "            \n",
       "    \n",
       "            var marker_776ac06742e6ff968b5ffc9acfefab0d = L.marker(\n",
       "                [33.50658667, 127.945125],\n",
       "                {\n",
       "}\n",
       "            ).addTo(map_5aaf6c37b253941465ea93519d97b430);\n",
       "        \n",
       "    \n",
       "            var icon_4cea0584ae9c6bb09bee0d6b42d8e49b = L.AwesomeMarkers.icon(\n",
       "                {\n",
       "  &quot;markerColor&quot;: &quot;green&quot;,\n",
       "  &quot;iconColor&quot;: &quot;white&quot;,\n",
       "  &quot;icon&quot;: &quot;info-sign&quot;,\n",
       "  &quot;prefix&quot;: &quot;glyphicon&quot;,\n",
       "  &quot;extraClasses&quot;: &quot;fa-rotate-0&quot;,\n",
       "}\n",
       "            );\n",
       "        \n",
       "    \n",
       "        var popup_c210b9515d37148debb4d2814c0ee765 = L.popup({\n",
       "  &quot;maxWidth&quot;: &quot;100%&quot;,\n",
       "});\n",
       "\n",
       "        \n",
       "            \n",
       "                var html_2aa2dd611bccd4a8cd7fb09e4b5e96ad = $(`&lt;div id=&quot;html_2aa2dd611bccd4a8cd7fb09e4b5e96ad&quot; style=&quot;width: 100.0%; height: 100.0%;&quot;&gt;실제 위치 (6시간 후)&lt;/div&gt;`)[0];\n",
       "                popup_c210b9515d37148debb4d2814c0ee765.setContent(html_2aa2dd611bccd4a8cd7fb09e4b5e96ad);\n",
       "            \n",
       "        \n",
       "\n",
       "        marker_776ac06742e6ff968b5ffc9acfefab0d.bindPopup(popup_c210b9515d37148debb4d2814c0ee765)\n",
       "        ;\n",
       "\n",
       "        \n",
       "    \n",
       "    \n",
       "                marker_776ac06742e6ff968b5ffc9acfefab0d.setIcon(icon_4cea0584ae9c6bb09bee0d6b42d8e49b);\n",
       "            \n",
       "    \n",
       "            var poly_line_64c3025280d7ae449842a9afaf823048 = L.polyline(\n",
       "                [[33.7255744934082, 127.83100128173828], [33.50658667, 127.945125]],\n",
       "                {&quot;bubblingMouseEvents&quot;: true, &quot;color&quot;: &quot;green&quot;, &quot;dashArray&quot;: &quot;5, 10&quot;, &quot;dashOffset&quot;: null, &quot;fill&quot;: false, &quot;fillColor&quot;: &quot;green&quot;, &quot;fillOpacity&quot;: 0.2, &quot;fillRule&quot;: &quot;evenodd&quot;, &quot;lineCap&quot;: &quot;round&quot;, &quot;lineJoin&quot;: &quot;round&quot;, &quot;noClip&quot;: false, &quot;opacity&quot;: 1.0, &quot;smoothFactor&quot;: 1.0, &quot;stroke&quot;: true, &quot;weight&quot;: 2}\n",
       "            ).addTo(map_5aaf6c37b253941465ea93519d97b430);\n",
       "        \n",
       "    \n",
       "        var popup_6568f4e9b663c7c8c1fde90578f9cf6e = L.popup({\n",
       "  &quot;maxWidth&quot;: &quot;100%&quot;,\n",
       "});\n",
       "\n",
       "        \n",
       "            \n",
       "                var html_9f4ed51a770020e2672482860a8e3cd1 = $(`&lt;div id=&quot;html_9f4ed51a770020e2672482860a8e3cd1&quot; style=&quot;width: 100.0%; height: 100.0%;&quot;&gt;예측 vs 실제&lt;/div&gt;`)[0];\n",
       "                popup_6568f4e9b663c7c8c1fde90578f9cf6e.setContent(html_9f4ed51a770020e2672482860a8e3cd1);\n",
       "            \n",
       "        \n",
       "\n",
       "        poly_line_64c3025280d7ae449842a9afaf823048.bindPopup(popup_6568f4e9b663c7c8c1fde90578f9cf6e)\n",
       "        ;\n",
       "\n",
       "        \n",
       "    \n",
       "&lt;/script&gt;\n",
       "&lt;/html&gt;\" style=\"position:absolute;width:100%;height:100%;left:0;top:0;border:none !important;\" allowfullscreen webkitallowfullscreen mozallowfullscreen></iframe></div></div>"
      ],
      "text/plain": [
       "<folium.folium.Map at 0x2b2edeca600>"
      ]
     },
     "metadata": {},
     "output_type": "display_data"
    }
   ],
   "source": [
    "import pandas as pd\n",
    "import numpy as np\n",
    "import folium\n",
    "from sklearn.preprocessing import StandardScaler\n",
    "from tensorflow.keras.models import load_model\n",
    "\n",
    "# 1. 모델 및 데이터 불러오기\n",
    "model = load_model(\"lstm_position_predictor1.keras\")\n",
    "df = pd.read_csv(\"./dataset/merged_all_ships.csv\")\n",
    "\n",
    "# 2. 파라미터 설정\n",
    "INPUT_STEPS = 18\n",
    "TARGET_OFFSET = 18\n",
    "FEATURES = ['COG', 'HEADING', 'LAT', 'LON']\n",
    "\n",
    "# 3. 시퀀스 생성 함수\n",
    "def create_offset_sequences(df, features, input_steps=18, target_offset=18):\n",
    "    X, y = [], []\n",
    "    for ship_id, group in df.groupby('VSL_ID'):\n",
    "        group = group.sort_values('TIMESTAMP')\n",
    "        values = group[features].to_numpy()\n",
    "        latlon = group[['LAT', 'LON']].to_numpy()\n",
    "        for i in range(len(group) - input_steps - target_offset):\n",
    "            X.append(values[i:i+input_steps])\n",
    "            y.append(latlon[i+input_steps+target_offset-1])\n",
    "    return np.array(X), np.array(y)\n",
    "\n",
    "# 4. 시퀀스 생성 및 정규화\n",
    "X, y = create_offset_sequences(df, FEATURES, INPUT_STEPS, TARGET_OFFSET)\n",
    "scaler = StandardScaler()\n",
    "X_flat = X.reshape(-1, len(FEATURES))\n",
    "X_scaled = scaler.fit_transform(X_flat).reshape(X.shape)\n",
    "\n",
    "# 5. 예측\n",
    "y_pred = model.predict(X_scaled)\n",
    "\n",
    "# 6. 특정 시퀀스 시각화\n",
    "idx = 0\n",
    "input_seq = X_scaled[idx]\n",
    "input_seq_unscaled = scaler.inverse_transform(input_seq)\n",
    "latlon_seq = input_seq_unscaled[:, 2:4]\n",
    "latlon_path = [(lat, lon) for lat, lon in latlon_seq]\n",
    "\n",
    "current_lat, current_lon = latlon_path[-1]\n",
    "pred_lat, pred_lon = y_pred[idx]\n",
    "true_lat, true_lon = y[idx]\n",
    "\n",
    "# 7. folium 지도 시각화\n",
    "m = folium.Map(location=[current_lat, current_lon], zoom_start=6)\n",
    "folium.PolyLine(latlon_path, color='blue', weight=3, popup='입력 항로').add_to(m)\n",
    "folium.Marker((current_lat, current_lon), icon=folium.Icon(color='orange'), popup='현재 위치 (3시간)').add_to(m)\n",
    "folium.Marker((pred_lat, pred_lon), icon=folium.Icon(color='red', icon='flag'), popup='예측 위치 (6시간 후)').add_to(m)\n",
    "folium.Marker((true_lat, true_lon), icon=folium.Icon(color='green'), popup='실제 위치 (6시간 후)').add_to(m)\n",
    "folium.PolyLine([(pred_lat, pred_lon), (true_lat, true_lon)], color='green', dash_array='5, 10', weight=2, popup='예측 vs 실제').add_to(m)\n",
    "\n",
    "# 8. 지도 저장 및 확인\n",
    "display(m)"
   ]
  }
 ],
 "metadata": {
  "kernelspec": {
   "display_name": "Python [conda env:base] *",
   "language": "python",
   "name": "conda-base-py"
  },
  "language_info": {
   "codemirror_mode": {
    "name": "ipython",
    "version": 3
   },
   "file_extension": ".py",
   "mimetype": "text/x-python",
   "name": "python",
   "nbconvert_exporter": "python",
   "pygments_lexer": "ipython3",
   "version": "3.12.7"
  }
 },
 "nbformat": 4,
 "nbformat_minor": 5
}
