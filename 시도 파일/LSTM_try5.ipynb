{
 "cells": [
  {
   "cell_type": "markdown",
   "id": "0508ffc7-3700-4fc7-b8d8-eedf029afc30",
   "metadata": {},
   "source": [
    "# 모델 학습하기"
   ]
  },
  {
   "cell_type": "code",
   "execution_count": 180,
   "id": "ab766006-3b90-4ae3-affb-8632a9a90e75",
   "metadata": {},
   "outputs": [],
   "source": [
    "import pandas as pd\n",
    "import numpy as np\n",
    "import tensorflow as tf\n",
    "from tensorflow.keras.models import Sequential\n",
    "from tensorflow.keras.layers import LSTM, Dense\n",
    "from sklearn.preprocessing import MinMaxScaler\n",
    "import os"
   ]
  },
  {
   "cell_type": "markdown",
   "id": "61db8654-affb-48f0-8f92-e2f092829ad4",
   "metadata": {},
   "source": [
    "## 하이퍼 파라미터 설정"
   ]
  },
  {
   "cell_type": "code",
   "execution_count": 182,
   "id": "4da4ec53-4e76-4165-86ff-ffba3cb8a5a7",
   "metadata": {},
   "outputs": [],
   "source": [
    "WINDOW_SIZE = 18               # 3시간 (10분 간격 x 18)\n",
    "TARGET_OFFSETS = [36, 54, 72]  # 6h, 9h, 12h (10분 간격 기준)\n",
    "FEATURES = ['LAT', 'LON', 'COG', 'HEADING']\n",
    "MODEL_PATH = './saved_model/lstm_cluster_1.keras' # 모델명 변경하기 + 각 군집 별로 번호만 수정해주면 됩니당 히히 "
   ]
  },
  {
   "cell_type": "markdown",
   "id": "1c5ef425-b042-44cd-a3bf-d25607fb6cc2",
   "metadata": {},
   "source": [
    "## 데이터 불러오기"
   ]
  },
  {
   "cell_type": "code",
   "execution_count": 195,
   "id": "cbaf8739-c563-4f15-a391-7762354fee59",
   "metadata": {},
   "outputs": [
    {
     "ename": "OSError",
     "evalue": "[Errno 22] Invalid argument: 'cluster1.csv'",
     "output_type": "error",
     "traceback": [
      "\u001b[1;31m---------------------------------------------------------------------------\u001b[0m",
      "\u001b[1;31mOSError\u001b[0m                                   Traceback (most recent call last)",
      "Cell \u001b[1;32mIn[195], line 1\u001b[0m\n\u001b[1;32m----> 1\u001b[0m df \u001b[38;5;241m=\u001b[39m pd\u001b[38;5;241m.\u001b[39mread_csv(\u001b[38;5;124m'\u001b[39m\u001b[38;5;124mcluster1.csv\u001b[39m\u001b[38;5;124m'\u001b[39m) \u001b[38;5;66;03m# 각 cluster 파일명이 cluster1_n.csv 로 구성되어 있음. n의 번호만 바꿔주면 됨 \u001b[39;00m\n\u001b[0;32m      2\u001b[0m df \u001b[38;5;241m=\u001b[39m df\u001b[38;5;241m.\u001b[39msort_values(\u001b[38;5;124m'\u001b[39m\u001b[38;5;124mTIMESTAMP\u001b[39m\u001b[38;5;124m'\u001b[39m)\n",
      "File \u001b[1;32m~\\anaconda3\\Lib\\site-packages\\pandas\\io\\parsers\\readers.py:1026\u001b[0m, in \u001b[0;36mread_csv\u001b[1;34m(filepath_or_buffer, sep, delimiter, header, names, index_col, usecols, dtype, engine, converters, true_values, false_values, skipinitialspace, skiprows, skipfooter, nrows, na_values, keep_default_na, na_filter, verbose, skip_blank_lines, parse_dates, infer_datetime_format, keep_date_col, date_parser, date_format, dayfirst, cache_dates, iterator, chunksize, compression, thousands, decimal, lineterminator, quotechar, quoting, doublequote, escapechar, comment, encoding, encoding_errors, dialect, on_bad_lines, delim_whitespace, low_memory, memory_map, float_precision, storage_options, dtype_backend)\u001b[0m\n\u001b[0;32m   1013\u001b[0m kwds_defaults \u001b[38;5;241m=\u001b[39m _refine_defaults_read(\n\u001b[0;32m   1014\u001b[0m     dialect,\n\u001b[0;32m   1015\u001b[0m     delimiter,\n\u001b[1;32m   (...)\u001b[0m\n\u001b[0;32m   1022\u001b[0m     dtype_backend\u001b[38;5;241m=\u001b[39mdtype_backend,\n\u001b[0;32m   1023\u001b[0m )\n\u001b[0;32m   1024\u001b[0m kwds\u001b[38;5;241m.\u001b[39mupdate(kwds_defaults)\n\u001b[1;32m-> 1026\u001b[0m \u001b[38;5;28;01mreturn\u001b[39;00m _read(filepath_or_buffer, kwds)\n",
      "File \u001b[1;32m~\\anaconda3\\Lib\\site-packages\\pandas\\io\\parsers\\readers.py:620\u001b[0m, in \u001b[0;36m_read\u001b[1;34m(filepath_or_buffer, kwds)\u001b[0m\n\u001b[0;32m    617\u001b[0m _validate_names(kwds\u001b[38;5;241m.\u001b[39mget(\u001b[38;5;124m\"\u001b[39m\u001b[38;5;124mnames\u001b[39m\u001b[38;5;124m\"\u001b[39m, \u001b[38;5;28;01mNone\u001b[39;00m))\n\u001b[0;32m    619\u001b[0m \u001b[38;5;66;03m# Create the parser.\u001b[39;00m\n\u001b[1;32m--> 620\u001b[0m parser \u001b[38;5;241m=\u001b[39m TextFileReader(filepath_or_buffer, \u001b[38;5;241m*\u001b[39m\u001b[38;5;241m*\u001b[39mkwds)\n\u001b[0;32m    622\u001b[0m \u001b[38;5;28;01mif\u001b[39;00m chunksize \u001b[38;5;129;01mor\u001b[39;00m iterator:\n\u001b[0;32m    623\u001b[0m     \u001b[38;5;28;01mreturn\u001b[39;00m parser\n",
      "File \u001b[1;32m~\\anaconda3\\Lib\\site-packages\\pandas\\io\\parsers\\readers.py:1620\u001b[0m, in \u001b[0;36mTextFileReader.__init__\u001b[1;34m(self, f, engine, **kwds)\u001b[0m\n\u001b[0;32m   1617\u001b[0m     \u001b[38;5;28mself\u001b[39m\u001b[38;5;241m.\u001b[39moptions[\u001b[38;5;124m\"\u001b[39m\u001b[38;5;124mhas_index_names\u001b[39m\u001b[38;5;124m\"\u001b[39m] \u001b[38;5;241m=\u001b[39m kwds[\u001b[38;5;124m\"\u001b[39m\u001b[38;5;124mhas_index_names\u001b[39m\u001b[38;5;124m\"\u001b[39m]\n\u001b[0;32m   1619\u001b[0m \u001b[38;5;28mself\u001b[39m\u001b[38;5;241m.\u001b[39mhandles: IOHandles \u001b[38;5;241m|\u001b[39m \u001b[38;5;28;01mNone\u001b[39;00m \u001b[38;5;241m=\u001b[39m \u001b[38;5;28;01mNone\u001b[39;00m\n\u001b[1;32m-> 1620\u001b[0m \u001b[38;5;28mself\u001b[39m\u001b[38;5;241m.\u001b[39m_engine \u001b[38;5;241m=\u001b[39m \u001b[38;5;28mself\u001b[39m\u001b[38;5;241m.\u001b[39m_make_engine(f, \u001b[38;5;28mself\u001b[39m\u001b[38;5;241m.\u001b[39mengine)\n",
      "File \u001b[1;32m~\\anaconda3\\Lib\\site-packages\\pandas\\io\\parsers\\readers.py:1880\u001b[0m, in \u001b[0;36mTextFileReader._make_engine\u001b[1;34m(self, f, engine)\u001b[0m\n\u001b[0;32m   1878\u001b[0m     \u001b[38;5;28;01mif\u001b[39;00m \u001b[38;5;124m\"\u001b[39m\u001b[38;5;124mb\u001b[39m\u001b[38;5;124m\"\u001b[39m \u001b[38;5;129;01mnot\u001b[39;00m \u001b[38;5;129;01min\u001b[39;00m mode:\n\u001b[0;32m   1879\u001b[0m         mode \u001b[38;5;241m+\u001b[39m\u001b[38;5;241m=\u001b[39m \u001b[38;5;124m\"\u001b[39m\u001b[38;5;124mb\u001b[39m\u001b[38;5;124m\"\u001b[39m\n\u001b[1;32m-> 1880\u001b[0m \u001b[38;5;28mself\u001b[39m\u001b[38;5;241m.\u001b[39mhandles \u001b[38;5;241m=\u001b[39m get_handle(\n\u001b[0;32m   1881\u001b[0m     f,\n\u001b[0;32m   1882\u001b[0m     mode,\n\u001b[0;32m   1883\u001b[0m     encoding\u001b[38;5;241m=\u001b[39m\u001b[38;5;28mself\u001b[39m\u001b[38;5;241m.\u001b[39moptions\u001b[38;5;241m.\u001b[39mget(\u001b[38;5;124m\"\u001b[39m\u001b[38;5;124mencoding\u001b[39m\u001b[38;5;124m\"\u001b[39m, \u001b[38;5;28;01mNone\u001b[39;00m),\n\u001b[0;32m   1884\u001b[0m     compression\u001b[38;5;241m=\u001b[39m\u001b[38;5;28mself\u001b[39m\u001b[38;5;241m.\u001b[39moptions\u001b[38;5;241m.\u001b[39mget(\u001b[38;5;124m\"\u001b[39m\u001b[38;5;124mcompression\u001b[39m\u001b[38;5;124m\"\u001b[39m, \u001b[38;5;28;01mNone\u001b[39;00m),\n\u001b[0;32m   1885\u001b[0m     memory_map\u001b[38;5;241m=\u001b[39m\u001b[38;5;28mself\u001b[39m\u001b[38;5;241m.\u001b[39moptions\u001b[38;5;241m.\u001b[39mget(\u001b[38;5;124m\"\u001b[39m\u001b[38;5;124mmemory_map\u001b[39m\u001b[38;5;124m\"\u001b[39m, \u001b[38;5;28;01mFalse\u001b[39;00m),\n\u001b[0;32m   1886\u001b[0m     is_text\u001b[38;5;241m=\u001b[39mis_text,\n\u001b[0;32m   1887\u001b[0m     errors\u001b[38;5;241m=\u001b[39m\u001b[38;5;28mself\u001b[39m\u001b[38;5;241m.\u001b[39moptions\u001b[38;5;241m.\u001b[39mget(\u001b[38;5;124m\"\u001b[39m\u001b[38;5;124mencoding_errors\u001b[39m\u001b[38;5;124m\"\u001b[39m, \u001b[38;5;124m\"\u001b[39m\u001b[38;5;124mstrict\u001b[39m\u001b[38;5;124m\"\u001b[39m),\n\u001b[0;32m   1888\u001b[0m     storage_options\u001b[38;5;241m=\u001b[39m\u001b[38;5;28mself\u001b[39m\u001b[38;5;241m.\u001b[39moptions\u001b[38;5;241m.\u001b[39mget(\u001b[38;5;124m\"\u001b[39m\u001b[38;5;124mstorage_options\u001b[39m\u001b[38;5;124m\"\u001b[39m, \u001b[38;5;28;01mNone\u001b[39;00m),\n\u001b[0;32m   1889\u001b[0m )\n\u001b[0;32m   1890\u001b[0m \u001b[38;5;28;01massert\u001b[39;00m \u001b[38;5;28mself\u001b[39m\u001b[38;5;241m.\u001b[39mhandles \u001b[38;5;129;01mis\u001b[39;00m \u001b[38;5;129;01mnot\u001b[39;00m \u001b[38;5;28;01mNone\u001b[39;00m\n\u001b[0;32m   1891\u001b[0m f \u001b[38;5;241m=\u001b[39m \u001b[38;5;28mself\u001b[39m\u001b[38;5;241m.\u001b[39mhandles\u001b[38;5;241m.\u001b[39mhandle\n",
      "File \u001b[1;32m~\\anaconda3\\Lib\\site-packages\\pandas\\io\\common.py:873\u001b[0m, in \u001b[0;36mget_handle\u001b[1;34m(path_or_buf, mode, encoding, compression, memory_map, is_text, errors, storage_options)\u001b[0m\n\u001b[0;32m    868\u001b[0m \u001b[38;5;28;01melif\u001b[39;00m \u001b[38;5;28misinstance\u001b[39m(handle, \u001b[38;5;28mstr\u001b[39m):\n\u001b[0;32m    869\u001b[0m     \u001b[38;5;66;03m# Check whether the filename is to be opened in binary mode.\u001b[39;00m\n\u001b[0;32m    870\u001b[0m     \u001b[38;5;66;03m# Binary mode does not support 'encoding' and 'newline'.\u001b[39;00m\n\u001b[0;32m    871\u001b[0m     \u001b[38;5;28;01mif\u001b[39;00m ioargs\u001b[38;5;241m.\u001b[39mencoding \u001b[38;5;129;01mand\u001b[39;00m \u001b[38;5;124m\"\u001b[39m\u001b[38;5;124mb\u001b[39m\u001b[38;5;124m\"\u001b[39m \u001b[38;5;129;01mnot\u001b[39;00m \u001b[38;5;129;01min\u001b[39;00m ioargs\u001b[38;5;241m.\u001b[39mmode:\n\u001b[0;32m    872\u001b[0m         \u001b[38;5;66;03m# Encoding\u001b[39;00m\n\u001b[1;32m--> 873\u001b[0m         handle \u001b[38;5;241m=\u001b[39m \u001b[38;5;28mopen\u001b[39m(\n\u001b[0;32m    874\u001b[0m             handle,\n\u001b[0;32m    875\u001b[0m             ioargs\u001b[38;5;241m.\u001b[39mmode,\n\u001b[0;32m    876\u001b[0m             encoding\u001b[38;5;241m=\u001b[39mioargs\u001b[38;5;241m.\u001b[39mencoding,\n\u001b[0;32m    877\u001b[0m             errors\u001b[38;5;241m=\u001b[39merrors,\n\u001b[0;32m    878\u001b[0m             newline\u001b[38;5;241m=\u001b[39m\u001b[38;5;124m\"\u001b[39m\u001b[38;5;124m\"\u001b[39m,\n\u001b[0;32m    879\u001b[0m         )\n\u001b[0;32m    880\u001b[0m     \u001b[38;5;28;01melse\u001b[39;00m:\n\u001b[0;32m    881\u001b[0m         \u001b[38;5;66;03m# Binary mode\u001b[39;00m\n\u001b[0;32m    882\u001b[0m         handle \u001b[38;5;241m=\u001b[39m \u001b[38;5;28mopen\u001b[39m(handle, ioargs\u001b[38;5;241m.\u001b[39mmode)\n",
      "\u001b[1;31mOSError\u001b[0m: [Errno 22] Invalid argument: 'cluster1.csv'"
     ]
    }
   ],
   "source": [
    "df = pd.read_csv('cluster1.csv') # 각 cluster 파일명이 cluster1_n.csv 로 구성되어 있음. n의 번호만 바꿔주면 됨 \n",
    "df = df.sort_values('TIMESTAMP')"
   ]
  },
  {
   "cell_type": "markdown",
   "id": "57ef5d0d-e571-41e2-93a5-e1f0078d0a5b",
   "metadata": {},
   "source": [
    "## 정규화"
   ]
  },
  {
   "cell_type": "code",
   "execution_count": 43,
   "id": "1b244cdd-9b07-4f17-acbf-05eab3609262",
   "metadata": {},
   "outputs": [],
   "source": [
    "scaler = MinMaxScaler()\n",
    "df[FEATURES] = scaler.fit_transform(df[FEATURES])"
   ]
  },
  {
   "cell_type": "markdown",
   "id": "06d2e0d3-bb6a-4c77-8110-8bc872937151",
   "metadata": {},
   "source": [
    "## 시퀀스 데이터 생성 함수"
   ]
  },
  {
   "cell_type": "code",
   "execution_count": 45,
   "id": "98c16e32-607b-4194-8889-79464db24ef3",
   "metadata": {},
   "outputs": [],
   "source": [
    "def create_multistep_sequences(data, window_size, target_offsets):\n",
    "    X, y = [], []\n",
    "    for i in range(len(data) - window_size - max(target_offsets)):\n",
    "        X.append(data[i:i+window_size])\n",
    "        y.append([data[i+window_size+offset-1] for offset in target_offsets])\n",
    "    return np.array(X), np.array(y)"
   ]
  },
  {
   "cell_type": "markdown",
   "id": "81d15b3e-cb67-4910-b936-39e62b7a6ff7",
   "metadata": {},
   "source": [
    "## LSTM 모델 정의 함수"
   ]
  },
  {
   "cell_type": "code",
   "execution_count": 49,
   "id": "d30ba7c6-fb77-443b-b034-9ab1ce762466",
   "metadata": {},
   "outputs": [],
   "source": [
    "def build_model(input_shape, output_dim):\n",
    "    model = Sequential([\n",
    "        LSTM(64, input_shape=input_shape),\n",
    "        Dense(32, activation='relu'),\n",
    "        Dense(output_dim)\n",
    "    ])\n",
    "    model.compile(optimizer='adam', loss='mse')\n",
    "    return model"
   ]
  },
  {
   "cell_type": "markdown",
   "id": "ea530c34-1e68-4ee6-a0ef-f4e3317654a1",
   "metadata": {},
   "source": [
    "## 데이터 준비 및 모델 학습"
   ]
  },
  {
   "cell_type": "code",
   "execution_count": 51,
   "id": "6bb8d0e9-0033-4ef2-8e35-477b1cd8c209",
   "metadata": {
    "scrolled": true
   },
   "outputs": [],
   "source": [
    "X, y = create_multistep_sequences(df[FEATURES].values, WINDOW_SIZE, TARGET_OFFSETS)\n",
    "y = y.reshape((y.shape[0], -1))  # flatten: (샘플 수, 타겟시점 x 변수)"
   ]
  },
  {
   "cell_type": "code",
   "execution_count": 53,
   "id": "613e0fbc-04c1-492f-916d-23059bbe6d74",
   "metadata": {},
   "outputs": [],
   "source": [
    "split = int(len(X) * 0.8)\n",
    "X_train, X_test = X[:split], X[split:]\n",
    "y_train, y_test = y[:split], y[split:]"
   ]
  },
  {
   "cell_type": "code",
   "execution_count": 57,
   "id": "5d492611-e285-4682-9eb4-1d060c472693",
   "metadata": {
    "scrolled": true
   },
   "outputs": [
    {
     "name": "stdout",
     "output_type": "stream",
     "text": [
      "Epoch 1/10\n"
     ]
    },
    {
     "name": "stderr",
     "output_type": "stream",
     "text": [
      "C:\\Users\\user\\anaconda3\\Lib\\site-packages\\keras\\src\\layers\\rnn\\rnn.py:200: UserWarning: Do not pass an `input_shape`/`input_dim` argument to a layer. When using Sequential models, prefer using an `Input(shape)` object as the first layer in the model instead.\n",
      "  super().__init__(**kwargs)\n"
     ]
    },
    {
     "name": "stdout",
     "output_type": "stream",
     "text": [
      "\u001b[1m1089/1089\u001b[0m \u001b[32m━━━━━━━━━━━━━━━━━━━━\u001b[0m\u001b[37m\u001b[0m \u001b[1m18s\u001b[0m 13ms/step - loss: 0.0612\n",
      "Epoch 2/10\n",
      "\u001b[1m1089/1089\u001b[0m \u001b[32m━━━━━━━━━━━━━━━━━━━━\u001b[0m\u001b[37m\u001b[0m \u001b[1m14s\u001b[0m 13ms/step - loss: 0.0402\n",
      "Epoch 3/10\n",
      "\u001b[1m1089/1089\u001b[0m \u001b[32m━━━━━━━━━━━━━━━━━━━━\u001b[0m\u001b[37m\u001b[0m \u001b[1m14s\u001b[0m 12ms/step - loss: 0.0394\n",
      "Epoch 4/10\n",
      "\u001b[1m1089/1089\u001b[0m \u001b[32m━━━━━━━━━━━━━━━━━━━━\u001b[0m\u001b[37m\u001b[0m \u001b[1m15s\u001b[0m 13ms/step - loss: 0.0393\n",
      "Epoch 5/10\n",
      "\u001b[1m1089/1089\u001b[0m \u001b[32m━━━━━━━━━━━━━━━━━━━━\u001b[0m\u001b[37m\u001b[0m \u001b[1m14s\u001b[0m 13ms/step - loss: 0.0390\n",
      "Epoch 6/10\n",
      "\u001b[1m1089/1089\u001b[0m \u001b[32m━━━━━━━━━━━━━━━━━━━━\u001b[0m\u001b[37m\u001b[0m \u001b[1m20s\u001b[0m 12ms/step - loss: 0.0386\n",
      "Epoch 7/10\n",
      "\u001b[1m1089/1089\u001b[0m \u001b[32m━━━━━━━━━━━━━━━━━━━━\u001b[0m\u001b[37m\u001b[0m \u001b[1m13s\u001b[0m 12ms/step - loss: 0.0383\n",
      "Epoch 8/10\n",
      "\u001b[1m1089/1089\u001b[0m \u001b[32m━━━━━━━━━━━━━━━━━━━━\u001b[0m\u001b[37m\u001b[0m \u001b[1m15s\u001b[0m 14ms/step - loss: 0.0381\n",
      "Epoch 9/10\n",
      "\u001b[1m1089/1089\u001b[0m \u001b[32m━━━━━━━━━━━━━━━━━━━━\u001b[0m\u001b[37m\u001b[0m \u001b[1m15s\u001b[0m 14ms/step - loss: 0.0377\n",
      "Epoch 10/10\n",
      "\u001b[1m1089/1089\u001b[0m \u001b[32m━━━━━━━━━━━━━━━━━━━━\u001b[0m\u001b[37m\u001b[0m \u001b[1m20s\u001b[0m 13ms/step - loss: 0.0375\n"
     ]
    },
    {
     "data": {
      "text/plain": [
       "<keras.src.callbacks.history.History at 0x27bfca0ffe0>"
      ]
     },
     "execution_count": 57,
     "metadata": {},
     "output_type": "execute_result"
    }
   ],
   "source": [
    "model = build_model(X_train.shape[1:], y_train.shape[1])\n",
    "model.fit(X_train, y_train, epochs=10, batch_size=32, verbose=1)"
   ]
  },
  {
   "cell_type": "markdown",
   "id": "f3097e0a-57d6-4665-ae48-3f5d17446c3a",
   "metadata": {},
   "source": [
    "## 모델 저장"
   ]
  },
  {
   "cell_type": "code",
   "execution_count": 61,
   "id": "3f4af430-ed20-4ae2-b28c-72e9bd7a73f0",
   "metadata": {},
   "outputs": [
    {
     "name": "stdout",
     "output_type": "stream",
     "text": [
      "모델이 저장되었습니다: ./saved_model/lstm_cluster_2.keras\n"
     ]
    }
   ],
   "source": [
    "os.makedirs(os.path.dirname(MODEL_PATH), exist_ok=True)\n",
    "model.save(MODEL_PATH)\n",
    "print(f\"모델이 저장되었습니다: {MODEL_PATH}\")"
   ]
  },
  {
   "cell_type": "markdown",
   "id": "02a23c7e-cc5a-4f14-8d79-9257277b18ce",
   "metadata": {},
   "source": [
    "## 예측 결과 및 역변환"
   ]
  },
  {
   "cell_type": "code",
   "execution_count": 65,
   "id": "99875772-0381-4c75-84f1-f635e9f4dcff",
   "metadata": {},
   "outputs": [
    {
     "name": "stdout",
     "output_type": "stream",
     "text": [
      "\u001b[1m273/273\u001b[0m \u001b[32m━━━━━━━━━━━━━━━━━━━━\u001b[0m\u001b[37m\u001b[0m \u001b[1m2s\u001b[0m 6ms/step\n"
     ]
    }
   ],
   "source": [
    "y_pred = model.predict(X_test)\n",
    "y_pred = y_pred.reshape((-1, len(TARGET_OFFSETS), len(FEATURES)))\n",
    "y_pred_inverse = np.array([\n",
    "    [scaler.inverse_transform(step.reshape(1, -1))[0] for step in sample]\n",
    "    for sample in y_pred\n",
    "])"
   ]
  },
  {
   "cell_type": "markdown",
   "id": "be1b7f25-16be-4dfa-bac5-7b1478481735",
   "metadata": {},
   "source": [
    "## 결과 출력"
   ]
  },
  {
   "cell_type": "code",
   "execution_count": 76,
   "id": "1083bc38-ebb9-47e9-af52-a06c8ede5fdd",
   "metadata": {},
   "outputs": [
    {
     "name": "stdout",
     "output_type": "stream",
     "text": [
      "\n",
      " 6시간 후 예측값 (샘플 5개):\n",
      "  샘플 1: LAT=31.3561  LON=122.9937  COG=205.7588  HEADING=229.5551  \n",
      "  샘플 2: LAT=31.3763  LON=123.0131  COG=209.0277  HEADING=233.5191  \n",
      "  샘플 3: LAT=31.3715  LON=123.0078  COG=208.8230  HEADING=232.1544  \n",
      "  샘플 4: LAT=31.3410  LON=122.9394  COG=204.8954  HEADING=225.9318  \n",
      "  샘플 5: LAT=31.3590  LON=122.9541  COG=206.1213  HEADING=227.2160  \n",
      "\n",
      " 9시간 후 예측값 (샘플 5개):\n",
      "  샘플 1: LAT=31.4474  LON=123.1070  COG=201.6828  HEADING=215.5337  \n",
      "  샘플 2: LAT=31.4780  LON=123.1284  COG=203.7963  HEADING=218.7148  \n",
      "  샘플 3: LAT=31.4762  LON=123.1029  COG=203.4740  HEADING=219.5950  \n",
      "  샘플 4: LAT=31.4389  LON=123.0249  COG=200.0087  HEADING=217.4049  \n",
      "  샘플 5: LAT=31.4495  LON=123.0279  COG=201.7469  HEADING=217.4693  \n",
      "\n",
      " 12시간 후 예측값 (샘플 5개):\n",
      "  샘플 1: LAT=31.4186  LON=123.2103  COG=198.4054  HEADING=217.3765  \n",
      "  샘플 2: LAT=31.4478  LON=123.2438  COG=200.8840  HEADING=220.8494  \n",
      "  샘플 3: LAT=31.4363  LON=123.2060  COG=201.6132  HEADING=221.4583  \n",
      "  샘플 4: LAT=31.3895  LON=123.0822  COG=199.2906  HEADING=218.0507  \n",
      "  샘플 5: LAT=31.4019  LON=123.1020  COG=199.4865  HEADING=218.6536  \n"
     ]
    }
   ],
   "source": [
    "feature_names = ['LAT', 'LON', 'COG', 'HEADING']\n",
    "\n",
    "for i, offset in enumerate(TARGET_OFFSETS):\n",
    "    print(f\"\\n {offset//6}시간 후 예측값 (샘플 5개):\")\n",
    "    for j, sample in enumerate(y_pred_inverse[:5, i, :]):\n",
    "        print(f\"  샘플 {j+1}: \", end=\"\")\n",
    "        for name, value in zip(feature_names, sample):\n",
    "            print(f\"{name}={value:.4f}  \", end=\"\")\n",
    "        print() "
   ]
  },
  {
   "cell_type": "markdown",
   "id": "7c423665-9ea9-483d-8c94-b6161c81f9d4",
   "metadata": {},
   "source": [
    "# 새로운 선박 데이터에 대해 예측"
   ]
  },
  {
   "cell_type": "code",
   "execution_count": 104,
   "id": "2c24e3ed-64f3-4a79-92a8-ef5468a495c0",
   "metadata": {},
   "outputs": [],
   "source": [
    "import pandas as pd\n",
    "import numpy as np\n",
    "import tensorflow as tf\n",
    "from tensorflow.keras.models import load_model\n",
    "from sklearn.preprocessing import MinMaxScaler\n",
    "from sklearn.metrics import mean_absolute_error, mean_squared_error, r2_score\n",
    "import folium"
   ]
  },
  {
   "cell_type": "markdown",
   "id": "7c7c07c6-8813-42b6-950b-3f9a9c106712",
   "metadata": {},
   "source": [
    "## 하이퍼 파라미터 설정"
   ]
  },
  {
   "cell_type": "code",
   "execution_count": 106,
   "id": "3d34606f-bcd4-4756-85f6-749b0f21795f",
   "metadata": {},
   "outputs": [],
   "source": [
    "WINDOW_SIZE = 18  # 3시간\n",
    "TARGET_OFFSETS = [36, 54, 72]\n",
    "FEATURES = ['LAT', 'LON', 'COG', 'HEADING']\n",
    "MODEL_PATH = './saved_model/lstm_cluster_2.keras'\n",
    "feature_names = FEATURES"
   ]
  },
  {
   "cell_type": "markdown",
   "id": "9c670ba1-f402-40cd-b231-e5f5e7d4fe8d",
   "metadata": {},
   "source": [
    "## 새로운 선박 데이터 불러오기"
   ]
  },
  {
   "cell_type": "code",
   "execution_count": 108,
   "id": "0f221e50-237d-4ff6-9e24-5580949f82bd",
   "metadata": {},
   "outputs": [],
   "source": [
    "new_ship_df = pd.read_csv('./dataset/CNSHA/06724e0f-5a08-3aa8-b42c-97acf4f8102d.csv') # 파일명 변경 필요\n",
    "new_ship_df = new_ship_df.sort_values('TIMESTAMP')"
   ]
  },
  {
   "cell_type": "markdown",
   "id": "eff3f8d9-7bf8-4372-abf5-3c33dc3bcb2f",
   "metadata": {},
   "source": [
    "## 정규화 \n",
    "- 모델 학습했을 때와 동일한 scaler로 맞춰야 함"
   ]
  },
  {
   "cell_type": "code",
   "execution_count": 110,
   "id": "8031a211-1234-4728-8e26-8bf9715c4b44",
   "metadata": {},
   "outputs": [],
   "source": [
    "scaler = MinMaxScaler()\n",
    "scaler.fit(new_ship_df[FEATURES])\n",
    "scaled_data = scaler.transform(new_ship_df[FEATURES])"
   ]
  },
  {
   "cell_type": "markdown",
   "id": "131631a3-986d-499e-ade9-c439fae50eb8",
   "metadata": {},
   "source": [
    "## 시퀀스 함수 생성"
   ]
  },
  {
   "cell_type": "code",
   "execution_count": 112,
   "id": "e664923c-779d-41a6-8c36-a3fb28677419",
   "metadata": {},
   "outputs": [],
   "source": [
    "def create_input_sequence(data, window_size):\n",
    "    X = []\n",
    "    for i in range(len(data) - window_size + 1):\n",
    "        X.append(data[i:i+window_size])\n",
    "    return np.array(X)\n",
    "\n",
    "X_input = create_input_sequence(scaled_data, WINDOW_SIZE)"
   ]
  },
  {
   "cell_type": "markdown",
   "id": "ed3c57a3-23b5-4716-9126-babdd6340cbc",
   "metadata": {},
   "source": [
    "## 모델 예측"
   ]
  },
  {
   "cell_type": "code",
   "execution_count": 114,
   "id": "a421aae1-3ba6-46c2-a023-78617247b09c",
   "metadata": {},
   "outputs": [
    {
     "name": "stdout",
     "output_type": "stream",
     "text": [
      "\u001b[1m8/8\u001b[0m \u001b[32m━━━━━━━━━━━━━━━━━━━━\u001b[0m\u001b[37m\u001b[0m \u001b[1m1s\u001b[0m 52ms/step\n"
     ]
    }
   ],
   "source": [
    "model = load_model(MODEL_PATH)\n",
    "predicted = model.predict(X_input)\n",
    "predicted = predicted.reshape((-1, len(TARGET_OFFSETS), len(FEATURES)))\n",
    "\n",
    "predicted_inverse = np.array([\n",
    "    [scaler.inverse_transform(step.reshape(1, -1))[0] for step in sample]\n",
    "    for sample in predicted\n",
    "])"
   ]
  },
  {
   "cell_type": "markdown",
   "id": "3c5ddd22-0fd2-4b1a-90f3-6031f850eb83",
   "metadata": {},
   "source": [
    "## 모델 성능 평가 지표\n",
    "- 개별 선박을 대입했을 때의 예측값과 실제값을 비교해서 평가\n",
    "- 학습한 LSTM 모델에 특정 선박을 대입했을 때, 이 모델이 얼마나 정확하게 그 선박의 미래 항로를 예측했는가?\" 를 평가하는 지표\n",
    "- 지표 / 의미 / 해석 / 좋은 값\n",
    "     - MAE (Mean Absolute Error)\t/ 평균 절댓값 오차 / 예측값과 실제값의 평균 거리 / 0에 가까울수록 좋음\n",
    "     - RMSE (Root Mean Squared Error) / 평균 제곱 오차의 루트 / 큰 오차에 더 민감함 / 0에 가까울수록 좋음\n",
    "     - R² (결정계수) / 설명력 / 예측값이 실제값을 얼마나 잘 설명하는지 / 1에 가까울수록 좋음"
   ]
  },
  {
   "cell_type": "code",
   "execution_count": 122,
   "id": "bef2b4b6-681e-453c-8a81-c97b8766b4ff",
   "metadata": {},
   "outputs": [
    {
     "name": "stdout",
     "output_type": "stream",
     "text": [
      "\n",
      " 예측 성능 평가 지표:\n",
      "\n",
      " 6시간 후 성능 평가:\n",
      "  LAT: MAE=0.3834, RMSE=0.3925, R²=0.7306\n",
      "  LON: MAE=0.5952, RMSE=0.7337, R²=0.7673\n",
      "  COG: MAE=10.2357, RMSE=11.7286, R²=0.0742\n",
      "  HEADING: MAE=13.3528, RMSE=15.2453, R²=-0.0896\n",
      "\n",
      " 9시간 후 성능 평가:\n",
      "  LAT: MAE=0.4913, RMSE=0.5130, R²=0.3946\n",
      "  LON: MAE=0.9120, RMSE=1.0287, R²=0.5316\n",
      "  COG: MAE=13.9998, RMSE=17.0277, R²=0.0159\n",
      "  HEADING: MAE=13.2797, RMSE=17.0138, R²=0.3456\n",
      "\n",
      " 12시간 후 성능 평가:\n",
      "  LAT: MAE=0.6189, RMSE=0.6454, R²=-0.4969\n",
      "  LON: MAE=1.3598, RMSE=1.4957, R²=-0.0358\n",
      "  COG: MAE=15.7010, RMSE=20.8702, R²=0.0376\n",
      "  HEADING: MAE=15.8036, RMSE=21.2206, R²=0.2046\n"
     ]
    }
   ],
   "source": [
    "num_samples = predicted_inverse.shape[0]\n",
    "y_true_all = []\n",
    "\n",
    "for i, offset in enumerate(TARGET_OFFSETS):\n",
    "    start_idx = WINDOW_SIZE + offset - 1\n",
    "    end_idx = start_idx + num_samples\n",
    "\n",
    "    # 선박 데이터 길이를 넘는 경우, 자를 수 없음 → 평가 스킵\n",
    "    if end_idx > len(new_ship_df):\n",
    "        print(f\"❗ {offset} 오프셋: 데이터 부족으로 평가 생략\")\n",
    "        continue\n",
    "\n",
    "    y_true = new_ship_df[FEATURES].iloc[start_idx:end_idx].values\n",
    "    y_true_all.append(y_true)\n",
    "\n",
    "# 평가 가능한 시점만 진행\n",
    "if len(y_true_all) == len(TARGET_OFFSETS):  # 모든 시점 평가 가능한 경우\n",
    "    y_true_all = np.stack(y_true_all, axis=1)  # (샘플 수, 3, 4)\n",
    "\n",
    "    print(\"\\n 예측 성능 평가 지표:\")\n",
    "    for i, offset in enumerate(TARGET_OFFSETS):\n",
    "        print(f\"\\n {offset//6}시간 후 성능 평가:\")\n",
    "        for j, name in enumerate(FEATURES):\n",
    "            y_true = y_true_all[:, i, j]\n",
    "            y_pred = predicted_inverse[:, i, j]\n",
    "            mae = mean_absolute_error(y_true, y_pred)\n",
    "            rmse = np.sqrt(mean_squared_error(y_true, y_pred))\n",
    "            r2 = r2_score(y_true, y_pred)\n",
    "            print(f\"  {name}: MAE={mae:.4f}, RMSE={rmse:.4f}, R²={r2:.4f}\")\n",
    "else:\n",
    "    print(\"\\n 평가 가능한 offset이 부족하여 성능 평가 생략됨.\")"
   ]
  },
  {
   "cell_type": "markdown",
   "id": "6b429bc5-5c3d-4833-a70f-7f860c0ea632",
   "metadata": {},
   "source": [
    "## Folium 시각화"
   ]
  },
  {
   "cell_type": "code",
   "execution_count": 124,
   "id": "b08cb2a1-19c6-4755-b1ee-4fe7b7c34093",
   "metadata": {},
   "outputs": [],
   "source": [
    "latlon_actual = new_ship_df[['LAT', 'LON']].values\n",
    "points_idx = [18, 36, 54, 72]\n",
    "actual_points = [latlon_actual[i] for i in points_idx if i < len(latlon_actual)]\n",
    "predicted_latlons = [predicted_inverse[0, i, :2] for i in range(len(TARGET_OFFSETS))]\n",
    "\n",
    "map_center = actual_points[0] if actual_points else [33.0, 127.0]\n",
    "m = folium.Map(location=map_center, zoom_start=7)"
   ]
  },
  {
   "cell_type": "markdown",
   "id": "e2059481-06a4-4626-96d0-28a4b7b11e16",
   "metadata": {},
   "source": [
    "### 실제 항로"
   ]
  },
  {
   "cell_type": "code",
   "execution_count": 126,
   "id": "47fdc9b3-c2e8-453d-b4f9-5ae0d77f78de",
   "metadata": {},
   "outputs": [
    {
     "data": {
      "text/plain": [
       "<folium.vector_layers.PolyLine at 0x27bf4bbcf80>"
      ]
     },
     "execution_count": 126,
     "metadata": {},
     "output_type": "execute_result"
    }
   ],
   "source": [
    "folium.PolyLine(locations=latlon_actual[:points_idx[0]+1], color='blue', weight=3, tooltip='실제 항로').add_to(m)"
   ]
  },
  {
   "cell_type": "markdown",
   "id": "a3c78fc2-86a1-4ce8-9f08-2620dc7d469e",
   "metadata": {},
   "source": [
    "### 실제 항로의 3시간, 6시간, 9시간, 12시간의 좌표"
   ]
  },
  {
   "cell_type": "code",
   "execution_count": 140,
   "id": "3d928798-2e4c-466d-ae80-b4799f8b529d",
   "metadata": {},
   "outputs": [
    {
     "data": {
      "text/plain": [
       "<folium.vector_layers.PolyLine at 0x27bf4b4c560>"
      ]
     },
     "execution_count": 140,
     "metadata": {},
     "output_type": "execute_result"
    }
   ],
   "source": [
    "# 전체 항로를 선으로 표시하려면 이렇게 수정\n",
    "folium.PolyLine(\n",
    "    locations=latlon_actual,   # 전체 궤적\n",
    "    color='blue',\n",
    "    weight=3,\n",
    "    tooltip='실제 전체 항로'\n",
    ").add_to(m)"
   ]
  },
  {
   "cell_type": "markdown",
   "id": "8871b58d-c614-4f38-b91f-c2d92bdc454c",
   "metadata": {},
   "source": [
    "### 예측 지점 색상별 표시"
   ]
  },
  {
   "cell_type": "code",
   "execution_count": 144,
   "id": "066d7f40-e468-4c3b-97c1-39d2beb10b58",
   "metadata": {},
   "outputs": [
    {
     "data": {
      "text/plain": [
       "<folium.vector_layers.PolyLine at 0x27bf5fe2090>"
      ]
     },
     "execution_count": 144,
     "metadata": {},
     "output_type": "execute_result"
    }
   ],
   "source": [
    "pred_colors = ['orange', 'red', 'green']\n",
    "for i, (idx, pred) in enumerate(zip([6, 9, 12], predicted_latlons)):\n",
    "    folium.CircleMarker(location=pred, radius=6, color=pred_colors[i], fill=True,\n",
    "                        fill_color=pred_colors[i], tooltip=f'예측 {idx}h').add_to(m)\n",
    "\n",
    "folium.PolyLine(\n",
    "    locations=predicted_latlons,\n",
    "    color='purple',\n",
    "    weight=3,\n",
    "    tooltip='예측 항로'\n",
    ").add_to(m)"
   ]
  },
  {
   "cell_type": "code",
   "execution_count": 146,
   "id": "e7cf144a-5dac-4ab8-93a2-514ab6f09b06",
   "metadata": {
    "scrolled": true
   },
   "outputs": [
    {
     "data": {
      "text/html": [
       "<div style=\"width:100%;\"><div style=\"position:relative;width:100%;height:0;padding-bottom:60%;\"><span style=\"color:#565656\">Make this Notebook Trusted to load map: File -> Trust Notebook</span><iframe srcdoc=\"&lt;!DOCTYPE html&gt;\n",
       "&lt;html&gt;\n",
       "&lt;head&gt;\n",
       "    \n",
       "    &lt;meta http-equiv=&quot;content-type&quot; content=&quot;text/html; charset=UTF-8&quot; /&gt;\n",
       "    \n",
       "        &lt;script&gt;\n",
       "            L_NO_TOUCH = false;\n",
       "            L_DISABLE_3D = false;\n",
       "        &lt;/script&gt;\n",
       "    \n",
       "    &lt;style&gt;html, body {width: 100%;height: 100%;margin: 0;padding: 0;}&lt;/style&gt;\n",
       "    &lt;style&gt;#map {position:absolute;top:0;bottom:0;right:0;left:0;}&lt;/style&gt;\n",
       "    &lt;script src=&quot;https://cdn.jsdelivr.net/npm/leaflet@1.9.3/dist/leaflet.js&quot;&gt;&lt;/script&gt;\n",
       "    &lt;script src=&quot;https://code.jquery.com/jquery-3.7.1.min.js&quot;&gt;&lt;/script&gt;\n",
       "    &lt;script src=&quot;https://cdn.jsdelivr.net/npm/bootstrap@5.2.2/dist/js/bootstrap.bundle.min.js&quot;&gt;&lt;/script&gt;\n",
       "    &lt;script src=&quot;https://cdnjs.cloudflare.com/ajax/libs/Leaflet.awesome-markers/2.0.2/leaflet.awesome-markers.js&quot;&gt;&lt;/script&gt;\n",
       "    &lt;link rel=&quot;stylesheet&quot; href=&quot;https://cdn.jsdelivr.net/npm/leaflet@1.9.3/dist/leaflet.css&quot;/&gt;\n",
       "    &lt;link rel=&quot;stylesheet&quot; href=&quot;https://cdn.jsdelivr.net/npm/bootstrap@5.2.2/dist/css/bootstrap.min.css&quot;/&gt;\n",
       "    &lt;link rel=&quot;stylesheet&quot; href=&quot;https://netdna.bootstrapcdn.com/bootstrap/3.0.0/css/bootstrap-glyphicons.css&quot;/&gt;\n",
       "    &lt;link rel=&quot;stylesheet&quot; href=&quot;https://cdn.jsdelivr.net/npm/@fortawesome/fontawesome-free@6.2.0/css/all.min.css&quot;/&gt;\n",
       "    &lt;link rel=&quot;stylesheet&quot; href=&quot;https://cdnjs.cloudflare.com/ajax/libs/Leaflet.awesome-markers/2.0.2/leaflet.awesome-markers.css&quot;/&gt;\n",
       "    &lt;link rel=&quot;stylesheet&quot; href=&quot;https://cdn.jsdelivr.net/gh/python-visualization/folium/folium/templates/leaflet.awesome.rotate.min.css&quot;/&gt;\n",
       "    \n",
       "            &lt;meta name=&quot;viewport&quot; content=&quot;width=device-width,\n",
       "                initial-scale=1.0, maximum-scale=1.0, user-scalable=no&quot; /&gt;\n",
       "            &lt;style&gt;\n",
       "                #map_35df8c5dc106e70ffbc313c7a8e9d0b0 {\n",
       "                    position: relative;\n",
       "                    width: 100.0%;\n",
       "                    height: 100.0%;\n",
       "                    left: 0.0%;\n",
       "                    top: 0.0%;\n",
       "                }\n",
       "                .leaflet-container { font-size: 1rem; }\n",
       "            &lt;/style&gt;\n",
       "        \n",
       "&lt;/head&gt;\n",
       "&lt;body&gt;\n",
       "    \n",
       "    \n",
       "            &lt;div class=&quot;folium-map&quot; id=&quot;map_35df8c5dc106e70ffbc313c7a8e9d0b0&quot; &gt;&lt;/div&gt;\n",
       "        \n",
       "&lt;/body&gt;\n",
       "&lt;script&gt;\n",
       "    \n",
       "    \n",
       "            var map_35df8c5dc106e70ffbc313c7a8e9d0b0 = L.map(\n",
       "                &quot;map_35df8c5dc106e70ffbc313c7a8e9d0b0&quot;,\n",
       "                {\n",
       "                    center: [34.39341667, 128.82773333],\n",
       "                    crs: L.CRS.EPSG3857,\n",
       "                    ...{\n",
       "  &quot;zoom&quot;: 7,\n",
       "  &quot;zoomControl&quot;: true,\n",
       "  &quot;preferCanvas&quot;: false,\n",
       "}\n",
       "\n",
       "                }\n",
       "            );\n",
       "\n",
       "            \n",
       "\n",
       "        \n",
       "    \n",
       "            var tile_layer_3e9cdfe5f26a18589adad3a474523835 = L.tileLayer(\n",
       "                &quot;https://tile.openstreetmap.org/{z}/{x}/{y}.png&quot;,\n",
       "                {\n",
       "  &quot;minZoom&quot;: 0,\n",
       "  &quot;maxZoom&quot;: 19,\n",
       "  &quot;maxNativeZoom&quot;: 19,\n",
       "  &quot;noWrap&quot;: false,\n",
       "  &quot;attribution&quot;: &quot;\\u0026copy; \\u003ca href=\\&quot;https://www.openstreetmap.org/copyright\\&quot;\\u003eOpenStreetMap\\u003c/a\\u003e contributors&quot;,\n",
       "  &quot;subdomains&quot;: &quot;abc&quot;,\n",
       "  &quot;detectRetina&quot;: false,\n",
       "  &quot;tms&quot;: false,\n",
       "  &quot;opacity&quot;: 1,\n",
       "}\n",
       "\n",
       "            );\n",
       "        \n",
       "    \n",
       "            tile_layer_3e9cdfe5f26a18589adad3a474523835.addTo(map_35df8c5dc106e70ffbc313c7a8e9d0b0);\n",
       "        \n",
       "    \n",
       "            var poly_line_7210fb6e8b0ff4cfb54a6e956fcfc7f3 = L.polyline(\n",
       "                [[35.0415, 129.13203333], [35.00118333, 129.11216667], [34.96673333, 129.09508333], [34.93191667, 129.0771], [34.91241667, 129.06611667], [34.86313333, 129.03478333], [34.83543333, 129.0181], [34.7947, 129.00061667], [34.77395, 128.9937], [34.73663333, 128.98095], [34.7009, 128.96673333], [34.66948333, 128.95331667], [34.61246667, 128.92241667], [34.58366667, 128.9103], [34.55486667, 128.89818333], [34.52693333, 128.88696667], [34.47123333, 128.86333333], [34.432325, 128.84553333], [34.39341667, 128.82773333]],\n",
       "                {&quot;bubblingMouseEvents&quot;: true, &quot;color&quot;: &quot;blue&quot;, &quot;dashArray&quot;: null, &quot;dashOffset&quot;: null, &quot;fill&quot;: false, &quot;fillColor&quot;: &quot;blue&quot;, &quot;fillOpacity&quot;: 0.2, &quot;fillRule&quot;: &quot;evenodd&quot;, &quot;lineCap&quot;: &quot;round&quot;, &quot;lineJoin&quot;: &quot;round&quot;, &quot;noClip&quot;: false, &quot;opacity&quot;: 1.0, &quot;smoothFactor&quot;: 1.0, &quot;stroke&quot;: true, &quot;weight&quot;: 3}\n",
       "            ).addTo(map_35df8c5dc106e70ffbc313c7a8e9d0b0);\n",
       "        \n",
       "    \n",
       "            poly_line_7210fb6e8b0ff4cfb54a6e956fcfc7f3.bindTooltip(\n",
       "                `&lt;div&gt;\n",
       "                     실제 항로\n",
       "                 &lt;/div&gt;`,\n",
       "                {\n",
       "  &quot;sticky&quot;: true,\n",
       "}\n",
       "            );\n",
       "        \n",
       "    \n",
       "            var circle_marker_1bc10000934c13f3e037eb5ceb232605 = L.circleMarker(\n",
       "                [34.39341667, 128.82773333],\n",
       "                {&quot;bubblingMouseEvents&quot;: true, &quot;color&quot;: &quot;blue&quot;, &quot;dashArray&quot;: null, &quot;dashOffset&quot;: null, &quot;fill&quot;: true, &quot;fillColor&quot;: &quot;blue&quot;, &quot;fillOpacity&quot;: 0.2, &quot;fillRule&quot;: &quot;evenodd&quot;, &quot;lineCap&quot;: &quot;round&quot;, &quot;lineJoin&quot;: &quot;round&quot;, &quot;opacity&quot;: 1.0, &quot;radius&quot;: 5, &quot;stroke&quot;: true, &quot;weight&quot;: 3}\n",
       "            ).addTo(map_35df8c5dc106e70ffbc313c7a8e9d0b0);\n",
       "        \n",
       "    \n",
       "            circle_marker_1bc10000934c13f3e037eb5ceb232605.bindTooltip(\n",
       "                `&lt;div&gt;\n",
       "                     실제 3h\n",
       "                 &lt;/div&gt;`,\n",
       "                {\n",
       "  &quot;sticky&quot;: true,\n",
       "}\n",
       "            );\n",
       "        \n",
       "    \n",
       "            var circle_marker_84ed167d0066428b298644a22ca74e55 = L.circleMarker(\n",
       "                [33.892975, 128.30231666499998],\n",
       "                {&quot;bubblingMouseEvents&quot;: true, &quot;color&quot;: &quot;blue&quot;, &quot;dashArray&quot;: null, &quot;dashOffset&quot;: null, &quot;fill&quot;: true, &quot;fillColor&quot;: &quot;blue&quot;, &quot;fillOpacity&quot;: 0.2, &quot;fillRule&quot;: &quot;evenodd&quot;, &quot;lineCap&quot;: &quot;round&quot;, &quot;lineJoin&quot;: &quot;round&quot;, &quot;opacity&quot;: 1.0, &quot;radius&quot;: 5, &quot;stroke&quot;: true, &quot;weight&quot;: 3}\n",
       "            ).addTo(map_35df8c5dc106e70ffbc313c7a8e9d0b0);\n",
       "        \n",
       "    \n",
       "            circle_marker_84ed167d0066428b298644a22ca74e55.bindTooltip(\n",
       "                `&lt;div&gt;\n",
       "                     실제 6h\n",
       "                 &lt;/div&gt;`,\n",
       "                {\n",
       "  &quot;sticky&quot;: true,\n",
       "}\n",
       "            );\n",
       "        \n",
       "    \n",
       "            var circle_marker_ef987c6445e5758a400c50a5593e63cf = L.circleMarker(\n",
       "                [33.500866665000004, 127.7435],\n",
       "                {&quot;bubblingMouseEvents&quot;: true, &quot;color&quot;: &quot;blue&quot;, &quot;dashArray&quot;: null, &quot;dashOffset&quot;: null, &quot;fill&quot;: true, &quot;fillColor&quot;: &quot;blue&quot;, &quot;fillOpacity&quot;: 0.2, &quot;fillRule&quot;: &quot;evenodd&quot;, &quot;lineCap&quot;: &quot;round&quot;, &quot;lineJoin&quot;: &quot;round&quot;, &quot;opacity&quot;: 1.0, &quot;radius&quot;: 5, &quot;stroke&quot;: true, &quot;weight&quot;: 3}\n",
       "            ).addTo(map_35df8c5dc106e70ffbc313c7a8e9d0b0);\n",
       "        \n",
       "    \n",
       "            circle_marker_ef987c6445e5758a400c50a5593e63cf.bindTooltip(\n",
       "                `&lt;div&gt;\n",
       "                     실제 9h\n",
       "                 &lt;/div&gt;`,\n",
       "                {\n",
       "  &quot;sticky&quot;: true,\n",
       "}\n",
       "            );\n",
       "        \n",
       "    \n",
       "            var circle_marker_3537443d395a13f239a70227c817ef53 = L.circleMarker(\n",
       "                [33.169775, 127.19235],\n",
       "                {&quot;bubblingMouseEvents&quot;: true, &quot;color&quot;: &quot;blue&quot;, &quot;dashArray&quot;: null, &quot;dashOffset&quot;: null, &quot;fill&quot;: true, &quot;fillColor&quot;: &quot;blue&quot;, &quot;fillOpacity&quot;: 0.2, &quot;fillRule&quot;: &quot;evenodd&quot;, &quot;lineCap&quot;: &quot;round&quot;, &quot;lineJoin&quot;: &quot;round&quot;, &quot;opacity&quot;: 1.0, &quot;radius&quot;: 5, &quot;stroke&quot;: true, &quot;weight&quot;: 3}\n",
       "            ).addTo(map_35df8c5dc106e70ffbc313c7a8e9d0b0);\n",
       "        \n",
       "    \n",
       "            circle_marker_3537443d395a13f239a70227c817ef53.bindTooltip(\n",
       "                `&lt;div&gt;\n",
       "                     실제 12h\n",
       "                 &lt;/div&gt;`,\n",
       "                {\n",
       "  &quot;sticky&quot;: true,\n",
       "}\n",
       "            );\n",
       "        \n",
       "    \n",
       "            var circle_marker_e7740ba61b9ca6bd9b7d4ba19532bdd2 = L.circleMarker(\n",
       "                [33.897300720214844, 127.45474243164062],\n",
       "                {&quot;bubblingMouseEvents&quot;: true, &quot;color&quot;: &quot;orange&quot;, &quot;dashArray&quot;: null, &quot;dashOffset&quot;: null, &quot;fill&quot;: true, &quot;fillColor&quot;: &quot;orange&quot;, &quot;fillOpacity&quot;: 0.2, &quot;fillRule&quot;: &quot;evenodd&quot;, &quot;lineCap&quot;: &quot;round&quot;, &quot;lineJoin&quot;: &quot;round&quot;, &quot;opacity&quot;: 1.0, &quot;radius&quot;: 6, &quot;stroke&quot;: true, &quot;weight&quot;: 3}\n",
       "            ).addTo(map_35df8c5dc106e70ffbc313c7a8e9d0b0);\n",
       "        \n",
       "    \n",
       "            circle_marker_e7740ba61b9ca6bd9b7d4ba19532bdd2.bindTooltip(\n",
       "                `&lt;div&gt;\n",
       "                     예측 6h\n",
       "                 &lt;/div&gt;`,\n",
       "                {\n",
       "  &quot;sticky&quot;: true,\n",
       "}\n",
       "            );\n",
       "        \n",
       "    \n",
       "            var circle_marker_ba437b2dbbb3aed8bbbd307960566f51 = L.circleMarker(\n",
       "                [33.4488410949707, 127.51236724853516],\n",
       "                {&quot;bubblingMouseEvents&quot;: true, &quot;color&quot;: &quot;red&quot;, &quot;dashArray&quot;: null, &quot;dashOffset&quot;: null, &quot;fill&quot;: true, &quot;fillColor&quot;: &quot;red&quot;, &quot;fillOpacity&quot;: 0.2, &quot;fillRule&quot;: &quot;evenodd&quot;, &quot;lineCap&quot;: &quot;round&quot;, &quot;lineJoin&quot;: &quot;round&quot;, &quot;opacity&quot;: 1.0, &quot;radius&quot;: 6, &quot;stroke&quot;: true, &quot;weight&quot;: 3}\n",
       "            ).addTo(map_35df8c5dc106e70ffbc313c7a8e9d0b0);\n",
       "        \n",
       "    \n",
       "            circle_marker_ba437b2dbbb3aed8bbbd307960566f51.bindTooltip(\n",
       "                `&lt;div&gt;\n",
       "                     예측 9h\n",
       "                 &lt;/div&gt;`,\n",
       "                {\n",
       "  &quot;sticky&quot;: true,\n",
       "}\n",
       "            );\n",
       "        \n",
       "    \n",
       "            var circle_marker_5d319a17d0087caf6a8cbe892eb7ec12 = L.circleMarker(\n",
       "                [33.21693420410156, 127.05838775634766],\n",
       "                {&quot;bubblingMouseEvents&quot;: true, &quot;color&quot;: &quot;green&quot;, &quot;dashArray&quot;: null, &quot;dashOffset&quot;: null, &quot;fill&quot;: true, &quot;fillColor&quot;: &quot;green&quot;, &quot;fillOpacity&quot;: 0.2, &quot;fillRule&quot;: &quot;evenodd&quot;, &quot;lineCap&quot;: &quot;round&quot;, &quot;lineJoin&quot;: &quot;round&quot;, &quot;opacity&quot;: 1.0, &quot;radius&quot;: 6, &quot;stroke&quot;: true, &quot;weight&quot;: 3}\n",
       "            ).addTo(map_35df8c5dc106e70ffbc313c7a8e9d0b0);\n",
       "        \n",
       "    \n",
       "            circle_marker_5d319a17d0087caf6a8cbe892eb7ec12.bindTooltip(\n",
       "                `&lt;div&gt;\n",
       "                     예측 12h\n",
       "                 &lt;/div&gt;`,\n",
       "                {\n",
       "  &quot;sticky&quot;: true,\n",
       "}\n",
       "            );\n",
       "        \n",
       "    \n",
       "            tile_layer_3e9cdfe5f26a18589adad3a474523835.addTo(map_35df8c5dc106e70ffbc313c7a8e9d0b0);\n",
       "        \n",
       "    \n",
       "            var poly_line_6b3b47f19bb1cd54a8fd65523b7a6bed = L.polyline(\n",
       "                [[35.0415, 129.13203333], [35.00118333, 129.11216667], [34.96673333, 129.09508333], [34.93191667, 129.0771], [34.91241667, 129.06611667], [34.86313333, 129.03478333], [34.83543333, 129.0181], [34.7947, 129.00061667], [34.77395, 128.9937], [34.73663333, 128.98095], [34.7009, 128.96673333], [34.66948333, 128.95331667], [34.61246667, 128.92241667], [34.58366667, 128.9103], [34.55486667, 128.89818333], [34.52693333, 128.88696667], [34.47123333, 128.86333333], [34.432325, 128.84553333], [34.39341667, 128.82773333], [34.37311667, 128.81873333], [34.34069167, 128.80393333], [34.30826667, 128.78913333], [34.27068333, 128.7556], [34.24556667, 128.73158333], [34.217975, 128.703425], [34.19038333, 128.67526667], [34.159566665, 128.643658335], [34.12875, 128.61205], [34.07915, 128.55551667], [34.058808334999995, 128.52845000000002], [34.03846667, 128.50138333], [34.01707222333333, 128.47226666333333], [33.99567777666667, 128.44314999666668], [33.97428333, 128.41403333], [33.93705, 128.36305], [33.91188333, 128.32813333], [33.892975, 128.30231666499998], [33.87406667, 128.2765], [33.847, 128.22798333], [33.825591665000005, 128.188366665], [33.80418333, 128.14875], [33.78450833, 128.124175], [33.76483333, 128.0996], [33.72395, 128.04618333], [33.71438333, 128.03376667], [33.68796667, 127.99985], [33.66904167, 127.975708335], [33.65011667, 127.95156667], [33.620175, 127.916758335], [33.59023333, 127.88195], [33.57601667, 127.85985], [33.56235, 127.83848333], [33.538775, 127.801916665], [33.5152, 127.76535], [33.500866665000004, 127.7435], [33.48653333, 127.72165], [33.4575, 127.67798333], [33.43816111, 127.64849444333332], [33.41882222, 127.61900555666666], [33.39948333, 127.58951667], [33.38865833, 127.572708335], [33.37783333, 127.5559], [33.357191665, 127.520983335], [33.33655, 127.48606667], [33.321325, 127.45909167], [33.3061, 127.43211667], [33.28218333, 127.38908333], [33.25661667, 127.3436], [33.24229167, 127.317833335], [33.22796667, 127.29206667], [33.207908335, 127.257425], [33.18785, 127.22278333], [33.169775, 127.19235], [33.1517, 127.16191667], [33.11883333, 127.10683333], [33.11026667, 127.09238333], [33.09301667, 127.062866665], [33.07576667, 127.03335], [33.05368333, 127.00028333], [33.0197, 126.95751667], [32.99345, 126.92918333], [32.98118333, 126.91448333], [32.95988333, 126.88176667], [32.93836667, 126.84595], [32.91826667, 126.81256667], [32.8957, 126.776], [32.86781667, 126.73408333], [32.84538333, 126.69971667], [32.81988333, 126.66005], [32.80118333, 126.62593333], [32.78777222, 126.59900555333331], [32.77436111, 126.57207777666667], [32.76095, 126.54515], [32.742241665, 126.506941665], [32.72353333, 126.46873333], [32.69496667, 126.41785], [32.67988889, 126.39117222333331], [32.664811109999995, 126.36449444666668], [32.64973333, 126.33781667], [32.629125, 126.301925], [32.60851667, 126.26603333], [32.5789, 126.21443333], [32.562873333999995, 126.18587333], [32.546846668, 126.15731333], [32.530820002, 126.12875333], [32.514793336000004, 126.10019333], [32.49876667, 126.07163333], [32.4771000025, 126.03645833], [32.455433335, 126.00128333], [32.4337666675, 125.96610833], [32.4121, 125.93093333], [32.39164444416667, 125.89973610833331], [32.371188888333336, 125.86853888666668], [32.3507333325, 125.837341665], [32.33027777666667, 125.80614444333334], [32.30982222083334, 125.77494722166666], [32.289366665, 125.74375], [32.268911109166666, 125.71255277833332], [32.248455553333336, 125.68135555666666], [32.22799999750001, 125.650158335], [32.20754444166667, 125.61896111333331], [32.18708888583333, 125.58776389166668], [32.16663333, 125.55656667], [32.1507, 125.534133335], [32.13476667, 125.5117], [32.10261667, 125.4666], [32.084420178421055, 125.4346991226316], [32.06622368684211, 125.40279824526316], [32.04802719526316, 125.37089736789474], [32.02983070368421, 125.33899649052633], [32.011634212105264, 125.3070956131579], [31.99343772052632, 125.27519473578948], [31.97524122894737, 125.24329385842104], [31.957044737368424, 125.21139298105264], [31.93884824578948, 125.1794921036842], [31.920651754210528, 125.14759122631578], [31.90245526263158, 125.11569034894735], [31.884258771052632, 125.08378947157894], [31.866062279473685, 125.05188859421052], [31.847865787894737, 125.0199877168421], [31.829669296315792, 124.98808683947368], [31.811472804736844, 124.95618596210524], [31.793276313157897, 124.92428508473684], [31.77507982157895, 124.8923842073684], [31.75688333, 124.86048333], [31.742877776666667, 124.82064999666666], [31.728872223333333, 124.78081666333334], [31.71486667, 124.74098333], [31.70476667, 124.712775], [31.69466667, 124.68456667], [31.67301667, 124.62261667], [31.659133336666667, 124.58428333666669], [31.64525000333333, 124.54595000333332], [31.63136667, 124.50761667], [31.622125, 124.47609167], [31.61288333, 124.44456667], [31.60025, 124.399408335], [31.58761667, 124.35425], [31.575033336666667, 124.32760555666668], [31.56245000333333, 124.30096111333332], [31.54986667, 124.27431667], [31.52873333, 124.2183], [31.51415833, 124.175608335], [31.49958333, 124.13291667], [31.48535, 124.096358335], [31.47111667, 124.0598], [31.46611667, 124.04461667], [31.457283335, 124.00974167], [31.44845, 123.97486667], [31.44135, 123.92245], [31.4389, 123.89883333], [31.4292, 123.86000833], [31.4195, 123.82118333], [31.4115, 123.7957], [31.4035, 123.77021667], [31.38401667, 123.72406667], [31.37084047857143, 123.69342857428572], [31.357664287142857, 123.66279047857142], [31.344488095714286, 123.63215238285714], [31.33131190428572, 123.60151428714286], [31.318135712857146, 123.57087619142858], [31.30495952142857, 123.54023809571429], [31.29178333, 123.5096], [31.28321666333333, 123.48222777666668], [31.274649996666668, 123.45485555333332], [31.26608333, 123.42748333], [31.25355833, 123.394116665], [31.24103333, 123.36075], [31.22581667, 123.32976667], [31.20885, 123.27123333], [31.194133335, 123.24828333], [31.17941667, 123.22533333], [31.14651667, 123.17425], [31.1317, 123.149741665], [31.11688333, 123.12523333], [31.10463333, 123.07045], [31.108466665, 123.044216665], [31.1123, 123.01798333], [31.1153, 122.98628333], [31.11425, 122.9241], [31.11321667, 122.896], [31.11018333, 122.84513333], [31.110666665, 122.82845], [31.11115, 122.81176667], [31.11995, 122.77981667], [31.1162, 122.75945], [31.11496667, 122.7395], [31.11523333, 122.70028333], [31.1151, 122.69236667], [31.114633335, 122.67181667], [31.11416667, 122.65126667], [31.1141, 122.61748333], [31.115458335, 122.59683333], [31.11681667, 122.57618333], [31.11643333, 122.5633], [31.11478333, 122.53278333], [31.11418333, 122.51658333], [31.115766665, 122.49720833], [31.11735, 122.47783333], [31.115408335, 122.46083333], [31.11346667, 122.44383333], [31.110158335, 122.401675], [31.10685, 122.35951667], [31.10238333, 122.31853333], [31.10885, 122.29768333], [31.12246667, 122.2729], [31.1439, 122.23675], [31.15843333, 122.21266667], [31.1682, 122.19595], [31.181, 122.1752], [31.19591667, 122.15108333], [31.212, 122.12603333], [31.22746667, 122.10001667], [31.23811667, 122.05446667], [31.24081667, 122.0384], [31.24878333, 121.99016667], [31.25366667, 121.95948333], [31.25843333, 121.93243333], [31.2628, 121.90503333], [31.26843333, 121.87355], [31.27215, 121.85616667], [31.28965, 121.80836667], [31.30106667, 121.77778333], [31.3125, 121.74548333], [31.3235, 121.71705], [31.3393, 121.68526667], [31.35393333, 121.6531]],\n",
       "                {&quot;bubblingMouseEvents&quot;: true, &quot;color&quot;: &quot;blue&quot;, &quot;dashArray&quot;: null, &quot;dashOffset&quot;: null, &quot;fill&quot;: false, &quot;fillColor&quot;: &quot;blue&quot;, &quot;fillOpacity&quot;: 0.2, &quot;fillRule&quot;: &quot;evenodd&quot;, &quot;lineCap&quot;: &quot;round&quot;, &quot;lineJoin&quot;: &quot;round&quot;, &quot;noClip&quot;: false, &quot;opacity&quot;: 1.0, &quot;smoothFactor&quot;: 1.0, &quot;stroke&quot;: true, &quot;weight&quot;: 3}\n",
       "            ).addTo(map_35df8c5dc106e70ffbc313c7a8e9d0b0);\n",
       "        \n",
       "    \n",
       "            poly_line_6b3b47f19bb1cd54a8fd65523b7a6bed.bindTooltip(\n",
       "                `&lt;div&gt;\n",
       "                     실제 전체 항로\n",
       "                 &lt;/div&gt;`,\n",
       "                {\n",
       "  &quot;sticky&quot;: true,\n",
       "}\n",
       "            );\n",
       "        \n",
       "    \n",
       "            tile_layer_3e9cdfe5f26a18589adad3a474523835.addTo(map_35df8c5dc106e70ffbc313c7a8e9d0b0);\n",
       "        \n",
       "    \n",
       "            var circle_marker_56162637f4c69354f406aeb82472f1a1 = L.circleMarker(\n",
       "                [33.897300720214844, 127.45474243164062],\n",
       "                {&quot;bubblingMouseEvents&quot;: true, &quot;color&quot;: &quot;orange&quot;, &quot;dashArray&quot;: null, &quot;dashOffset&quot;: null, &quot;fill&quot;: true, &quot;fillColor&quot;: &quot;orange&quot;, &quot;fillOpacity&quot;: 0.2, &quot;fillRule&quot;: &quot;evenodd&quot;, &quot;lineCap&quot;: &quot;round&quot;, &quot;lineJoin&quot;: &quot;round&quot;, &quot;opacity&quot;: 1.0, &quot;radius&quot;: 6, &quot;stroke&quot;: true, &quot;weight&quot;: 3}\n",
       "            ).addTo(map_35df8c5dc106e70ffbc313c7a8e9d0b0);\n",
       "        \n",
       "    \n",
       "            circle_marker_56162637f4c69354f406aeb82472f1a1.bindTooltip(\n",
       "                `&lt;div&gt;\n",
       "                     예측 6h\n",
       "                 &lt;/div&gt;`,\n",
       "                {\n",
       "  &quot;sticky&quot;: true,\n",
       "}\n",
       "            );\n",
       "        \n",
       "    \n",
       "            var circle_marker_3af220fed0cfabfecff90342090c2a65 = L.circleMarker(\n",
       "                [33.4488410949707, 127.51236724853516],\n",
       "                {&quot;bubblingMouseEvents&quot;: true, &quot;color&quot;: &quot;red&quot;, &quot;dashArray&quot;: null, &quot;dashOffset&quot;: null, &quot;fill&quot;: true, &quot;fillColor&quot;: &quot;red&quot;, &quot;fillOpacity&quot;: 0.2, &quot;fillRule&quot;: &quot;evenodd&quot;, &quot;lineCap&quot;: &quot;round&quot;, &quot;lineJoin&quot;: &quot;round&quot;, &quot;opacity&quot;: 1.0, &quot;radius&quot;: 6, &quot;stroke&quot;: true, &quot;weight&quot;: 3}\n",
       "            ).addTo(map_35df8c5dc106e70ffbc313c7a8e9d0b0);\n",
       "        \n",
       "    \n",
       "            circle_marker_3af220fed0cfabfecff90342090c2a65.bindTooltip(\n",
       "                `&lt;div&gt;\n",
       "                     예측 9h\n",
       "                 &lt;/div&gt;`,\n",
       "                {\n",
       "  &quot;sticky&quot;: true,\n",
       "}\n",
       "            );\n",
       "        \n",
       "    \n",
       "            var circle_marker_1cde53c73a24b0fbb7d2999f78afe14a = L.circleMarker(\n",
       "                [33.21693420410156, 127.05838775634766],\n",
       "                {&quot;bubblingMouseEvents&quot;: true, &quot;color&quot;: &quot;green&quot;, &quot;dashArray&quot;: null, &quot;dashOffset&quot;: null, &quot;fill&quot;: true, &quot;fillColor&quot;: &quot;green&quot;, &quot;fillOpacity&quot;: 0.2, &quot;fillRule&quot;: &quot;evenodd&quot;, &quot;lineCap&quot;: &quot;round&quot;, &quot;lineJoin&quot;: &quot;round&quot;, &quot;opacity&quot;: 1.0, &quot;radius&quot;: 6, &quot;stroke&quot;: true, &quot;weight&quot;: 3}\n",
       "            ).addTo(map_35df8c5dc106e70ffbc313c7a8e9d0b0);\n",
       "        \n",
       "    \n",
       "            circle_marker_1cde53c73a24b0fbb7d2999f78afe14a.bindTooltip(\n",
       "                `&lt;div&gt;\n",
       "                     예측 12h\n",
       "                 &lt;/div&gt;`,\n",
       "                {\n",
       "  &quot;sticky&quot;: true,\n",
       "}\n",
       "            );\n",
       "        \n",
       "    \n",
       "            var poly_line_8f7958201209551c7caeac75a1936b8a = L.polyline(\n",
       "                [[33.897300720214844, 127.45474243164062], [33.4488410949707, 127.51236724853516], [33.21693420410156, 127.05838775634766]],\n",
       "                {&quot;bubblingMouseEvents&quot;: true, &quot;color&quot;: &quot;purple&quot;, &quot;dashArray&quot;: null, &quot;dashOffset&quot;: null, &quot;fill&quot;: false, &quot;fillColor&quot;: &quot;purple&quot;, &quot;fillOpacity&quot;: 0.2, &quot;fillRule&quot;: &quot;evenodd&quot;, &quot;lineCap&quot;: &quot;round&quot;, &quot;lineJoin&quot;: &quot;round&quot;, &quot;noClip&quot;: false, &quot;opacity&quot;: 1.0, &quot;smoothFactor&quot;: 1.0, &quot;stroke&quot;: true, &quot;weight&quot;: 3}\n",
       "            ).addTo(map_35df8c5dc106e70ffbc313c7a8e9d0b0);\n",
       "        \n",
       "    \n",
       "            poly_line_8f7958201209551c7caeac75a1936b8a.bindTooltip(\n",
       "                `&lt;div&gt;\n",
       "                     예측 항로\n",
       "                 &lt;/div&gt;`,\n",
       "                {\n",
       "  &quot;sticky&quot;: true,\n",
       "}\n",
       "            );\n",
       "        \n",
       "&lt;/script&gt;\n",
       "&lt;/html&gt;\" style=\"position:absolute;width:100%;height:100%;left:0;top:0;border:none !important;\" allowfullscreen webkitallowfullscreen mozallowfullscreen></iframe></div></div>"
      ],
      "text/plain": [
       "<folium.folium.Map at 0x27bfb212180>"
      ]
     },
     "metadata": {},
     "output_type": "display_data"
    }
   ],
   "source": [
    "display(m)"
   ]
  },
  {
   "cell_type": "markdown",
   "id": "c248c052-ae84-42a2-8e9e-a71a2f63f971",
   "metadata": {},
   "source": [
    "### 예측값 콘솔 출력 (샘플 1 기준) \n",
    "- 소수점 5자리까지 나타낼 수 있게 수정 필요 + csv 파일로 저장할 수 있게 코드 작성 필요\n",
    "- 각 군집의 번호열에 한줄로 쭉 작성할 수 있게 [6시간 시점: 위도, 경도, COG, HEADING][9시간 지점의 위도, 경도, COG, HEADING] ... 나오게"
   ]
  },
  {
   "cell_type": "code",
   "execution_count": 136,
   "id": "b1b672f5-394c-4eed-9f1a-d94cd9add330",
   "metadata": {},
   "outputs": [
    {
     "name": "stdout",
     "output_type": "stream",
     "text": [
      " 예측값 (샘플 1 기준):\n",
      "\n",
      " 6시간 후 예측\n",
      "LAT=33.8973, LON=127.4547, COG=239.88, HEADING=240.35\n",
      "\n",
      " 9시간 후 예측\n",
      "LAT=33.4488, LON=127.5124, COG=251.48, HEADING=236.20\n",
      "\n",
      " 12시간 후 예측\n",
      "LAT=33.2169, LON=127.0584, COG=244.01, HEADING=234.80\n"
     ]
    }
   ],
   "source": [
    "print(\" 예측값 (샘플 1 기준):\")\n",
    "for i, offset in enumerate([6, 9, 12]):\n",
    "    lat, lon, cog, heading = predicted_inverse[0, i]\n",
    "    print(f\"\\n {offset}시간 후 예측\")\n",
    "    print(f\"LAT={lat:.4f}, LON={lon:.4f}, COG={cog:.2f}, HEADING={heading:.2f}\")"
   ]
  }
 ],
 "metadata": {
  "kernelspec": {
   "display_name": "Python [conda env:base] *",
   "language": "python",
   "name": "conda-base-py"
  },
  "language_info": {
   "codemirror_mode": {
    "name": "ipython",
    "version": 3
   },
   "file_extension": ".py",
   "mimetype": "text/x-python",
   "name": "python",
   "nbconvert_exporter": "python",
   "pygments_lexer": "ipython3",
   "version": "3.12.7"
  }
 },
 "nbformat": 4,
 "nbformat_minor": 5
}
