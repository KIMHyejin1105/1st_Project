{
 "cells": [
  {
   "cell_type": "code",
   "execution_count": 25,
   "id": "d73ed459-c4ea-458e-852d-0351d3b5abec",
   "metadata": {},
   "outputs": [],
   "source": [
    "import pandas as pd\n",
    "import numpy as np\n",
    "from sklearn.preprocessing import MinMaxScaler\n",
    "from sklearn.metrics import r2_score, mean_absolute_error\n",
    "import tensorflow as tf\n",
    "from tensorflow.keras.models import Sequential\n",
    "from tensorflow.keras.layers import LSTM, Dense, Reshape\n",
    "import matplotlib.pyplot as plt\n",
    "\n",
    "import warnings\n",
    "warnings.filterwarnings('ignore')"
   ]
  },
  {
   "cell_type": "code",
   "execution_count": 29,
   "id": "0ac2cb07-289c-4145-8547-089af9a7b702",
   "metadata": {},
   "outputs": [
    {
     "name": "stdout",
     "output_type": "stream",
     "text": [
      "(268, 12)\n"
     ]
    },
    {
     "data": {
      "text/html": [
       "<div>\n",
       "<style scoped>\n",
       "    .dataframe tbody tr th:only-of-type {\n",
       "        vertical-align: middle;\n",
       "    }\n",
       "\n",
       "    .dataframe tbody tr th {\n",
       "        vertical-align: top;\n",
       "    }\n",
       "\n",
       "    .dataframe thead th {\n",
       "        text-align: right;\n",
       "    }\n",
       "</style>\n",
       "<table border=\"1\" class=\"dataframe\">\n",
       "  <thead>\n",
       "    <tr style=\"text-align: right;\">\n",
       "      <th></th>\n",
       "      <th>VSL_ID</th>\n",
       "      <th>TIMESTAMP</th>\n",
       "      <th>SPEED</th>\n",
       "      <th>COG</th>\n",
       "      <th>HEADING</th>\n",
       "      <th>DRAFT</th>\n",
       "      <th>NAV_STATUS</th>\n",
       "      <th>LAT</th>\n",
       "      <th>LON</th>\n",
       "      <th>DESTINATION</th>\n",
       "      <th>UNLOCODE</th>\n",
       "      <th>ETA</th>\n",
       "    </tr>\n",
       "  </thead>\n",
       "  <tbody>\n",
       "    <tr>\n",
       "      <th>0</th>\n",
       "      <td>05e4d21a-31a0-3476-adf8-792558757ade</td>\n",
       "      <td>2024-12-13 14:00:31</td>\n",
       "      <td>5.0</td>\n",
       "      <td>211.5</td>\n",
       "      <td>208.0</td>\n",
       "      <td>5.9</td>\n",
       "      <td>MOORED</td>\n",
       "      <td>35.120610</td>\n",
       "      <td>129.063040</td>\n",
       "      <td>CN DLC</td>\n",
       "      <td>CNDLC</td>\n",
       "      <td>2024-12-16 09:00:00</td>\n",
       "    </tr>\n",
       "    <tr>\n",
       "      <th>1</th>\n",
       "      <td>05e4d21a-31a0-3476-adf8-792558757ade</td>\n",
       "      <td>2024-12-13 14:10:02</td>\n",
       "      <td>8.8</td>\n",
       "      <td>124.6</td>\n",
       "      <td>124.0</td>\n",
       "      <td>5.9</td>\n",
       "      <td>UNDER_WAY_USING_ENGINE</td>\n",
       "      <td>35.103953</td>\n",
       "      <td>129.067067</td>\n",
       "      <td>CN DLC</td>\n",
       "      <td>CNDLC</td>\n",
       "      <td>2024-12-16 09:00:00</td>\n",
       "    </tr>\n",
       "    <tr>\n",
       "      <th>2</th>\n",
       "      <td>05e4d21a-31a0-3476-adf8-792558757ade</td>\n",
       "      <td>2024-12-13 14:20:51</td>\n",
       "      <td>9.2</td>\n",
       "      <td>125.7</td>\n",
       "      <td>125.0</td>\n",
       "      <td>5.9</td>\n",
       "      <td>UNDER_WAY_USING_ENGINE</td>\n",
       "      <td>35.087313</td>\n",
       "      <td>129.095240</td>\n",
       "      <td>CN DLC</td>\n",
       "      <td>CNDLC</td>\n",
       "      <td>2024-12-16 09:00:00</td>\n",
       "    </tr>\n",
       "  </tbody>\n",
       "</table>\n",
       "</div>"
      ],
      "text/plain": [
       "                                 VSL_ID            TIMESTAMP  SPEED    COG  \\\n",
       "0  05e4d21a-31a0-3476-adf8-792558757ade  2024-12-13 14:00:31    5.0  211.5   \n",
       "1  05e4d21a-31a0-3476-adf8-792558757ade  2024-12-13 14:10:02    8.8  124.6   \n",
       "2  05e4d21a-31a0-3476-adf8-792558757ade  2024-12-13 14:20:51    9.2  125.7   \n",
       "\n",
       "   HEADING  DRAFT              NAV_STATUS        LAT         LON DESTINATION  \\\n",
       "0    208.0    5.9                  MOORED  35.120610  129.063040      CN DLC   \n",
       "1    124.0    5.9  UNDER_WAY_USING_ENGINE  35.103953  129.067067      CN DLC   \n",
       "2    125.0    5.9  UNDER_WAY_USING_ENGINE  35.087313  129.095240      CN DLC   \n",
       "\n",
       "  UNLOCODE                  ETA  \n",
       "0    CNDLC  2024-12-16 09:00:00  \n",
       "1    CNDLC  2024-12-16 09:00:00  \n",
       "2    CNDLC  2024-12-16 09:00:00  "
      ]
     },
     "metadata": {},
     "output_type": "display_data"
    }
   ],
   "source": [
    "df = pd.read_csv('./datasets/KRPUS_CNDAG/05e4d21a-31a0-3476-adf8-792558757ade.csv')\n",
    "print(df.shape)\n",
    "display(df.head(3))"
   ]
  },
  {
   "cell_type": "markdown",
   "id": "7b478e46-cae8-4ff4-a9c3-c27884cbd932",
   "metadata": {},
   "source": [
    "# 하이퍼 파라미터"
   ]
  },
  {
   "cell_type": "code",
   "execution_count": 31,
   "id": "1461512b-4e6e-497e-a199-787b48a55fe4",
   "metadata": {},
   "outputs": [],
   "source": [
    "TRAIN_SPLIT = 160  # (기본)len(df)*0.8\n",
    "BATCH_SIZE = 18\n",
    "EPOCH = 20\n",
    "WEIGHT_UPDATE_INTERVAL = 11 #186 / 8 = 14...\n",
    "VALIDATION_INTERVAL =  5 # (233 - TRAIN_SPLIT) // BATCH_SIZE\n",
    "# BUFFER_SIZE = 230 #TRAIN_SPLIT과 같거나 큼"
   ]
  },
  {
   "cell_type": "markdown",
   "id": "6ed4a98a-9743-4b83-8a63-55b4e3562fd9",
   "metadata": {},
   "source": [
    "# 분석할 컬럼 추출 및 시간 데이터(형태변환, 시점개수)"
   ]
  },
  {
   "cell_type": "code",
   "execution_count": 33,
   "id": "4016a1a9-ba7c-4654-811d-8e069a55d09d",
   "metadata": {},
   "outputs": [
    {
     "data": {
      "text/html": [
       "<div>\n",
       "<style scoped>\n",
       "    .dataframe tbody tr th:only-of-type {\n",
       "        vertical-align: middle;\n",
       "    }\n",
       "\n",
       "    .dataframe tbody tr th {\n",
       "        vertical-align: top;\n",
       "    }\n",
       "\n",
       "    .dataframe thead th {\n",
       "        text-align: right;\n",
       "    }\n",
       "</style>\n",
       "<table border=\"1\" class=\"dataframe\">\n",
       "  <thead>\n",
       "    <tr style=\"text-align: right;\">\n",
       "      <th></th>\n",
       "      <th>LAT</th>\n",
       "      <th>LON</th>\n",
       "    </tr>\n",
       "    <tr>\n",
       "      <th>TIMESTAMP</th>\n",
       "      <th></th>\n",
       "      <th></th>\n",
       "    </tr>\n",
       "  </thead>\n",
       "  <tbody>\n",
       "    <tr>\n",
       "      <th>2024-12-13 14:00:31</th>\n",
       "      <td>35.120610</td>\n",
       "      <td>129.063040</td>\n",
       "    </tr>\n",
       "    <tr>\n",
       "      <th>2024-12-13 14:10:02</th>\n",
       "      <td>35.103953</td>\n",
       "      <td>129.067067</td>\n",
       "    </tr>\n",
       "    <tr>\n",
       "      <th>2024-12-13 14:20:51</th>\n",
       "      <td>35.087313</td>\n",
       "      <td>129.095240</td>\n",
       "    </tr>\n",
       "    <tr>\n",
       "      <th>2024-12-13 14:30:21</th>\n",
       "      <td>35.071070</td>\n",
       "      <td>129.114053</td>\n",
       "    </tr>\n",
       "    <tr>\n",
       "      <th>2024-12-13 14:40:30</th>\n",
       "      <td>35.047667</td>\n",
       "      <td>129.129880</td>\n",
       "    </tr>\n",
       "  </tbody>\n",
       "</table>\n",
       "</div>"
      ],
      "text/plain": [
       "                           LAT         LON\n",
       "TIMESTAMP                                 \n",
       "2024-12-13 14:00:31  35.120610  129.063040\n",
       "2024-12-13 14:10:02  35.103953  129.067067\n",
       "2024-12-13 14:20:51  35.087313  129.095240\n",
       "2024-12-13 14:30:21  35.071070  129.114053\n",
       "2024-12-13 14:40:30  35.047667  129.129880"
      ]
     },
     "metadata": {},
     "output_type": "display_data"
    },
    {
     "name": "stdout",
     "output_type": "stream",
     "text": [
      "(268, 2)\n"
     ]
    }
   ],
   "source": [
    "df['TIMESTAMP'] = pd.to_datetime(df['TIMESTAMP'])\n",
    "df = df.sort_values('TIMESTAMP')\n",
    "features = df[['TIMESTAMP','LAT','LON']]\n",
    "features.set_index('TIMESTAMP', inplace=True)\n",
    "display(features.head())\n",
    "print(features.shape)"
   ]
  },
  {
   "cell_type": "code",
   "execution_count": 35,
   "id": "be74d763-edcd-493e-85d8-c48e6cd276ea",
   "metadata": {},
   "outputs": [
    {
     "name": "stdout",
     "output_type": "stream",
     "text": [
      "소요시간 2 days 14:57:31\n"
     ]
    }
   ],
   "source": [
    "# 소요시간\n",
    "print('소요시간', df['TIMESTAMP'].max() - df['TIMESTAMP'].min())"
   ]
  },
  {
   "cell_type": "code",
   "execution_count": 37,
   "id": "cf2a5a5d-56a8-4344-bf6c-e46c20d83a9f",
   "metadata": {},
   "outputs": [
    {
     "name": "stdout",
     "output_type": "stream",
     "text": [
      "4.25\n"
     ]
    }
   ],
   "source": [
    "df['hour'] = df['TIMESTAMP'].dt.floor('H')         # 시간을 기준으로 자르기 (분/초 제거)\n",
    "\n",
    "hourly_counts = df.groupby('hour').size()\n",
    "print(np.round(hourly_counts.mean(), 2))\n",
    "# 데이터 간 간격은 약 6분 간격 (60 / 10 = 6)"
   ]
  },
  {
   "cell_type": "code",
   "execution_count": 39,
   "id": "dadff786-af69-47b2-a805-e0cd7c5f0b41",
   "metadata": {},
   "outputs": [
    {
     "data": {
      "image/png": "[encoded data removed]",
      "text/plain": [
       "<Figure size 1200x400 with 1 Axes>"
      ]
     },
     "metadata": {},
     "output_type": "display_data"
    }
   ],
   "source": [
    "# (참고) 한 시간 당 데이터의 개수 확인 시각화\n",
    "import matplotlib.pyplot as plt\n",
    "\n",
    "hourly_counts.plot(kind='bar', figsize=(12, 4))\n",
    "plt.title(\"Hourly data count\")\n",
    "plt.xlabel(\"Hour\")\n",
    "plt.ylabel(\"Number of data points\")\n",
    "plt.grid(True)\n",
    "plt.show()"
   ]
  },
  {
   "cell_type": "markdown",
   "id": "5a007f8d-6f89-4205-a965-3f975b2b4e72",
   "metadata": {},
   "source": [
    "# 표준"
   ]
  },
  {
   "cell_type": "code",
   "execution_count": 41,
   "id": "bbd1d342-86be-46ac-8a3a-2faf9b9bd869",
   "metadata": {},
   "outputs": [],
   "source": [
    "scaler = MinMaxScaler()\n",
    "scaled = scaler.fit_transform(features)"
   ]
  },
  {
   "cell_type": "markdown",
   "id": "f54052c4-d321-4740-a327-53caae4ab761",
   "metadata": {},
   "source": [
    "# 타임 스텝별 데이터 분리 함수"
   ]
  },
  {
   "cell_type": "code",
   "execution_count": 43,
   "id": "03f28896-27fa-4520-8674-283e123d50b6",
   "metadata": {},
   "outputs": [],
   "source": [
    "def multivariate_data(dataset, target, start_index, end_index, history_size, target_size, step, single_step=False):\n",
    "    data, labels = [], []\n",
    "    start_index += history_size\n",
    "\n",
    "    if end_index is None:\n",
    "        end_index = len(dataset) - target_size\n",
    "\n",
    "    for i in range(start_index, end_index):\n",
    "        indexes = range(i - history_size, i, step)\n",
    "        data.append(dataset[indexes])\n",
    "\n",
    "        if single_step:\n",
    "            labels.append(target[i + target_size])\n",
    "        else:\n",
    "            labels.append(target[i : i+target_size])\n",
    "\n",
    "    return np.array(data), np.array(labels)\n",
    "\n",
    "# 장기예측이므로 single_step=False"
   ]
  },
  {
   "cell_type": "markdown",
   "id": "e683a32b-a4c4-4e74-aed3-2485adc9e9fb",
   "metadata": {},
   "source": [
    "# 타임 스텝별 독립변수와 종속변수 추출"
   ]
  },
  {
   "cell_type": "code",
   "execution_count": 207,
   "id": "fadcb54f-fa07-440a-838f-48f136ff1800",
   "metadata": {},
   "outputs": [],
   "source": [
    "past_history = 40 #과거 4시간 (한 시간에 10개 * 4) # 숫자 수정 - 1시간에 10개니까 10단위로 끊어져야 함\n",
    "future_target =15 #미래 1.5시간 (한 시간에 10개 * 1.5)\n",
    "step = 1\n",
    "# 선박의 총 소요시간을 파악 후 \n",
    "\n",
    "X_train_single, y_train_single = multivariate_data(scaled, scaled, start_index=0, end_index=TRAIN_SPLIT, history_size=past_history, target_size=future_target, step=step, single_step=True)\n",
    "\n",
    "X_val_single, y_val_single = multivariate_data(scaled, scaled, start_index=TRAIN_SPLIT, end_index=None, history_size=past_history, target_size=future_target, step=step, single_step=True)"
   ]
  },
  {
   "cell_type": "code",
   "execution_count": 146,
   "id": "6fd28bf1-6e96-4c20-92dd-426a2584101a",
   "metadata": {},
   "outputs": [
    {
     "name": "stdout",
     "output_type": "stream",
     "text": [
      "(120, 40, 2)\n",
      "(120, 2)\n",
      "(53, 40, 2)\n",
      "(53, 2)\n"
     ]
    }
   ],
   "source": [
    "print(X_train_single.shape) # shape[0]개의 학습 샘플, 각 샘플은 (LAT, LON)\n",
    "print(y_train_single.shape) # shape[0]개의 미래 예측값, 10시점 예측값이 LAT/LON 포함되어 있음\n",
    "print(X_val_single.shape) # 검증용 입력 22개 샘플, 각 샘플은 (LAT, LON)\n",
    "print(y_val_single.shape)\n",
    "# 검증용 데이터 생성 안될 시, TRAIN_SPLIT = len(scaled) - (past_history + future_target) 값 변경"
   ]
  },
  {
   "cell_type": "markdown",
   "id": "1eafc828-e2e4-4cee-9dd6-71cbfb30c84d",
   "metadata": {},
   "source": [
    "# 학습 및 평가 데이터 생성"
   ]
  },
  {
   "cell_type": "code",
   "execution_count": 149,
   "id": "76c78635-8fdf-41a2-b88f-5e331d9e7edf",
   "metadata": {},
   "outputs": [],
   "source": [
    "train_data_single = tf.data.Dataset.from_tensor_slices((X_train_single, y_train_single)).cache().shuffle(X_train_single.shape[0]).batch(BATCH_SIZE, drop_remainder=True).repeat()\n",
    "\n",
    "val_data_single = tf.data.Dataset.from_tensor_slices((X_train_single, y_train_single)).cache().shuffle(X_train_single.shape[0]).batch(BATCH_SIZE, drop_remainder=True).repeat()"
   ]
  },
  {
   "cell_type": "markdown",
   "id": "ef4c3d44-890b-4600-901d-4e42dd65b33d",
   "metadata": {},
   "source": [
    "# LSTM 모델 생성 및 학습"
   ]
  },
  {
   "cell_type": "code",
   "execution_count": 151,
   "id": "4e3ed8e6-e2d8-4ede-a7ca-95b963b2d768",
   "metadata": {},
   "outputs": [],
   "source": [
    "single_step_model = Sequential()\n",
    "single_step_model.add(LSTM(64, input_shape=X_train_single.shape[-2:]))\n",
    "# single_step_model.add(LSTM(32, activation='relu'))\n",
    "single_step_model.add(Dense(2))\n",
    "# single_step_model.add(Reshape(((future_target, 2))))\n",
    "single_step_model.compile(optimizer='adam', loss='mse') #WGA"
   ]
  },
  {
   "cell_type": "code",
   "execution_count": 153,
   "id": "6d626920-e788-420f-b870-d5a23d18f097",
   "metadata": {
    "scrolled": true
   },
   "outputs": [
    {
     "name": "stdout",
     "output_type": "stream",
     "text": [
      "Epoch 1/20\n",
      "\u001b[1m11/11\u001b[0m \u001b[32m━━━━━━━━━━━━━━━━━━━━\u001b[0m\u001b[37m\u001b[0m \u001b[1m4s\u001b[0m 67ms/step - loss: 0.0796 - val_loss: 0.0226\n",
      "Epoch 2/20\n",
      "\u001b[1m11/11\u001b[0m \u001b[32m━━━━━━━━━━━━━━━━━━━━\u001b[0m\u001b[37m\u001b[0m \u001b[1m0s\u001b[0m 26ms/step - loss: 0.0165 - val_loss: 0.0039\n",
      "Epoch 3/20\n",
      "\u001b[1m11/11\u001b[0m \u001b[32m━━━━━━━━━━━━━━━━━━━━\u001b[0m\u001b[37m\u001b[0m \u001b[1m0s\u001b[0m 23ms/step - loss: 0.0040 - val_loss: 0.0024\n",
      "Epoch 4/20\n",
      "\u001b[1m11/11\u001b[0m \u001b[32m━━━━━━━━━━━━━━━━━━━━\u001b[0m\u001b[37m\u001b[0m \u001b[1m0s\u001b[0m 24ms/step - loss: 0.0015 - val_loss: 0.0016\n",
      "Epoch 5/20\n",
      "\u001b[1m11/11\u001b[0m \u001b[32m━━━━━━━━━━━━━━━━━━━━\u001b[0m\u001b[37m\u001b[0m \u001b[1m0s\u001b[0m 23ms/step - loss: 0.0016 - val_loss: 0.0011\n",
      "Epoch 6/20\n",
      "\u001b[1m11/11\u001b[0m \u001b[32m━━━━━━━━━━━━━━━━━━━━\u001b[0m\u001b[37m\u001b[0m \u001b[1m0s\u001b[0m 24ms/step - loss: 0.0011 - val_loss: 8.9383e-04\n",
      "Epoch 7/20\n",
      "\u001b[1m11/11\u001b[0m \u001b[32m━━━━━━━━━━━━━━━━━━━━\u001b[0m\u001b[37m\u001b[0m \u001b[1m0s\u001b[0m 30ms/step - loss: 9.1061e-04 - val_loss: 8.7309e-04\n",
      "Epoch 8/20\n",
      "\u001b[1m11/11\u001b[0m \u001b[32m━━━━━━━━━━━━━━━━━━━━\u001b[0m\u001b[37m\u001b[0m \u001b[1m0s\u001b[0m 23ms/step - loss: 9.1106e-04 - val_loss: 7.2624e-04\n",
      "Epoch 9/20\n",
      "\u001b[1m11/11\u001b[0m \u001b[32m━━━━━━━━━━━━━━━━━━━━\u001b[0m\u001b[37m\u001b[0m \u001b[1m0s\u001b[0m 21ms/step - loss: 7.4412e-04 - val_loss: 8.0812e-04\n",
      "Epoch 10/20\n",
      "\u001b[1m11/11\u001b[0m \u001b[32m━━━━━━━━━━━━━━━━━━━━\u001b[0m\u001b[37m\u001b[0m \u001b[1m0s\u001b[0m 21ms/step - loss: 8.1552e-04 - val_loss: 6.7387e-04\n",
      "Epoch 11/20\n",
      "\u001b[1m11/11\u001b[0m \u001b[32m━━━━━━━━━━━━━━━━━━━━\u001b[0m\u001b[37m\u001b[0m \u001b[1m0s\u001b[0m 21ms/step - loss: 6.0474e-04 - val_loss: 7.8295e-04\n",
      "Epoch 12/20\n",
      "\u001b[1m11/11\u001b[0m \u001b[32m━━━━━━━━━━━━━━━━━━━━\u001b[0m\u001b[37m\u001b[0m \u001b[1m0s\u001b[0m 23ms/step - loss: 7.2174e-04 - val_loss: 6.4417e-04\n",
      "Epoch 13/20\n",
      "\u001b[1m11/11\u001b[0m \u001b[32m━━━━━━━━━━━━━━━━━━━━\u001b[0m\u001b[37m\u001b[0m \u001b[1m0s\u001b[0m 23ms/step - loss: 7.2002e-04 - val_loss: 5.7195e-04\n",
      "Epoch 14/20\n",
      "\u001b[1m11/11\u001b[0m \u001b[32m━━━━━━━━━━━━━━━━━━━━\u001b[0m\u001b[37m\u001b[0m \u001b[1m0s\u001b[0m 22ms/step - loss: 7.6141e-04 - val_loss: 7.0644e-04\n",
      "Epoch 15/20\n",
      "\u001b[1m11/11\u001b[0m \u001b[32m━━━━━━━━━━━━━━━━━━━━\u001b[0m\u001b[37m\u001b[0m \u001b[1m0s\u001b[0m 22ms/step - loss: 6.1386e-04 - val_loss: 5.8746e-04\n"
     ]
    }
   ],
   "source": [
    "early_stop = tf.keras.callbacks.EarlyStopping(monitor='val_loss', patience=2, restore_best_weights=True)\n",
    "\n",
    "single_step_history = single_step_model.fit(train_data_single, epochs=EPOCH, steps_per_epoch=WEIGHT_UPDATE_INTERVAL, validation_data=val_data_single, validation_steps=VALIDATION_INTERVAL, callbacks=[early_stop])"
   ]
  },
  {
   "cell_type": "markdown",
   "id": "155f0761-2bee-4756-9abb-0fe977dda83f",
   "metadata": {},
   "source": [
    "# 예측 결과 시각화 함수"
   ]
  },
  {
   "cell_type": "code",
   "execution_count": 156,
   "id": "31f4bb9f-eef6-4926-a3a9-6ecd23e924d4",
   "metadata": {},
   "outputs": [],
   "source": [
    "def multi_step_plot(history, true_future, prediction):\n",
    "    plt.figure(figsize=(12, 6))\n",
    "    past_history = range(-len(history), 0)\n",
    "    future = len(true_future)\n",
    "\n",
    "    plt.plot(past_history, history, '.-', label='History')\n",
    "    plt.plot(np.arange(future) / 5, true_future, 'ro', label='True_future')\n",
    "    plt.plot(np.arange(future) /  5, prediction, 'go', label='Predicted_future')\n",
    "    plt.legend()\n",
    "    plt.xlabel('Time-Step')\n",
    "    plt.grid(True)\n",
    "    plt.show()"
   ]
  },
  {
   "cell_type": "markdown",
   "id": "e5146e9c-9a7e-46e8-bf48-2226d9df1277",
   "metadata": {},
   "source": [
    "# 역정규화 함수 & 시각화 함수 사용"
   ]
  },
  {
   "cell_type": "code",
   "execution_count": 158,
   "id": "3c37bdb8-be9b-4bcd-8097-38b1584fba3c",
   "metadata": {},
   "outputs": [],
   "source": [
    "# 역정규화 함수\n",
    "def inverse_coords(arr_3d, scaler):\n",
    "    flat = arr_3d.reshape(-1, 2)\n",
    "    inv = scaler.inverse_transform(flat)\n",
    "    return inv.reshape(arr_3d.shape)\n",
    "\n",
    "# 시각화 함수 사용\n",
    "def multi_step_plot(history, true_future, prediction):\n",
    "    plt.figure(figsize=(12, 6))\n",
    "    past_history = range(-len(history), 0)\n",
    "    future = len(true_future)\n",
    "\n",
    "    plt.plot(past_history, history, '.-', label='History')\n",
    "    plt.plot(np.arange(future) / 5, true_future, 'ro', label='True_future')\n",
    "    plt.plot(np.arange(future) /  5, prediction, 'go', label='Predicted_future')\n",
    "    plt.legend()\n",
    "    plt.xlabel('Time-Step')\n",
    "    plt.grid(True)\n",
    "    plt.show()"
   ]
  },
  {
   "cell_type": "markdown",
   "id": "e85393f9-f026-41d8-82ec-70f47ed53943",
   "metadata": {},
   "source": [
    "# 전체 경로 그리기"
   ]
  },
  {
   "cell_type": "code",
   "execution_count": 160,
   "id": "112c5fa3-cc3d-4861-984f-55e225b443c0",
   "metadata": {},
   "outputs": [],
   "source": [
    "def plot_path(actual_path, pred_path):\n",
    "    plt.figure(figsize=(8,5))\n",
    "    plt.plot(actual_path[:,1], actual_path[:,0], 'r', label='actual path')\n",
    "    plt.plot(pred_path[:,1], pred_path[:,0], 'b', label='pred path')\n",
    "    plt.legend()\n",
    "    plt.grid(True)\n",
    "    plt.show()"
   ]
  },
  {
   "cell_type": "markdown",
   "id": "e4560830-fd90-4153-82e4-4c6786990578",
   "metadata": {},
   "source": [
    "## 전체 데이터에 대한 분할"
   ]
  },
  {
   "cell_type": "code",
   "execution_count": 162,
   "id": "e6352a80-9ba1-4fbd-836b-9ce77f3f9460",
   "metadata": {},
   "outputs": [],
   "source": [
    "X_, y_ = multivariate_data(scaled, scaled, start_index=0, end_index=None, history_size=past_history, target_size=future_target, step=step, single_step=True)"
   ]
  },
  {
   "cell_type": "markdown",
   "id": "f6d3dcdb-beba-4691-9e5c-abc883a98c8e",
   "metadata": {},
   "source": [
    "## 전체 경로에 대한 예측 경로 / 실제 경로\n",
    "- 실제 경로: actual_path\n",
    "- 예측 경로: pred_path"
   ]
  },
  {
   "cell_type": "code",
   "execution_count": 164,
   "id": "b54c68f4-5bcb-459e-ae85-f1142a1f1a5f",
   "metadata": {},
   "outputs": [
    {
     "name": "stdout",
     "output_type": "stream",
     "text": [
      "\u001b[1m7/7\u001b[0m \u001b[32m━━━━━━━━━━━━━━━━━━━━\u001b[0m\u001b[37m\u001b[0m \u001b[1m1s\u001b[0m 75ms/step\n"
     ]
    }
   ],
   "source": [
    "actual_path = features.values\n",
    "pred_path = single_step_model.predict(X_)\n",
    "pred_path = inverse_coords(pred_path, scaler)"
   ]
  },
  {
   "cell_type": "code",
   "execution_count": 165,
   "id": "ffdae16d-2f88-4a35-b25a-c495fa84ccb0",
   "metadata": {},
   "outputs": [
    {
     "data": {
      "text/plain": [
       "((213, 2), (268, 2))"
      ]
     },
     "execution_count": 165,
     "metadata": {},
     "output_type": "execute_result"
    }
   ],
   "source": [
    "pred_path.shape, actual_path.shape"
   ]
  },
  {
   "cell_type": "markdown",
   "id": "0abd1cdd-a235-45aa-9b99-c2a39038e72f",
   "metadata": {},
   "source": [
    "# 지도에 시각화"
   ]
  },
  {
   "cell_type": "code",
   "execution_count": 167,
   "id": "4cc4687e-4758-4bc3-88ee-e139af5a5fa4",
   "metadata": {},
   "outputs": [
    {
     "data": {
      "text/html": [
       "<div style=\"width:100%;\"><div style=\"position:relative;width:100%;height:0;padding-bottom:60%;\"><span style=\"color:#565656\">Make this Notebook Trusted to load map: File -> Trust Notebook</span><iframe srcdoc=\"&lt;!DOCTYPE html&gt;\n",
       "&lt;html&gt;\n",
       "&lt;head&gt;\n",
       "    \n",
       "    &lt;meta http-equiv=&quot;content-type&quot; content=&quot;text/html; charset=UTF-8&quot; /&gt;\n",
       "    \n",
       "        &lt;script&gt;\n",
       "            L_NO_TOUCH = false;\n",
       "            L_DISABLE_3D = false;\n",
       "        &lt;/script&gt;\n",
       "    \n",
       "    &lt;style&gt;html, body {width: 100%;height: 100%;margin: 0;padding: 0;}&lt;/style&gt;\n",
       "    &lt;style&gt;#map {position:absolute;top:0;bottom:0;right:0;left:0;}&lt;/style&gt;\n",
       "    &lt;script src=&quot;https://cdn.jsdelivr.net/npm/leaflet@1.9.3/dist/leaflet.js&quot;&gt;&lt;/script&gt;\n",
       "    &lt;script src=&quot;https://code.jquery.com/jquery-3.7.1.min.js&quot;&gt;&lt;/script&gt;\n",
       "    &lt;script src=&quot;https://cdn.jsdelivr.net/npm/bootstrap@5.2.2/dist/js/bootstrap.bundle.min.js&quot;&gt;&lt;/script&gt;\n",
       "    &lt;script src=&quot;https://cdnjs.cloudflare.com/ajax/libs/Leaflet.awesome-markers/2.0.2/leaflet.awesome-markers.js&quot;&gt;&lt;/script&gt;\n",
       "    &lt;link rel=&quot;stylesheet&quot; href=&quot;https://cdn.jsdelivr.net/npm/leaflet@1.9.3/dist/leaflet.css&quot;/&gt;\n",
       "    &lt;link rel=&quot;stylesheet&quot; href=&quot;https://cdn.jsdelivr.net/npm/bootstrap@5.2.2/dist/css/bootstrap.min.css&quot;/&gt;\n",
       "    &lt;link rel=&quot;stylesheet&quot; href=&quot;https://netdna.bootstrapcdn.com/bootstrap/3.0.0/css/bootstrap-glyphicons.css&quot;/&gt;\n",
       "    &lt;link rel=&quot;stylesheet&quot; href=&quot;https://cdn.jsdelivr.net/npm/@fortawesome/fontawesome-free@6.2.0/css/all.min.css&quot;/&gt;\n",
       "    &lt;link rel=&quot;stylesheet&quot; href=&quot;https://cdnjs.cloudflare.com/ajax/libs/Leaflet.awesome-markers/2.0.2/leaflet.awesome-markers.css&quot;/&gt;\n",
       "    &lt;link rel=&quot;stylesheet&quot; href=&quot;https://cdn.jsdelivr.net/gh/python-visualization/folium/folium/templates/leaflet.awesome.rotate.min.css&quot;/&gt;\n",
       "    \n",
       "            &lt;meta name=&quot;viewport&quot; content=&quot;width=device-width,\n",
       "                initial-scale=1.0, maximum-scale=1.0, user-scalable=no&quot; /&gt;\n",
       "            &lt;style&gt;\n",
       "                #map_b158a2b02df8569dadc5effa79f77031 {\n",
       "                    position: relative;\n",
       "                    width: 100.0%;\n",
       "                    height: 100.0%;\n",
       "                    left: 0.0%;\n",
       "                    top: 0.0%;\n",
       "                }\n",
       "                .leaflet-container { font-size: 1rem; }\n",
       "            &lt;/style&gt;\n",
       "        \n",
       "&lt;/head&gt;\n",
       "&lt;body&gt;\n",
       "    \n",
       "    \n",
       "            &lt;div class=&quot;folium-map&quot; id=&quot;map_b158a2b02df8569dadc5effa79f77031&quot; &gt;&lt;/div&gt;\n",
       "        \n",
       "&lt;/body&gt;\n",
       "&lt;script&gt;\n",
       "    \n",
       "    \n",
       "            var map_b158a2b02df8569dadc5effa79f77031 = L.map(\n",
       "                &quot;map_b158a2b02df8569dadc5effa79f77031&quot;,\n",
       "                {\n",
       "                    center: [36.53762967086419, 124.65531973242798],\n",
       "                    crs: L.CRS.EPSG3857,\n",
       "                    ...{\n",
       "  &quot;zoom&quot;: 9,\n",
       "  &quot;zoomControl&quot;: true,\n",
       "  &quot;preferCanvas&quot;: false,\n",
       "}\n",
       "\n",
       "                }\n",
       "            );\n",
       "\n",
       "            \n",
       "\n",
       "        \n",
       "    \n",
       "            var tile_layer_edef39527d4cd679fb31a4688a1bcd3c = L.tileLayer(\n",
       "                &quot;https://tile.openstreetmap.org/{z}/{x}/{y}.png&quot;,\n",
       "                {\n",
       "  &quot;minZoom&quot;: 0,\n",
       "  &quot;maxZoom&quot;: 19,\n",
       "  &quot;maxNativeZoom&quot;: 19,\n",
       "  &quot;noWrap&quot;: false,\n",
       "  &quot;attribution&quot;: &quot;\\u0026copy; \\u003ca href=\\&quot;https://www.openstreetmap.org/copyright\\&quot;\\u003eOpenStreetMap\\u003c/a\\u003e contributors&quot;,\n",
       "  &quot;subdomains&quot;: &quot;abc&quot;,\n",
       "  &quot;detectRetina&quot;: false,\n",
       "  &quot;tms&quot;: false,\n",
       "  &quot;opacity&quot;: 1,\n",
       "}\n",
       "\n",
       "            );\n",
       "        \n",
       "    \n",
       "            tile_layer_edef39527d4cd679fb31a4688a1bcd3c.addTo(map_b158a2b02df8569dadc5effa79f77031);\n",
       "        \n",
       "    \n",
       "            var poly_line_859f891839476cc831480949c4983b45 = L.polyline(\n",
       "                [[35.10075, 129.04603667], [35.10892833, 129.05538167], [35.08739, 129.09463167], [35.07527833, 129.11239667], [35.02835167, 129.11845333], [34.99243, 129.09641333], [34.97359667, 129.08093333], [34.92686833, 129.041645], [34.89367, 129.01289667], [34.87497667, 128.99636], [34.840815, 128.97018667], [34.80763167, 128.94533833], [34.773005, 128.92006333], [34.74135167, 128.89287333], [34.69604667, 128.84834333], [34.67891167, 128.82852], [34.66319, 128.80239833], [34.63571833, 128.75696667], [34.62305167, 128.73638667], [34.587395, 128.67655], [34.56622, 128.64051], [34.54397167, 128.60600833], [34.52434833, 128.57858167], [34.50536333, 128.55219], [34.486435, 128.51572167], [34.468095, 128.43689], [34.45124333, 128.35965667], [34.443745, 128.32637833], [34.43455167, 128.28899167], [34.423255, 128.24098333], [34.41017167, 128.18542333], [34.396765, 128.12761], [34.38734333, 128.08645167], [34.37915, 128.05166333], [34.36888833, 128.01762833], [34.35449667, 127.97342833], [34.34487, 127.94813333], [34.3198, 127.87811833], [34.31433167, 127.86138167], [34.28093667, 127.79218333], [34.26099, 127.76049167], [34.23828833, 127.72570833], [34.21753833, 127.67727833], [34.20677667, 127.63005167], [34.20246667, 127.61121667], [34.19295167, 127.56979], [34.18678167, 127.54303333], [34.173275, 127.49185333], [34.16927333, 127.47672833], [34.14332333, 127.379795], [34.13925, 127.345765], [34.13245, 127.28513], [34.13186, 127.279325], [34.130095, 127.26465], [34.12610333, 127.19344], [34.123715, 127.11420833], [34.121085, 127.05937833], [34.12024333, 127.045365], [34.10138667, 126.91952333], [34.09568833, 126.89592667], [34.08953833, 126.85022667], [34.08714833, 126.81231167], [34.08548, 126.786035], [34.0805, 126.70424833], [34.07886, 126.681645], [34.075785, 126.61967167], [34.08040667, 126.59799833], [34.08760833, 126.55958667], [34.095135, 126.520265], [34.10085333, 126.48072333], [34.10519833, 126.44419333], [34.10691333, 126.38169833], [34.11194333, 126.34464833], [34.11561333, 126.32503667], [34.12309333, 126.28240667], [34.12052, 126.233825], [34.12121167, 126.17305], [34.12257167, 126.11055333], [34.10512333, 125.982045], [34.10161, 125.91885167], [34.103475, 125.839035], [34.10393167, 125.793375], [34.10689833, 125.77667167], [34.12966, 125.72094833], [34.21484833, 125.68014833], [34.2892, 125.66990167], [34.31694, 125.66563], [34.33933333, 125.661945], [34.414505, 125.65663333], [34.41892333, 125.65590667], [34.46614833, 125.64783333], [34.53179333, 125.634895], [34.55830833, 125.62989167], [34.61731667, 125.61898333], [34.74355667, 125.58371], [34.806915, 125.577745], [34.98166833, 125.48065], [35.03070167, 125.44621667], [35.08345167, 125.40286833], [35.12333333, 125.36833333], [35.20666667, 125.29833333], [35.375, 125.16333333], [35.41666667, 125.13], [35.465, 125.09], [35.54333333, 125.025], [35.691375, 124.90349833], [35.77289167, 124.82947167], [35.81242667, 124.793275], [35.85193167, 124.75722], [35.921005, 124.67441], [35.95492167, 124.63198333], [36.03175833, 124.56943167], [36.07825833, 124.53063167], [36.118755, 124.49635333], [36.19918667, 124.42677667], [36.241105, 124.39489833], [36.28512167, 124.36304167], [36.37169833, 124.30234167], [36.46375167, 124.22297333], [36.47166667, 124.215], [36.605, 124.105], [36.63666667, 124.07333333], [36.72666667, 124.055], [36.765, 124.03833333], [36.94426167, 123.78841], [37.00279, 123.76675], [37.06913833, 123.73847333], [37.07455167, 123.73563167], [37.08240333, 123.73150667], [37.11963, 123.71056], [37.167445, 123.67271833], [37.21646833, 123.63782667], [37.24503667, 123.625915], [37.290215, 123.59491167], [37.343415, 123.55691667], [37.39820333, 123.50162833], [37.43821333, 123.474255], [37.49113667, 123.43627167], [37.52582167, 123.40090833], [37.549555, 123.37515833], [37.55072, 123.373905], [37.57685667, 123.34589333], [37.612185, 123.30453], [37.65119833, 123.25011], [37.67259167, 123.21929167], [37.70108, 123.17814333], [37.71142167, 123.16314667], [37.73354, 123.130985], [37.7641, 123.08656667], [37.77585333, 123.07001333], [37.79687, 123.03848333], [37.825205, 122.99314833], [37.846305, 122.961585], [37.88037333, 122.91935167], [37.91646, 122.88121833], [37.91905833, 122.87855833], [37.95627833, 122.83662333], [38.01029333, 122.77929167], [38.03346833, 122.73457667], [38.04127, 122.719665], [38.08807167, 122.63345333], [38.10759667, 122.60147333], [38.12499833, 122.570725], [38.15, 122.52], [38.19166667, 122.43166667], [38.34112667, 122.30295667], [38.36629, 122.285205], [38.42037, 122.24692], [38.45972667, 122.22607167], [38.49805, 122.205355], [38.52241, 122.19188833], [38.555655, 122.17392667], [38.58959667, 122.14211333], [38.60485667, 122.12616], [38.63035333, 122.09554667], [38.65916667, 122.06836167], [38.67071833, 122.05012], [38.68202, 122.03534833], [38.69566667, 122.02758], [38.75718, 122.0006], [38.78568, 121.99051833], [38.80649, 121.978975], [38.82500167, 121.96053667], [38.84257167, 121.94969667], [38.86333, 121.94726167], [38.89686667, 121.94361667], [38.91925167, 121.95561833], [38.91997833, 121.95958167], [38.91691833, 122.006855], [38.91158167, 122.008465], [38.913345, 122.008845], [38.91338, 122.00913167], [38.913355, 122.00911333], [38.91339667, 122.00922833], [38.91337833, 122.00912167], [38.91335, 122.00908667], [38.91337, 122.009135], [38.91338333, 122.00933], [38.91337833, 122.009105], [38.91341667, 122.00930167], [38.91340333, 122.00922667], [38.91340167, 122.009275], [38.91339333, 122.00931], [38.91338833, 122.00930333], [38.91335333, 122.00944167], [38.91337333, 122.00959333], [38.9134, 122.00963333], [38.91334667, 122.00974333], [38.913335, 122.00982667], [38.91330833, 122.00991667], [38.913315, 122.00996], [38.91328333, 122.010055], [38.91324833, 122.01014667], [38.91320333, 122.010245], [38.91320167, 122.01035667], [38.913225, 122.01031667], [38.91315667, 122.01036167], [38.91315667, 122.01037833], [38.91315333, 122.01037333], [38.91309833, 122.01046], [38.91310333, 122.01045167], [38.91308667, 122.01045], [38.913075, 122.01043333], [38.91308833, 122.010495], [38.91304833, 122.010485], [38.91304667, 122.01047333], [38.91308167, 122.01043167], [38.91306167, 122.01047667], [38.91306333, 122.01046667], [38.91311167, 122.01039333], [38.91309667, 122.01042], [38.912825, 122.01014333], [38.91258833, 122.01009667], [38.909345, 122.00599167], [38.90103167, 121.97147167], [38.90360667, 121.95324], [38.925655, 121.95359], [38.93559667, 121.95305833], [38.96312667, 121.94685333], [38.990435, 121.92304333], [39.00371167, 121.89912167], [38.99896667, 121.89204], [38.99840167, 121.89087333]],\n",
       "                {&quot;bubblingMouseEvents&quot;: true, &quot;color&quot;: &quot;red&quot;, &quot;dashArray&quot;: null, &quot;dashOffset&quot;: null, &quot;fill&quot;: false, &quot;fillColor&quot;: &quot;red&quot;, &quot;fillOpacity&quot;: 0.2, &quot;fillRule&quot;: &quot;evenodd&quot;, &quot;lineCap&quot;: &quot;round&quot;, &quot;lineJoin&quot;: &quot;round&quot;, &quot;noClip&quot;: false, &quot;opacity&quot;: 1.0, &quot;smoothFactor&quot;: 1.0, &quot;stroke&quot;: true, &quot;weight&quot;: 4}\n",
       "            ).addTo(map_b158a2b02df8569dadc5effa79f77031);\n",
       "        \n",
       "    \n",
       "            poly_line_859f891839476cc831480949c4983b45.bindTooltip(\n",
       "                `&lt;div&gt;\n",
       "                     Actual Path\n",
       "                 &lt;/div&gt;`,\n",
       "                {\n",
       "  &quot;sticky&quot;: true,\n",
       "}\n",
       "            );\n",
       "        \n",
       "    \n",
       "            var poly_line_605182296015d4ea5f2934b7c2838052 = L.polyline(\n",
       "                [[34.02212142944336, 127.26820373535156], [34.01004409790039, 127.20393371582031], [34.000667572021484, 127.1407241821289], [33.99523162841797, 127.08135223388672], [33.992855072021484, 127.0262222290039], [33.99324035644531, 126.97543334960938], [33.995933532714844, 126.92859649658203], [33.99937057495117, 126.88322448730469], [34.00388717651367, 126.83892059326172], [34.00962448120117, 126.79518127441406], [34.01625442504883, 126.75037384033203], [34.024261474609375, 126.7055435180664], [34.03430938720703, 126.66362762451172], [34.045711517333984, 126.62379455566406], [34.058170318603516, 126.5850830078125], [34.071533203125, 126.5472183227539], [34.08455276489258, 126.5060043334961], [34.097694396972656, 126.46202850341797], [34.11174011230469, 126.41830444335938], [34.1265869140625, 126.37635803222656], [34.14197540283203, 126.33660125732422], [34.15769577026367, 126.2990493774414], [34.173622131347656, 126.263671875], [34.189666748046875, 126.23037719726562], [34.20571517944336, 126.19904327392578], [34.22168731689453, 126.16952514648438], [34.23768615722656, 126.14173126220703], [34.25374221801758, 126.11532592773438], [34.269718170166016, 126.0902099609375], [34.2857666015625, 126.0662612915039], [34.30185317993164, 126.04338836669922], [34.31776809692383, 126.02137756347656], [34.333343505859375, 126.00005340576172], [34.348480224609375, 125.97929382324219], [34.36302947998047, 125.9590072631836], [34.3770866394043, 125.93871307373047], [34.39070129394531, 125.91844177246094], [34.40385437011719, 125.89808654785156], [34.41648864746094, 125.8777847290039], [34.42885208129883, 125.8575668334961], [34.44084930419922, 125.83728790283203], [34.452674865722656, 125.81676483154297], [34.46438980102539, 125.7959976196289], [34.47606658935547, 125.77505493164062], [34.487735748291016, 125.75373077392578], [34.49956512451172, 125.73255920410156], [34.5117073059082, 125.711181640625], [34.524024963378906, 125.68716430664062], [34.53666687011719, 125.66131591796875], [34.5497932434082, 125.63316345214844], [34.5644645690918, 125.60372924804688], [34.58585739135742, 125.56871032714844], [34.61162567138672, 125.5301513671875], [34.6416015625, 125.48973846435547], [34.67681121826172, 125.44676208496094], [34.71577453613281, 125.40263366699219], [34.7580451965332, 125.3603286743164], [34.802886962890625, 125.32112121582031], [34.85270690917969, 125.28516387939453], [34.905128479003906, 125.25254821777344], [34.95854187011719, 125.22339630126953], [35.01226806640625, 125.19776153564453], [35.069366455078125, 125.17510223388672], [35.12361145019531, 125.15463256835938], [35.17658233642578, 125.13593292236328], [35.22657012939453, 125.11872863769531], [35.2765007019043, 125.10221099853516], [35.32265853881836, 125.08662414550781], [35.36720275878906, 125.07177734375], [35.41175079345703, 125.0559310913086], [35.453285217285156, 125.03997802734375], [35.49333953857422, 125.02328491210938], [35.53062438964844, 125.006591796875], [35.56629180908203, 124.98934173583984], [35.598968505859375, 124.97271728515625], [35.631019592285156, 124.95507049560547], [35.662086486816406, 124.93632507324219], [35.69239044189453, 124.91673278808594], [35.72337341308594, 124.8952407836914], [35.7536735534668, 124.87311553955078], [35.78228759765625, 124.8520278930664], [35.81003189086914, 124.83158874511719], [35.835845947265625, 124.81260681152344], [35.86165237426758, 124.79340362548828], [35.88761901855469, 124.77354431152344], [35.91260528564453, 124.75426483154297], [35.93756103515625, 124.735107421875], [35.962257385253906, 124.71603393554688], [35.9880256652832, 124.6958999633789], [36.01382827758789, 124.67543029785156], [36.03961944580078, 124.65499114990234], [36.0667839050293, 124.63308715820312], [36.09444046020508, 124.61033630371094], [36.12199020385742, 124.58766174316406], [36.15018844604492, 124.5646743774414], [36.17848587036133, 124.54193115234375], [36.206661224365234, 124.51985931396484], [36.23480224609375, 124.49693298339844], [36.2620964050293, 124.4732437133789], [36.28841018676758, 124.44916534423828], [36.315673828125, 124.42415618896484], [36.342994689941406, 124.39904022216797], [36.37016677856445, 124.37425231933594], [36.398067474365234, 124.34867858886719], [36.42613220214844, 124.32334899902344], [36.45430374145508, 124.2987060546875], [36.48168182373047, 124.2754898071289], [36.50960922241211, 124.2527847290039], [36.53740310668945, 124.23072814941406], [36.563560485839844, 124.21051025390625], [36.589141845703125, 124.19157409667969], [36.61279296875, 124.17452239990234], [36.63734436035156, 124.15750885009766], [36.66184616088867, 124.14063262939453], [36.686519622802734, 124.12382507324219], [36.71155548095703, 124.10747528076172], [36.73583984375, 124.09205627441406], [36.760704040527344, 124.07617950439453], [36.78561019897461, 124.05996704101562], [36.81156921386719, 124.04254150390625], [36.83732604980469, 124.02459716796875], [36.862850189208984, 124.00579071044922], [36.8880500793457, 123.9854507446289], [36.91633987426758, 123.95812225341797], [36.94507598876953, 123.9278564453125], [36.97420120239258, 123.89656829833984], [37.004825592041016, 123.86363983154297], [37.03559494018555, 123.83063507080078], [37.06623840332031, 123.79833984375], [37.095855712890625, 123.76746368408203], [37.12538146972656, 123.73643493652344], [37.15348434448242, 123.70716857910156], [37.18030548095703, 123.67974853515625], [37.205421447753906, 123.6546630859375], [37.22956466674805, 123.63072204589844], [37.25419235229492, 123.60535430908203], [37.278255462646484, 123.57996368408203], [37.30164337158203, 123.55538940429688], [37.32381820678711, 123.53247833251953], [37.34497833251953, 123.51097106933594], [37.36467742919922, 123.49137878417969], [37.383514404296875, 123.47252655029297], [37.40156555175781, 123.45331573486328], [37.41897964477539, 123.4338150024414], [37.43524932861328, 123.41572570800781], [37.4503288269043, 123.39751434326172], [37.46417999267578, 123.38081359863281], [37.476680755615234, 123.3640365600586], [37.4881706237793, 123.3460693359375], [37.49899673461914, 123.32787322998047], [37.50920867919922, 123.3101806640625], [37.519187927246094, 123.2917709350586], [37.52944564819336, 123.2732162475586], [37.53936767578125, 123.25601959228516], [37.54932403564453, 123.23978424072266], [37.55908203125, 123.22471618652344], [37.569435119628906, 123.21022033691406], [37.58088302612305, 123.19612121582031], [37.59333801269531, 123.18266296386719], [37.60734558105469, 123.16973114013672], [37.6234245300293, 123.1563491821289], [37.63970184326172, 123.14286041259766], [37.656253814697266, 123.12875366210938], [37.67237091064453, 123.11397552490234], [37.68769073486328, 123.0995101928711], [37.70219421386719, 123.08524322509766], [37.71617889404297, 123.0705795288086], [37.72970199584961, 123.05570983886719], [37.742740631103516, 123.04097747802734], [37.75542449951172, 123.02644348144531], [37.76784896850586, 123.01212310791016], [37.779624938964844, 122.99868774414062], [37.79127502441406, 122.98531341552734], [37.802486419677734, 122.97183990478516], [37.81313705444336, 122.95879364013672], [37.82341003417969, 122.94513702392578], [37.83336639404297, 122.9310531616211], [37.84293746948242, 122.91719055175781], [37.85219955444336, 122.9032211303711], [37.86105728149414, 122.88968658447266], [37.87002944946289, 122.87457275390625], [37.87897872924805, 122.85912322998047], [37.88791275024414, 122.84337615966797], [37.89658737182617, 122.82826232910156], [37.90506362915039, 122.81271362304688], [37.91343688964844, 122.79672241210938], [37.92207336425781, 122.78084564208984], [37.93099594116211, 122.76490783691406], [37.93975830078125, 122.74980163574219], [37.94861602783203, 122.7347640991211], [37.957496643066406, 122.71978759765625], [37.96646499633789, 122.70462799072266], [37.97560119628906, 122.68910217285156], [37.98508071899414, 122.67274475097656], [37.994712829589844, 122.65586853027344], [38.00434875488281, 122.63787078857422], [38.01383590698242, 122.62029266357422], [38.0229606628418, 122.60376739501953], [38.031585693359375, 122.5882339477539], [38.04005432128906, 122.57241821289062], [38.048770904541016, 122.55638885498047], [38.0576171875, 122.5405502319336], [38.066410064697266, 122.52542877197266], [38.07556915283203, 122.50971984863281], [38.08489227294922, 122.49388122558594], [38.094139099121094, 122.47866821289062], [38.103267669677734, 122.4638671875], [38.11192321777344, 122.45043182373047], [38.12039566040039, 122.43708038330078], [38.12879943847656, 122.42313385009766], [38.137062072753906, 122.40946960449219], [38.14516067504883, 122.39613342285156], [38.15323257446289, 122.38233947753906]],\n",
       "                {&quot;bubblingMouseEvents&quot;: true, &quot;color&quot;: &quot;green&quot;, &quot;dashArray&quot;: null, &quot;dashOffset&quot;: null, &quot;fill&quot;: false, &quot;fillColor&quot;: &quot;green&quot;, &quot;fillOpacity&quot;: 0.2, &quot;fillRule&quot;: &quot;evenodd&quot;, &quot;lineCap&quot;: &quot;round&quot;, &quot;lineJoin&quot;: &quot;round&quot;, &quot;noClip&quot;: false, &quot;opacity&quot;: 1.0, &quot;smoothFactor&quot;: 1.0, &quot;stroke&quot;: true, &quot;weight&quot;: 4}\n",
       "            ).addTo(map_b158a2b02df8569dadc5effa79f77031);\n",
       "        \n",
       "    \n",
       "            poly_line_605182296015d4ea5f2934b7c2838052.bindTooltip(\n",
       "                `&lt;div&gt;\n",
       "                     Predicted Path\n",
       "                 &lt;/div&gt;`,\n",
       "                {\n",
       "  &quot;sticky&quot;: true,\n",
       "}\n",
       "            );\n",
       "        \n",
       "&lt;/script&gt;\n",
       "&lt;/html&gt;\" style=\"position:absolute;width:100%;height:100%;left:0;top:0;border:none !important;\" allowfullscreen webkitallowfullscreen mozallowfullscreen></iframe></div></div>"
      ],
      "text/plain": [
       "<folium.folium.Map at 0x2111affb140>"
      ]
     },
     "metadata": {},
     "output_type": "display_data"
    }
   ],
   "source": [
    "# 실제 경로\n",
    "import folium\n",
    "from folium import PolyLine\n",
    "\n",
    "true_coords = list(zip(df['LAT'], df['LON']))\n",
    "center_lat = df['LAT'].mean()\n",
    "center_lon = df['LON'].mean()\n",
    "\n",
    "# 지도 객체 생성\n",
    "m = folium.Map(location=[center_lat, center_lon], zoom_start=9)\n",
    "\n",
    "# 실제 경로 선 그리기\n",
    "folium.PolyLine(true_coords, color='red', weight=4, tooltip='Actual Path').add_to(m)\n",
    "\n",
    "# 예측 경로 선 그기기\n",
    "pred_path = np.array(pred_path)\n",
    "#print(pred_path)\n",
    "folium.PolyLine(pred_path, color='green', weight=4, tooltip='Predicted Path').add_to(m)\n",
    "\n",
    "# 지도 실행\n",
    "display(m)"
   ]
  },
  {
   "cell_type": "markdown",
   "id": "560a154a-bf72-437b-9f9e-9f320e932e2c",
   "metadata": {},
   "source": [
    "# 결정계수 확인"
   ]
  },
  {
   "cell_type": "code",
   "execution_count": 169,
   "id": "890e33f6-d37d-4c2f-be51-05cfdce7214c",
   "metadata": {},
   "outputs": [
    {
     "name": "stdout",
     "output_type": "stream",
     "text": [
      "LAT R2-Score:0.966\n",
      "LON R2-Score:0.966\n"
     ]
    }
   ],
   "source": [
    "from sklearn.metrics import r2_score\n",
    "\n",
    "print('LAT R2-Score:%.3f'%r2_score(actual_path[55:,0], pred_path[:,0]))\n",
    "print('LON R2-Score:%.3f'%r2_score(actual_path[55:,1], pred_path[:,1]))\n",
    "# actual_path[X:,0] -> X: past_history + future_target"
   ]
  },
  {
   "cell_type": "markdown",
   "id": "12c42103-13b9-430c-a662-bc91f749aa5d",
   "metadata": {},
   "source": [
    "# 모델 저장"
   ]
  },
  {
   "cell_type": "code",
   "execution_count": 172,
   "id": "78fdc851-4b8c-458e-8bc8-f1a1d47abe2d",
   "metadata": {},
   "outputs": [],
   "source": [
    "single_step_model.save('CNDAG_model.keras')"
   ]
  },
  {
   "cell_type": "markdown",
   "id": "052a11ec-40c8-46b1-b583-f741b89d38fb",
   "metadata": {},
   "source": [
    "# 오차 계산 및 시각화 함수"
   ]
  },
  {
   "cell_type": "code",
   "execution_count": 175,
   "id": "c87f7620-d831-43cc-aac3-dbb41bf2e507",
   "metadata": {},
   "outputs": [],
   "source": [
    "import numpy as np\n",
    "import matplotlib.pyplot as plt\n",
    "\n",
    "def plot_prediction_errors(actual_path, pred_path):\n",
    "    \"\"\"\n",
    "    실제값(actual_path)과 예측값(pred_path)을 비교하여 오차 시각화\n",
    "    - actual_path, pred_path: shape (N, 2) [LAT, LON]\n",
    "    \"\"\"\n",
    "    # 1. 오차 계산\n",
    "    offset = len(actual_path) - len(pred_path)\n",
    "    actual_aligned = actual_path[offset:]  # 실제 경로 뒤쪽 자르기 (예측에 맞춤)\n",
    "\n",
    "    # actual_path와 pred_path 길이 맞춰 오차 계산\n",
    "    lat_error = actual_aligned[:, 0] - pred_path[:, 0]\n",
    "    lon_error = actual_aligned[:, 1] - pred_path[:, 1]\n",
    "    total_error = np.sqrt(lat_error**2 + lon_error**2)  # 유클리드 거리 (단위: degree)\n",
    "\n",
    "    # 2. 시각화\n",
    "    plt.figure(figsize=(12, 4))\n",
    "\n",
    "    # ✅ y축 범위 통일을 위한 최대/최소 계산\n",
    "    y_min = min(lat_error.min(), lon_error.min(), total_error.min())\n",
    "    y_max = max(lat_error.max(), lon_error.max(), total_error.max())\n",
    "\n",
    "    plt.subplot(1, 3, 1)\n",
    "    plt.plot(lat_error, label='Latitude Error', color='orange')\n",
    "    plt.ylim(y_min, y_max)\n",
    "    plt.title('Latitude Error')\n",
    "    plt.xlabel('Sample Index')\n",
    "    plt.ylabel('Error (deg)')\n",
    "    plt.grid(True)\n",
    "\n",
    "    plt.subplot(1, 3, 2)\n",
    "    plt.plot(lon_error, label='Longitude Error', color='green')\n",
    "    plt.ylim(y_min, y_max)\n",
    "    plt.title('Longitude Error')\n",
    "    plt.xlabel('Sample Index')\n",
    "    plt.grid(True)\n",
    "\n",
    "    plt.subplot(1, 3, 3)\n",
    "    plt.plot(total_error, label='Total Position Error', color='red')\n",
    "    plt.ylim(y_min, y_max)\n",
    "    plt.title('Total Distance Error (deg)')\n",
    "    plt.xlabel('Sample Index')\n",
    "    plt.grid(True)\n",
    "\n",
    "    plt.tight_layout()\n",
    "    plt.show()\n",
    "\n",
    "    # 4. 평균 오차 (° 단위)\n",
    "    mean_lat_error = np.mean(np.abs(lat_error))\n",
    "    mean_lon_error = np.mean(np.abs(lon_error))\n",
    "    mean_total_error = np.mean(total_error)\n",
    "\n",
    "    # 5. 평균 오차 (km 단위)\n",
    "    avg_lat_rad = np.radians(np.mean(actual_path[:, 0]))  # 평균 위도 → 라디안\n",
    "    km_lat_error = mean_lat_error * 111  # 위도는 고정\n",
    "    km_lon_error = mean_lon_error * 111 * np.cos(avg_lat_rad)  # 경도는 위도에 따라 조정\n",
    "    km_total_error = mean_total_error * 111\n",
    "\n",
    "    # 3. 평균 오차 출력\n",
    "    print(f\"평균 LAT(위도) 오차 범위: {mean_lat_error:.2f}° (약 {km_lat_error:.2f}km)\")\n",
    "    print(f\"평균 LON(경도) 오차 범위: {mean_lon_error:.2f}° (약 {km_lon_error:.2f}km)\")\n",
    "    print(f\"평균 전체 위치 오차 범위: {mean_total_error:.2f}° (약 {km_total_error:.2f}km)\")\n",
    "\n",
    "    return lat_error, lon_error, total_error"
   ]
  },
  {
   "cell_type": "code",
   "execution_count": 176,
   "id": "6f3bcf70-2757-4f52-b2d1-b11aca3e460a",
   "metadata": {},
   "outputs": [
    {
     "data": {
      "image/png": "[encoded data removed]",
      "text/plain": [
       "<Figure size 1200x400 with 3 Axes>"
      ]
     },
     "metadata": {},
     "output_type": "display_data"
    },
    {
     "name": "stdout",
     "output_type": "stream",
     "text": [
      "평균 LAT(위도) 오차 범위: 0.20° (약 22.12km)\n",
      "평균 LON(경도) 오차 범위: 0.22° (약 19.60km)\n",
      "평균 전체 위치 오차 범위: 0.31° (약 34.48km)\n"
     ]
    }
   ],
   "source": [
    "lat_err, lon_err, total_err = plot_prediction_errors(actual_path, pred_path)\n",
    "# LAT(위도): y값 = 위도오차 (예측값-실제값) / 위로 가면 북쪽, 아래로 가면 남쪽\n",
    "# LON(경도): y값 = 경도오차 (예측값-실제값) / 왼쪽으로 가면 서쪽, 오른쪽으로 가면 동쪽\n",
    "# 평균 전체: LAT+LON 오차를 유클리드 거리로 계산, 값이 작을수록 모델이 정확히 예측"
   ]
  },
  {
   "cell_type": "markdown",
   "id": "ceee79ba-88e5-4c71-b271-d08b8ae687b2",
   "metadata": {},
   "source": [
    "# 모델 불러오기"
   ]
  },
  {
   "cell_type": "code",
   "execution_count": 181,
   "id": "e9a15e9a-cc2d-4b0e-ada4-fe3b16c833c9",
   "metadata": {},
   "outputs": [],
   "source": [
    "from tensorflow.keras.models import load_model\n",
    "\n",
    "model = load_model('CNDAG_model.keras')"
   ]
  },
  {
   "cell_type": "markdown",
   "id": "b4eb5f1b-1942-4559-a915-fb530de2ba99",
   "metadata": {},
   "source": [
    "# 다른 파일(선박) 로딩 / 모델에 적용"
   ]
  },
  {
   "cell_type": "code",
   "execution_count": 183,
   "id": "4a6e7ae4-10a4-41c0-a338-394e0c18b089",
   "metadata": {},
   "outputs": [],
   "source": [
    "# 시퀀스 생성 함수\n",
    "import numpy as np\n",
    "\n",
    "def multivariate_data(dataset, target, start_index, end_index, history_size, target_size, step, single_step=False):\n",
    "    data, labels = [], []\n",
    "    start_index = start_index + history_size\n",
    "\n",
    "    if end_index is None:\n",
    "        end_index = len(dataset) - target_size\n",
    "\n",
    "    for i in range(start_index, end_index):\n",
    "        indices = range(i - history_size, i, step)\n",
    "        data.append(dataset[indices])\n",
    "\n",
    "        if single_step:\n",
    "            labels.append(target[i + target_size])\n",
    "        else:\n",
    "            labels.append(target[i:i + target_size])\n",
    "    return np.array(data), np.array(labels)"
   ]
  },
  {
   "cell_type": "code",
   "execution_count": 184,
   "id": "29e11255-6468-4150-bf9d-ee0fa59b5db9",
   "metadata": {},
   "outputs": [],
   "source": [
    "# 예측 수행 함수\n",
    "from tensorflow.keras.models import load_model\n",
    "from sklearn.preprocessing import MinMaxScaler\n",
    "import pandas as pd\n",
    "\n",
    "def predict_from_file(csv_path, model_path, past_history=30, future_target=10, step=1):\n",
    "\n",
    "    # 1. CSV 불러오기\n",
    "    df = pd.read_csv(csv_path)\n",
    "    df['TIMESTAMP'] = pd.to_datetime(df['TIMESTAMP'])\n",
    "    df = df.sort_values('TIMESTAMP')\n",
    "    features = df[['LAT', 'LON']].copy()\n",
    "\n",
    "    # 2. 스케일링\n",
    "    scaler = MinMaxScaler()\n",
    "    features_scaled = scaler.fit_transform(features)\n",
    "\n",
    "    # 3. 전체 데이터에 대한 분할 (시퀀스 생성)\n",
    "    X_, y_ = multivariate_data(features_scaled, features_scaled,\n",
    "                              start_index=0, end_index=None,\n",
    "                              history_size=past_history,\n",
    "                              target_size=future_target,\n",
    "                              step=step,\n",
    "                              single_step=True)\n",
    "\n",
    "    # 4. 모델 불러오기 & 예측\n",
    "    model = load_model(model_path)\n",
    "    y_pred_scaled = model.predict(X_)\n",
    "\n",
    "    # 5. 역정규화\n",
    "    y_pred = scaler.inverse_transform(y_pred_scaled)\n",
    "    y_true = scaler.inverse_transform(y_)\n",
    "\n",
    "    # 6. R² 계산\n",
    "    r2_lat = r2_score(y_true[:, 0], y_pred[:, 0])\n",
    "    r2_lon = r2_score(y_true[:, 1], y_pred[:, 1])\n",
    "\n",
    "    print(f\"📈 LAT R²: {r2_lat:.4f}\")\n",
    "    print(f\"📈 LON R²: {r2_lon:.4f}\")\n",
    "\n",
    "    # 7. 전체 실제 경로도 반환\n",
    "    true_path = features.values\n",
    "\n",
    "    return true_path, y_pred, df"
   ]
  },
  {
   "cell_type": "code",
   "execution_count": 187,
   "id": "9173573a-1aaf-4834-a812-f8fa658586f5",
   "metadata": {},
   "outputs": [],
   "source": [
    "# 지도 시각화 함수\n",
    "import folium\n",
    "from IPython.display import display\n",
    "\n",
    "def plot_paths_on_map(true_path, pred_path, df):\n",
    "    # 좌표 float 변환\n",
    "    true_coords = [(float(lat), float(lon)) for lat, lon in true_path]\n",
    "    pred_coords = [(float(lat), float(lon)) for lat, lon in pred_path]\n",
    "\n",
    "    # 지도 중심\n",
    "    center_lat = df['LAT'].mean()\n",
    "    center_lon = df['LON'].mean()\n",
    "\n",
    "    m = folium.Map(location=[center_lat, center_lon], zoom_start=9)\n",
    "    folium.PolyLine(true_coords, color='red', weight=4, tooltip='Actual Path').add_to(m)\n",
    "    folium.PolyLine(pred_coords, color='green', weight=4, tooltip='Predicted Path').add_to(m)\n",
    "    m.fit_bounds(true_coords + pred_coords)\n",
    "\n",
    "    display(m)"
   ]
  },
  {
   "cell_type": "markdown",
   "id": "ef2ee813-5493-4afc-a49f-06225df3dc1c",
   "metadata": {},
   "source": [
    "## 모델에 적용 / 시각화"
   ]
  },
  {
   "cell_type": "code",
   "execution_count": 191,
   "id": "2e17a0bf-ccd6-47aa-a497-f93f06a872c3",
   "metadata": {},
   "outputs": [
    {
     "name": "stdout",
     "output_type": "stream",
     "text": [
      "\u001b[1m12/12\u001b[0m \u001b[32m━━━━━━━━━━━━━━━━━━━━\u001b[0m\u001b[37m\u001b[0m \u001b[1m1s\u001b[0m 41ms/step\n",
      "📈 LAT R²: 0.9748\n",
      "📈 LON R²: 0.9421\n"
     ]
    }
   ],
   "source": [
    "# (1) 첫 번째 선박으로 모델을 생성, 두 번째 선박에 적용\n",
    "# 1. 예측 실행\n",
    "true_path, pred_path, df = predict_from_file(\n",
    "    './datasets/KRPUS_CNDAG/42c578a0-ce4c-3cf7-977e-ece463542581.csv',\n",
    "    'CNDAG_model.keras'\n",
    ")"
   ]
  },
  {
   "cell_type": "code",
   "execution_count": 209,
   "id": "07f629bf-8b4c-45a9-bb7d-1852dc014c3c",
   "metadata": {},
   "outputs": [
    {
     "data": {
      "text/html": [
       "<div style=\"width:100%;\"><div style=\"position:relative;width:100%;height:0;padding-bottom:60%;\"><span style=\"color:#565656\">Make this Notebook Trusted to load map: File -> Trust Notebook</span><iframe srcdoc=\"&lt;!DOCTYPE html&gt;\n",
       "&lt;html&gt;\n",
       "&lt;head&gt;\n",
       "    \n",
       "    &lt;meta http-equiv=&quot;content-type&quot; content=&quot;text/html; charset=UTF-8&quot; /&gt;\n",
       "    \n",
       "        &lt;script&gt;\n",
       "            L_NO_TOUCH = false;\n",
       "            L_DISABLE_3D = false;\n",
       "        &lt;/script&gt;\n",
       "    \n",
       "    &lt;style&gt;html, body {width: 100%;height: 100%;margin: 0;padding: 0;}&lt;/style&gt;\n",
       "    &lt;style&gt;#map {position:absolute;top:0;bottom:0;right:0;left:0;}&lt;/style&gt;\n",
       "    &lt;script src=&quot;https://cdn.jsdelivr.net/npm/leaflet@1.9.3/dist/leaflet.js&quot;&gt;&lt;/script&gt;\n",
       "    &lt;script src=&quot;https://code.jquery.com/jquery-3.7.1.min.js&quot;&gt;&lt;/script&gt;\n",
       "    &lt;script src=&quot;https://cdn.jsdelivr.net/npm/bootstrap@5.2.2/dist/js/bootstrap.bundle.min.js&quot;&gt;&lt;/script&gt;\n",
       "    &lt;script src=&quot;https://cdnjs.cloudflare.com/ajax/libs/Leaflet.awesome-markers/2.0.2/leaflet.awesome-markers.js&quot;&gt;&lt;/script&gt;\n",
       "    &lt;link rel=&quot;stylesheet&quot; href=&quot;https://cdn.jsdelivr.net/npm/leaflet@1.9.3/dist/leaflet.css&quot;/&gt;\n",
       "    &lt;link rel=&quot;stylesheet&quot; href=&quot;https://cdn.jsdelivr.net/npm/bootstrap@5.2.2/dist/css/bootstrap.min.css&quot;/&gt;\n",
       "    &lt;link rel=&quot;stylesheet&quot; href=&quot;https://netdna.bootstrapcdn.com/bootstrap/3.0.0/css/bootstrap-glyphicons.css&quot;/&gt;\n",
       "    &lt;link rel=&quot;stylesheet&quot; href=&quot;https://cdn.jsdelivr.net/npm/@fortawesome/fontawesome-free@6.2.0/css/all.min.css&quot;/&gt;\n",
       "    &lt;link rel=&quot;stylesheet&quot; href=&quot;https://cdnjs.cloudflare.com/ajax/libs/Leaflet.awesome-markers/2.0.2/leaflet.awesome-markers.css&quot;/&gt;\n",
       "    &lt;link rel=&quot;stylesheet&quot; href=&quot;https://cdn.jsdelivr.net/gh/python-visualization/folium/folium/templates/leaflet.awesome.rotate.min.css&quot;/&gt;\n",
       "    \n",
       "            &lt;meta name=&quot;viewport&quot; content=&quot;width=device-width,\n",
       "                initial-scale=1.0, maximum-scale=1.0, user-scalable=no&quot; /&gt;\n",
       "            &lt;style&gt;\n",
       "                #map_d17218ba7bee18bfc5b29af3cf495c48 {\n",
       "                    position: relative;\n",
       "                    width: 100.0%;\n",
       "                    height: 100.0%;\n",
       "                    left: 0.0%;\n",
       "                    top: 0.0%;\n",
       "                }\n",
       "                .leaflet-container { font-size: 1rem; }\n",
       "            &lt;/style&gt;\n",
       "        \n",
       "&lt;/head&gt;\n",
       "&lt;body&gt;\n",
       "    \n",
       "    \n",
       "            &lt;div class=&quot;folium-map&quot; id=&quot;map_d17218ba7bee18bfc5b29af3cf495c48&quot; &gt;&lt;/div&gt;\n",
       "        \n",
       "&lt;/body&gt;\n",
       "&lt;script&gt;\n",
       "    \n",
       "    \n",
       "            var map_d17218ba7bee18bfc5b29af3cf495c48 = L.map(\n",
       "                &quot;map_d17218ba7bee18bfc5b29af3cf495c48&quot;,\n",
       "                {\n",
       "                    center: [36.53762967086419, 124.65531973242798],\n",
       "                    crs: L.CRS.EPSG3857,\n",
       "                    ...{\n",
       "  &quot;zoom&quot;: 9,\n",
       "  &quot;zoomControl&quot;: true,\n",
       "  &quot;preferCanvas&quot;: false,\n",
       "}\n",
       "\n",
       "                }\n",
       "            );\n",
       "\n",
       "            \n",
       "\n",
       "        \n",
       "    \n",
       "            var tile_layer_4d05d96458d6258012dfa0fa12ee379c = L.tileLayer(\n",
       "                &quot;https://tile.openstreetmap.org/{z}/{x}/{y}.png&quot;,\n",
       "                {\n",
       "  &quot;minZoom&quot;: 0,\n",
       "  &quot;maxZoom&quot;: 19,\n",
       "  &quot;maxNativeZoom&quot;: 19,\n",
       "  &quot;noWrap&quot;: false,\n",
       "  &quot;attribution&quot;: &quot;\\u0026copy; \\u003ca href=\\&quot;https://www.openstreetmap.org/copyright\\&quot;\\u003eOpenStreetMap\\u003c/a\\u003e contributors&quot;,\n",
       "  &quot;subdomains&quot;: &quot;abc&quot;,\n",
       "  &quot;detectRetina&quot;: false,\n",
       "  &quot;tms&quot;: false,\n",
       "  &quot;opacity&quot;: 1,\n",
       "}\n",
       "\n",
       "            );\n",
       "        \n",
       "    \n",
       "            tile_layer_4d05d96458d6258012dfa0fa12ee379c.addTo(map_d17218ba7bee18bfc5b29af3cf495c48);\n",
       "        \n",
       "    \n",
       "            var poly_line_ef8212f2cad4b952dcfe8dcb62866abd = L.polyline(\n",
       "                [[35.10075, 129.04603667], [35.10892833, 129.05538167], [35.08739, 129.09463167], [35.07527833, 129.11239667], [35.02835167, 129.11845333], [34.99243, 129.09641333], [34.97359667, 129.08093333], [34.92686833, 129.041645], [34.89367, 129.01289667], [34.87497667, 128.99636], [34.840815, 128.97018667], [34.80763167, 128.94533833], [34.773005, 128.92006333], [34.74135167, 128.89287333], [34.69604667, 128.84834333], [34.67891167, 128.82852], [34.66319, 128.80239833], [34.63571833, 128.75696667], [34.62305167, 128.73638667], [34.587395, 128.67655], [34.56622, 128.64051], [34.54397167, 128.60600833], [34.52434833, 128.57858167], [34.50536333, 128.55219], [34.486435, 128.51572167], [34.468095, 128.43689], [34.45124333, 128.35965667], [34.443745, 128.32637833], [34.43455167, 128.28899167], [34.423255, 128.24098333], [34.41017167, 128.18542333], [34.396765, 128.12761], [34.38734333, 128.08645167], [34.37915, 128.05166333], [34.36888833, 128.01762833], [34.35449667, 127.97342833], [34.34487, 127.94813333], [34.3198, 127.87811833], [34.31433167, 127.86138167], [34.28093667, 127.79218333], [34.26099, 127.76049167], [34.23828833, 127.72570833], [34.21753833, 127.67727833], [34.20677667, 127.63005167], [34.20246667, 127.61121667], [34.19295167, 127.56979], [34.18678167, 127.54303333], [34.173275, 127.49185333], [34.16927333, 127.47672833], [34.14332333, 127.379795], [34.13925, 127.345765], [34.13245, 127.28513], [34.13186, 127.279325], [34.130095, 127.26465], [34.12610333, 127.19344], [34.123715, 127.11420833], [34.121085, 127.05937833], [34.12024333, 127.045365], [34.10138667, 126.91952333], [34.09568833, 126.89592667], [34.08953833, 126.85022667], [34.08714833, 126.81231167], [34.08548, 126.786035], [34.0805, 126.70424833], [34.07886, 126.681645], [34.075785, 126.61967167], [34.08040667, 126.59799833], [34.08760833, 126.55958667], [34.095135, 126.520265], [34.10085333, 126.48072333], [34.10519833, 126.44419333], [34.10691333, 126.38169833], [34.11194333, 126.34464833], [34.11561333, 126.32503667], [34.12309333, 126.28240667], [34.12052, 126.233825], [34.12121167, 126.17305], [34.12257167, 126.11055333], [34.10512333, 125.982045], [34.10161, 125.91885167], [34.103475, 125.839035], [34.10393167, 125.793375], [34.10689833, 125.77667167], [34.12966, 125.72094833], [34.21484833, 125.68014833], [34.2892, 125.66990167], [34.31694, 125.66563], [34.33933333, 125.661945], [34.414505, 125.65663333], [34.41892333, 125.65590667], [34.46614833, 125.64783333], [34.53179333, 125.634895], [34.55830833, 125.62989167], [34.61731667, 125.61898333], [34.74355667, 125.58371], [34.806915, 125.577745], [34.98166833, 125.48065], [35.03070167, 125.44621667], [35.08345167, 125.40286833], [35.12333333, 125.36833333], [35.20666667, 125.29833333], [35.375, 125.16333333], [35.41666667, 125.13], [35.465, 125.09], [35.54333333, 125.025], [35.691375, 124.90349833], [35.77289167, 124.82947167], [35.81242667, 124.793275], [35.85193167, 124.75722], [35.921005, 124.67441], [35.95492167, 124.63198333], [36.03175833, 124.56943167], [36.07825833, 124.53063167], [36.118755, 124.49635333], [36.19918667, 124.42677667], [36.241105, 124.39489833], [36.28512167, 124.36304167], [36.37169833, 124.30234167], [36.46375167, 124.22297333], [36.47166667, 124.215], [36.605, 124.105], [36.63666667, 124.07333333], [36.72666667, 124.055], [36.765, 124.03833333], [36.94426167, 123.78841], [37.00279, 123.76675], [37.06913833, 123.73847333], [37.07455167, 123.73563167], [37.08240333, 123.73150667], [37.11963, 123.71056], [37.167445, 123.67271833], [37.21646833, 123.63782667], [37.24503667, 123.625915], [37.290215, 123.59491167], [37.343415, 123.55691667], [37.39820333, 123.50162833], [37.43821333, 123.474255], [37.49113667, 123.43627167], [37.52582167, 123.40090833], [37.549555, 123.37515833], [37.55072, 123.373905], [37.57685667, 123.34589333], [37.612185, 123.30453], [37.65119833, 123.25011], [37.67259167, 123.21929167], [37.70108, 123.17814333], [37.71142167, 123.16314667], [37.73354, 123.130985], [37.7641, 123.08656667], [37.77585333, 123.07001333], [37.79687, 123.03848333], [37.825205, 122.99314833], [37.846305, 122.961585], [37.88037333, 122.91935167], [37.91646, 122.88121833], [37.91905833, 122.87855833], [37.95627833, 122.83662333], [38.01029333, 122.77929167], [38.03346833, 122.73457667], [38.04127, 122.719665], [38.08807167, 122.63345333], [38.10759667, 122.60147333], [38.12499833, 122.570725], [38.15, 122.52], [38.19166667, 122.43166667], [38.34112667, 122.30295667], [38.36629, 122.285205], [38.42037, 122.24692], [38.45972667, 122.22607167], [38.49805, 122.205355], [38.52241, 122.19188833], [38.555655, 122.17392667], [38.58959667, 122.14211333], [38.60485667, 122.12616], [38.63035333, 122.09554667], [38.65916667, 122.06836167], [38.67071833, 122.05012], [38.68202, 122.03534833], [38.69566667, 122.02758], [38.75718, 122.0006], [38.78568, 121.99051833], [38.80649, 121.978975], [38.82500167, 121.96053667], [38.84257167, 121.94969667], [38.86333, 121.94726167], [38.89686667, 121.94361667], [38.91925167, 121.95561833], [38.91997833, 121.95958167], [38.91691833, 122.006855], [38.91158167, 122.008465], [38.913345, 122.008845], [38.91338, 122.00913167], [38.913355, 122.00911333], [38.91339667, 122.00922833], [38.91337833, 122.00912167], [38.91335, 122.00908667], [38.91337, 122.009135], [38.91338333, 122.00933], [38.91337833, 122.009105], [38.91341667, 122.00930167], [38.91340333, 122.00922667], [38.91340167, 122.009275], [38.91339333, 122.00931], [38.91338833, 122.00930333], [38.91335333, 122.00944167], [38.91337333, 122.00959333], [38.9134, 122.00963333], [38.91334667, 122.00974333], [38.913335, 122.00982667], [38.91330833, 122.00991667], [38.913315, 122.00996], [38.91328333, 122.010055], [38.91324833, 122.01014667], [38.91320333, 122.010245], [38.91320167, 122.01035667], [38.913225, 122.01031667], [38.91315667, 122.01036167], [38.91315667, 122.01037833], [38.91315333, 122.01037333], [38.91309833, 122.01046], [38.91310333, 122.01045167], [38.91308667, 122.01045], [38.913075, 122.01043333], [38.91308833, 122.010495], [38.91304833, 122.010485], [38.91304667, 122.01047333], [38.91308167, 122.01043167], [38.91306167, 122.01047667], [38.91306333, 122.01046667], [38.91311167, 122.01039333], [38.91309667, 122.01042], [38.912825, 122.01014333], [38.91258833, 122.01009667], [38.909345, 122.00599167], [38.90103167, 121.97147167], [38.90360667, 121.95324], [38.925655, 121.95359], [38.93559667, 121.95305833], [38.96312667, 121.94685333], [38.990435, 121.92304333], [39.00371167, 121.89912167], [38.99896667, 121.89204], [38.99840167, 121.89087333]],\n",
       "                {&quot;bubblingMouseEvents&quot;: true, &quot;color&quot;: &quot;red&quot;, &quot;dashArray&quot;: null, &quot;dashOffset&quot;: null, &quot;fill&quot;: false, &quot;fillColor&quot;: &quot;red&quot;, &quot;fillOpacity&quot;: 0.2, &quot;fillRule&quot;: &quot;evenodd&quot;, &quot;lineCap&quot;: &quot;round&quot;, &quot;lineJoin&quot;: &quot;round&quot;, &quot;noClip&quot;: false, &quot;opacity&quot;: 1.0, &quot;smoothFactor&quot;: 1.0, &quot;stroke&quot;: true, &quot;weight&quot;: 4}\n",
       "            ).addTo(map_d17218ba7bee18bfc5b29af3cf495c48);\n",
       "        \n",
       "    \n",
       "            poly_line_ef8212f2cad4b952dcfe8dcb62866abd.bindTooltip(\n",
       "                `&lt;div&gt;\n",
       "                     Actual Path\n",
       "                 &lt;/div&gt;`,\n",
       "                {\n",
       "  &quot;sticky&quot;: true,\n",
       "}\n",
       "            );\n",
       "        \n",
       "    \n",
       "            var poly_line_069d03898ba2c23d60ca4bdea01fe839 = L.polyline(\n",
       "                [[34.205875396728516, 127.36182403564453], [34.197975158691406, 127.33189392089844], [34.19165802001953, 127.30040740966797], [34.18738555908203, 127.26815032958984], [34.18502426147461, 127.23596954345703], [34.184261322021484, 127.20427703857422], [34.184329986572266, 127.17278289794922], [34.185455322265625, 127.14224243164062], [34.18598556518555, 127.11082458496094], [34.187583923339844, 127.0802001953125], [34.187721252441406, 127.04875183105469], [34.187461853027344, 127.01741790771484], [34.18654251098633, 126.98673248291016], [34.18499755859375, 126.95610046386719], [34.18365478515625, 126.92520904541016], [34.183380126953125, 126.8953628540039], [34.18372344970703, 126.86602783203125], [34.184974670410156, 126.83751678466797], [34.186336517333984, 126.80878448486328], [34.188724517822266, 126.7811050415039], [34.189781188964844, 126.75088500976562], [34.19159698486328, 126.7195816040039], [34.193973541259766, 126.68682861328125], [34.19783020019531, 126.65518951416016], [34.202938079833984, 126.62557983398438], [34.20851135253906, 126.59513854980469], [34.214508056640625, 126.56202697753906], [34.221256256103516, 126.52688598632812], [34.22932052612305, 126.49242401123047], [34.236324310302734, 126.4538803100586], [34.24396514892578, 126.41448211669922], [34.25203323364258, 126.37513732910156], [34.26077651977539, 126.33637237548828], [34.27035140991211, 126.2990951538086], [34.279972076416016, 126.26065063476562], [34.2903938293457, 126.22296142578125], [34.301090240478516, 126.18496704101562], [34.31296920776367, 126.1481704711914], [34.325931549072266, 126.11244201660156], [34.340057373046875, 126.07740020751953], [34.35502243041992, 126.04289245605469], [34.370704650878906, 126.00894165039062], [34.386505126953125, 125.97409057617188], [34.40279006958008, 125.93910217285156], [34.419525146484375, 125.90541076660156], [34.43666076660156, 125.87223815917969], [34.453277587890625, 125.83878326416016], [34.46942901611328, 125.80415344238281], [34.48514175415039, 125.76782989501953], [34.49851608276367, 125.72589111328125], [34.5112419128418, 125.68073272705078], [34.52390670776367, 125.63274383544922], [34.53693389892578, 125.58405303955078], [34.55098342895508, 125.5374755859375], [34.56691360473633, 125.49195098876953], [34.58962631225586, 125.44775390625], [34.61943435668945, 125.40618133544922], [34.65289306640625, 125.36795043945312], [34.68860626220703, 125.33357238769531], [34.729244232177734, 125.30309295654297], [34.76971435546875, 125.27592468261719], [34.81193161010742, 125.25187683105469], [34.856956481933594, 125.22997283935547], [34.902034759521484, 125.2098159790039], [34.94881057739258, 125.1911849975586], [35.00209045410156, 125.17208862304688], [35.058292388916016, 125.1527099609375], [35.12404251098633, 125.12834930419922], [35.191707611083984, 125.09980010986328], [35.26020812988281, 125.06826782226562], [35.32767105102539, 125.03486633300781], [35.39606475830078, 124.99833679199219], [35.470848083496094, 124.9542465209961], [35.54547882080078, 124.9065933227539], [35.61939239501953, 124.85794067382812], [35.693477630615234, 124.80789184570312], [35.7718391418457, 124.75298309326172], [35.85120391845703, 124.69453430175781], [35.928855895996094, 124.63613891601562], [36.003726959228516, 124.57958984375], [36.0765380859375, 124.5228042602539], [36.145652770996094, 124.46744537353516], [36.213653564453125, 124.41313934326172], [36.27920913696289, 124.36078643798828], [36.34191131591797, 124.31117248535156], [36.40372085571289, 124.26234436035156], [36.463260650634766, 124.21551513671875], [36.52069091796875, 124.17123413085938], [36.5782585144043, 124.12776947021484], [36.636287689208984, 124.08304595947266], [36.691097259521484, 124.04053497314453], [36.74821853637695, 123.99578094482422], [36.80320739746094, 123.95123291015625], [36.86016845703125, 123.9092788696289], [36.915409088134766, 123.87008666992188], [36.972023010253906, 123.82003021240234], [37.02931594848633, 123.76841735839844], [37.08701705932617, 123.71807861328125], [37.141231536865234, 123.67152404785156], [37.1912841796875, 123.63006591796875], [37.238189697265625, 123.59309387207031], [37.282257080078125, 123.5589599609375], [37.324031829833984, 123.52702331542969], [37.36342239379883, 123.49801635742188], [37.401023864746094, 123.47088623046875], [37.4373664855957, 123.44462585449219], [37.4723014831543, 123.41763305664062], [37.506134033203125, 123.39106750488281], [37.53944778442383, 123.36453247070312], [37.57126235961914, 123.33796691894531], [37.60116958618164, 123.31210327148438], [37.62848663330078, 123.28857421875], [37.65370559692383, 123.26639556884766], [37.677181243896484, 123.24430847167969], [37.699119567871094, 123.22103881835938], [37.71953582763672, 123.19756317138672], [37.73868942260742, 123.17354583740234], [37.75645446777344, 123.1505126953125], [37.77293395996094, 123.1279067993164], [37.78836441040039, 123.1048812866211], [37.8028450012207, 123.0827865600586], [37.81635665893555, 123.06111145019531], [37.82905960083008, 123.03887939453125], [37.841182708740234, 123.0166244506836], [37.85324478149414, 122.99384307861328], [37.865509033203125, 122.97066497802734], [37.877437591552734, 122.94910430908203], [37.889488220214844, 122.92755889892578], [37.90224838256836, 122.9046859741211], [37.914581298828125, 122.88063049316406], [37.92660140991211, 122.85736083984375], [37.93776321411133, 122.83128356933594], [37.948692321777344, 122.80482482910156], [37.9592399597168, 122.77861785888672], [37.96901321411133, 122.75179290771484], [37.97770309448242, 122.7220687866211], [37.990394592285156, 122.6871566772461], [38.004722595214844, 122.65180969238281], [38.02121353149414, 122.6168212890625], [38.03915786743164, 122.58362579345703], [38.05807113647461, 122.5527572631836], [38.077091217041016, 122.52471923828125], [38.09618377685547, 122.49939727783203], [38.114654541015625, 122.47566986083984], [38.132076263427734, 122.45397186279297], [38.148319244384766, 122.43343353271484], [38.163726806640625, 122.41390991210938], [38.17778778076172, 122.39554595947266], [38.19062423706055, 122.37857818603516], [38.2026252746582, 122.3634033203125], [38.215660095214844, 122.34912872314453], [38.228885650634766, 122.33584594726562], [38.241939544677734, 122.32343292236328], [38.254356384277344, 122.31145477294922], [38.266319274902344, 122.30023193359375], [38.27827835083008, 122.29026794433594], [38.29081344604492, 122.28157043457031], [38.303958892822266, 122.27482604980469], [38.316165924072266, 122.26939392089844], [38.328887939453125, 122.26793670654297], [38.33976745605469, 122.26783752441406], [38.34922790527344, 122.26872253417969], [38.3572883605957, 122.27010345458984], [38.36406707763672, 122.27167510986328], [38.36971664428711, 122.27326965332031], [38.374359130859375, 122.2748031616211], [38.378108978271484, 122.27617645263672], [38.38116455078125, 122.27738952636719], [38.38362503051758, 122.2784652709961], [38.385581970214844, 122.27936553955078], [38.38714599609375, 122.28010559082031], [38.38837814331055, 122.28073120117188], [38.38934326171875, 122.2812271118164], [38.39009094238281, 122.2816390991211], [38.39067077636719, 122.28195190429688], [38.39111328125, 122.2822036743164], [38.391456604003906, 122.28242492675781], [38.3917121887207, 122.2825927734375], [38.391910552978516, 122.28271484375], [38.392059326171875, 122.28282165527344], [38.392154693603516, 122.28292083740234], [38.39221954345703, 122.28298950195312], [38.39226531982422, 122.2830581665039], [38.392295837402344, 122.28311157226562], [38.39230728149414, 122.28316497802734], [38.39231491088867, 122.2832260131836], [38.392311096191406, 122.28326416015625], [38.39229965209961, 122.28330993652344], [38.392295837402344, 122.2833480834961], [38.39229202270508, 122.28337860107422], [38.392295837402344, 122.28340148925781], [38.39229202270508, 122.28343200683594], [38.39228820800781, 122.28345489501953], [38.39228439331055, 122.2834701538086], [38.39228057861328, 122.28348541259766], [38.392276763916016, 122.28351593017578], [38.392269134521484, 122.28351593017578], [38.392269134521484, 122.28352355957031], [38.39226531982422, 122.28352355957031], [38.39225769042969, 122.28353881835938], [38.39225769042969, 122.28353881835938], [38.39225387573242, 122.28353881835938], [38.39222717285156, 122.28351593017578]],\n",
       "                {&quot;bubblingMouseEvents&quot;: true, &quot;color&quot;: &quot;green&quot;, &quot;dashArray&quot;: null, &quot;dashOffset&quot;: null, &quot;fill&quot;: false, &quot;fillColor&quot;: &quot;green&quot;, &quot;fillOpacity&quot;: 0.2, &quot;fillRule&quot;: &quot;evenodd&quot;, &quot;lineCap&quot;: &quot;round&quot;, &quot;lineJoin&quot;: &quot;round&quot;, &quot;noClip&quot;: false, &quot;opacity&quot;: 1.0, &quot;smoothFactor&quot;: 1.0, &quot;stroke&quot;: true, &quot;weight&quot;: 4}\n",
       "            ).addTo(map_d17218ba7bee18bfc5b29af3cf495c48);\n",
       "        \n",
       "    \n",
       "            poly_line_069d03898ba2c23d60ca4bdea01fe839.bindTooltip(\n",
       "                `&lt;div&gt;\n",
       "                     Predicted Path\n",
       "                 &lt;/div&gt;`,\n",
       "                {\n",
       "  &quot;sticky&quot;: true,\n",
       "}\n",
       "            );\n",
       "        \n",
       "    \n",
       "            map_d17218ba7bee18bfc5b29af3cf495c48.fitBounds(\n",
       "                [[35.10075, 129.04603667], [35.10892833, 129.05538167], [35.08739, 129.09463167], [35.07527833, 129.11239667], [35.02835167, 129.11845333], [34.99243, 129.09641333], [34.97359667, 129.08093333], [34.92686833, 129.041645], [34.89367, 129.01289667], [34.87497667, 128.99636], [34.840815, 128.97018667], [34.80763167, 128.94533833], [34.773005, 128.92006333], [34.74135167, 128.89287333], [34.69604667, 128.84834333], [34.67891167, 128.82852], [34.66319, 128.80239833], [34.63571833, 128.75696667], [34.62305167, 128.73638667], [34.587395, 128.67655], [34.56622, 128.64051], [34.54397167, 128.60600833], [34.52434833, 128.57858167], [34.50536333, 128.55219], [34.486435, 128.51572167], [34.468095, 128.43689], [34.45124333, 128.35965667], [34.443745, 128.32637833], [34.43455167, 128.28899167], [34.423255, 128.24098333], [34.41017167, 128.18542333], [34.396765, 128.12761], [34.38734333, 128.08645167], [34.37915, 128.05166333], [34.36888833, 128.01762833], [34.35449667, 127.97342833], [34.34487, 127.94813333], [34.3198, 127.87811833], [34.31433167, 127.86138167], [34.28093667, 127.79218333], [34.26099, 127.76049167], [34.23828833, 127.72570833], [34.21753833, 127.67727833], [34.20677667, 127.63005167], [34.20246667, 127.61121667], [34.19295167, 127.56979], [34.18678167, 127.54303333], [34.173275, 127.49185333], [34.16927333, 127.47672833], [34.14332333, 127.379795], [34.13925, 127.345765], [34.13245, 127.28513], [34.13186, 127.279325], [34.130095, 127.26465], [34.12610333, 127.19344], [34.123715, 127.11420833], [34.121085, 127.05937833], [34.12024333, 127.045365], [34.10138667, 126.91952333], [34.09568833, 126.89592667], [34.08953833, 126.85022667], [34.08714833, 126.81231167], [34.08548, 126.786035], [34.0805, 126.70424833], [34.07886, 126.681645], [34.075785, 126.61967167], [34.08040667, 126.59799833], [34.08760833, 126.55958667], [34.095135, 126.520265], [34.10085333, 126.48072333], [34.10519833, 126.44419333], [34.10691333, 126.38169833], [34.11194333, 126.34464833], [34.11561333, 126.32503667], [34.12309333, 126.28240667], [34.12052, 126.233825], [34.12121167, 126.17305], [34.12257167, 126.11055333], [34.10512333, 125.982045], [34.10161, 125.91885167], [34.103475, 125.839035], [34.10393167, 125.793375], [34.10689833, 125.77667167], [34.12966, 125.72094833], [34.21484833, 125.68014833], [34.2892, 125.66990167], [34.31694, 125.66563], [34.33933333, 125.661945], [34.414505, 125.65663333], [34.41892333, 125.65590667], [34.46614833, 125.64783333], [34.53179333, 125.634895], [34.55830833, 125.62989167], [34.61731667, 125.61898333], [34.74355667, 125.58371], [34.806915, 125.577745], [34.98166833, 125.48065], [35.03070167, 125.44621667], [35.08345167, 125.40286833], [35.12333333, 125.36833333], [35.20666667, 125.29833333], [35.375, 125.16333333], [35.41666667, 125.13], [35.465, 125.09], [35.54333333, 125.025], [35.691375, 124.90349833], [35.77289167, 124.82947167], [35.81242667, 124.793275], [35.85193167, 124.75722], [35.921005, 124.67441], [35.95492167, 124.63198333], [36.03175833, 124.56943167], [36.07825833, 124.53063167], [36.118755, 124.49635333], [36.19918667, 124.42677667], [36.241105, 124.39489833], [36.28512167, 124.36304167], [36.37169833, 124.30234167], [36.46375167, 124.22297333], [36.47166667, 124.215], [36.605, 124.105], [36.63666667, 124.07333333], [36.72666667, 124.055], [36.765, 124.03833333], [36.94426167, 123.78841], [37.00279, 123.76675], [37.06913833, 123.73847333], [37.07455167, 123.73563167], [37.08240333, 123.73150667], [37.11963, 123.71056], [37.167445, 123.67271833], [37.21646833, 123.63782667], [37.24503667, 123.625915], [37.290215, 123.59491167], [37.343415, 123.55691667], [37.39820333, 123.50162833], [37.43821333, 123.474255], [37.49113667, 123.43627167], [37.52582167, 123.40090833], [37.549555, 123.37515833], [37.55072, 123.373905], [37.57685667, 123.34589333], [37.612185, 123.30453], [37.65119833, 123.25011], [37.67259167, 123.21929167], [37.70108, 123.17814333], [37.71142167, 123.16314667], [37.73354, 123.130985], [37.7641, 123.08656667], [37.77585333, 123.07001333], [37.79687, 123.03848333], [37.825205, 122.99314833], [37.846305, 122.961585], [37.88037333, 122.91935167], [37.91646, 122.88121833], [37.91905833, 122.87855833], [37.95627833, 122.83662333], [38.01029333, 122.77929167], [38.03346833, 122.73457667], [38.04127, 122.719665], [38.08807167, 122.63345333], [38.10759667, 122.60147333], [38.12499833, 122.570725], [38.15, 122.52], [38.19166667, 122.43166667], [38.34112667, 122.30295667], [38.36629, 122.285205], [38.42037, 122.24692], [38.45972667, 122.22607167], [38.49805, 122.205355], [38.52241, 122.19188833], [38.555655, 122.17392667], [38.58959667, 122.14211333], [38.60485667, 122.12616], [38.63035333, 122.09554667], [38.65916667, 122.06836167], [38.67071833, 122.05012], [38.68202, 122.03534833], [38.69566667, 122.02758], [38.75718, 122.0006], [38.78568, 121.99051833], [38.80649, 121.978975], [38.82500167, 121.96053667], [38.84257167, 121.94969667], [38.86333, 121.94726167], [38.89686667, 121.94361667], [38.91925167, 121.95561833], [38.91997833, 121.95958167], [38.91691833, 122.006855], [38.91158167, 122.008465], [38.913345, 122.008845], [38.91338, 122.00913167], [38.913355, 122.00911333], [38.91339667, 122.00922833], [38.91337833, 122.00912167], [38.91335, 122.00908667], [38.91337, 122.009135], [38.91338333, 122.00933], [38.91337833, 122.009105], [38.91341667, 122.00930167], [38.91340333, 122.00922667], [38.91340167, 122.009275], [38.91339333, 122.00931], [38.91338833, 122.00930333], [38.91335333, 122.00944167], [38.91337333, 122.00959333], [38.9134, 122.00963333], [38.91334667, 122.00974333], [38.913335, 122.00982667], [38.91330833, 122.00991667], [38.913315, 122.00996], [38.91328333, 122.010055], [38.91324833, 122.01014667], [38.91320333, 122.010245], [38.91320167, 122.01035667], [38.913225, 122.01031667], [38.91315667, 122.01036167], [38.91315667, 122.01037833], [38.91315333, 122.01037333], [38.91309833, 122.01046], [38.91310333, 122.01045167], [38.91308667, 122.01045], [38.913075, 122.01043333], [38.91308833, 122.010495], [38.91304833, 122.010485], [38.91304667, 122.01047333], [38.91308167, 122.01043167], [38.91306167, 122.01047667], [38.91306333, 122.01046667], [38.91311167, 122.01039333], [38.91309667, 122.01042], [38.912825, 122.01014333], [38.91258833, 122.01009667], [38.909345, 122.00599167], [38.90103167, 121.97147167], [38.90360667, 121.95324], [38.925655, 121.95359], [38.93559667, 121.95305833], [38.96312667, 121.94685333], [38.990435, 121.92304333], [39.00371167, 121.89912167], [38.99896667, 121.89204], [38.99840167, 121.89087333], [34.205875396728516, 127.36182403564453], [34.197975158691406, 127.33189392089844], [34.19165802001953, 127.30040740966797], [34.18738555908203, 127.26815032958984], [34.18502426147461, 127.23596954345703], [34.184261322021484, 127.20427703857422], [34.184329986572266, 127.17278289794922], [34.185455322265625, 127.14224243164062], [34.18598556518555, 127.11082458496094], [34.187583923339844, 127.0802001953125], [34.187721252441406, 127.04875183105469], [34.187461853027344, 127.01741790771484], [34.18654251098633, 126.98673248291016], [34.18499755859375, 126.95610046386719], [34.18365478515625, 126.92520904541016], [34.183380126953125, 126.8953628540039], [34.18372344970703, 126.86602783203125], [34.184974670410156, 126.83751678466797], [34.186336517333984, 126.80878448486328], [34.188724517822266, 126.7811050415039], [34.189781188964844, 126.75088500976562], [34.19159698486328, 126.7195816040039], [34.193973541259766, 126.68682861328125], [34.19783020019531, 126.65518951416016], [34.202938079833984, 126.62557983398438], [34.20851135253906, 126.59513854980469], [34.214508056640625, 126.56202697753906], [34.221256256103516, 126.52688598632812], [34.22932052612305, 126.49242401123047], [34.236324310302734, 126.4538803100586], [34.24396514892578, 126.41448211669922], [34.25203323364258, 126.37513732910156], [34.26077651977539, 126.33637237548828], [34.27035140991211, 126.2990951538086], [34.279972076416016, 126.26065063476562], [34.2903938293457, 126.22296142578125], [34.301090240478516, 126.18496704101562], [34.31296920776367, 126.1481704711914], [34.325931549072266, 126.11244201660156], [34.340057373046875, 126.07740020751953], [34.35502243041992, 126.04289245605469], [34.370704650878906, 126.00894165039062], [34.386505126953125, 125.97409057617188], [34.40279006958008, 125.93910217285156], [34.419525146484375, 125.90541076660156], [34.43666076660156, 125.87223815917969], [34.453277587890625, 125.83878326416016], [34.46942901611328, 125.80415344238281], [34.48514175415039, 125.76782989501953], [34.49851608276367, 125.72589111328125], [34.5112419128418, 125.68073272705078], [34.52390670776367, 125.63274383544922], [34.53693389892578, 125.58405303955078], [34.55098342895508, 125.5374755859375], [34.56691360473633, 125.49195098876953], [34.58962631225586, 125.44775390625], [34.61943435668945, 125.40618133544922], [34.65289306640625, 125.36795043945312], [34.68860626220703, 125.33357238769531], [34.729244232177734, 125.30309295654297], [34.76971435546875, 125.27592468261719], [34.81193161010742, 125.25187683105469], [34.856956481933594, 125.22997283935547], [34.902034759521484, 125.2098159790039], [34.94881057739258, 125.1911849975586], [35.00209045410156, 125.17208862304688], [35.058292388916016, 125.1527099609375], [35.12404251098633, 125.12834930419922], [35.191707611083984, 125.09980010986328], [35.26020812988281, 125.06826782226562], [35.32767105102539, 125.03486633300781], [35.39606475830078, 124.99833679199219], [35.470848083496094, 124.9542465209961], [35.54547882080078, 124.9065933227539], [35.61939239501953, 124.85794067382812], [35.693477630615234, 124.80789184570312], [35.7718391418457, 124.75298309326172], [35.85120391845703, 124.69453430175781], [35.928855895996094, 124.63613891601562], [36.003726959228516, 124.57958984375], [36.0765380859375, 124.5228042602539], [36.145652770996094, 124.46744537353516], [36.213653564453125, 124.41313934326172], [36.27920913696289, 124.36078643798828], [36.34191131591797, 124.31117248535156], [36.40372085571289, 124.26234436035156], [36.463260650634766, 124.21551513671875], [36.52069091796875, 124.17123413085938], [36.5782585144043, 124.12776947021484], [36.636287689208984, 124.08304595947266], [36.691097259521484, 124.04053497314453], [36.74821853637695, 123.99578094482422], [36.80320739746094, 123.95123291015625], [36.86016845703125, 123.9092788696289], [36.915409088134766, 123.87008666992188], [36.972023010253906, 123.82003021240234], [37.02931594848633, 123.76841735839844], [37.08701705932617, 123.71807861328125], [37.141231536865234, 123.67152404785156], [37.1912841796875, 123.63006591796875], [37.238189697265625, 123.59309387207031], [37.282257080078125, 123.5589599609375], [37.324031829833984, 123.52702331542969], [37.36342239379883, 123.49801635742188], [37.401023864746094, 123.47088623046875], [37.4373664855957, 123.44462585449219], [37.4723014831543, 123.41763305664062], [37.506134033203125, 123.39106750488281], [37.53944778442383, 123.36453247070312], [37.57126235961914, 123.33796691894531], [37.60116958618164, 123.31210327148438], [37.62848663330078, 123.28857421875], [37.65370559692383, 123.26639556884766], [37.677181243896484, 123.24430847167969], [37.699119567871094, 123.22103881835938], [37.71953582763672, 123.19756317138672], [37.73868942260742, 123.17354583740234], [37.75645446777344, 123.1505126953125], [37.77293395996094, 123.1279067993164], [37.78836441040039, 123.1048812866211], [37.8028450012207, 123.0827865600586], [37.81635665893555, 123.06111145019531], [37.82905960083008, 123.03887939453125], [37.841182708740234, 123.0166244506836], [37.85324478149414, 122.99384307861328], [37.865509033203125, 122.97066497802734], [37.877437591552734, 122.94910430908203], [37.889488220214844, 122.92755889892578], [37.90224838256836, 122.9046859741211], [37.914581298828125, 122.88063049316406], [37.92660140991211, 122.85736083984375], [37.93776321411133, 122.83128356933594], [37.948692321777344, 122.80482482910156], [37.9592399597168, 122.77861785888672], [37.96901321411133, 122.75179290771484], [37.97770309448242, 122.7220687866211], [37.990394592285156, 122.6871566772461], [38.004722595214844, 122.65180969238281], [38.02121353149414, 122.6168212890625], [38.03915786743164, 122.58362579345703], [38.05807113647461, 122.5527572631836], [38.077091217041016, 122.52471923828125], [38.09618377685547, 122.49939727783203], [38.114654541015625, 122.47566986083984], [38.132076263427734, 122.45397186279297], [38.148319244384766, 122.43343353271484], [38.163726806640625, 122.41390991210938], [38.17778778076172, 122.39554595947266], [38.19062423706055, 122.37857818603516], [38.2026252746582, 122.3634033203125], [38.215660095214844, 122.34912872314453], [38.228885650634766, 122.33584594726562], [38.241939544677734, 122.32343292236328], [38.254356384277344, 122.31145477294922], [38.266319274902344, 122.30023193359375], [38.27827835083008, 122.29026794433594], [38.29081344604492, 122.28157043457031], [38.303958892822266, 122.27482604980469], [38.316165924072266, 122.26939392089844], [38.328887939453125, 122.26793670654297], [38.33976745605469, 122.26783752441406], [38.34922790527344, 122.26872253417969], [38.3572883605957, 122.27010345458984], [38.36406707763672, 122.27167510986328], [38.36971664428711, 122.27326965332031], [38.374359130859375, 122.2748031616211], [38.378108978271484, 122.27617645263672], [38.38116455078125, 122.27738952636719], [38.38362503051758, 122.2784652709961], [38.385581970214844, 122.27936553955078], [38.38714599609375, 122.28010559082031], [38.38837814331055, 122.28073120117188], [38.38934326171875, 122.2812271118164], [38.39009094238281, 122.2816390991211], [38.39067077636719, 122.28195190429688], [38.39111328125, 122.2822036743164], [38.391456604003906, 122.28242492675781], [38.3917121887207, 122.2825927734375], [38.391910552978516, 122.28271484375], [38.392059326171875, 122.28282165527344], [38.392154693603516, 122.28292083740234], [38.39221954345703, 122.28298950195312], [38.39226531982422, 122.2830581665039], [38.392295837402344, 122.28311157226562], [38.39230728149414, 122.28316497802734], [38.39231491088867, 122.2832260131836], [38.392311096191406, 122.28326416015625], [38.39229965209961, 122.28330993652344], [38.392295837402344, 122.2833480834961], [38.39229202270508, 122.28337860107422], [38.392295837402344, 122.28340148925781], [38.39229202270508, 122.28343200683594], [38.39228820800781, 122.28345489501953], [38.39228439331055, 122.2834701538086], [38.39228057861328, 122.28348541259766], [38.392276763916016, 122.28351593017578], [38.392269134521484, 122.28351593017578], [38.392269134521484, 122.28352355957031], [38.39226531982422, 122.28352355957031], [38.39225769042969, 122.28353881835938], [38.39225769042969, 122.28353881835938], [38.39225387573242, 122.28353881835938], [38.39222717285156, 122.28351593017578]],\n",
       "                {}\n",
       "            );\n",
       "        \n",
       "&lt;/script&gt;\n",
       "&lt;/html&gt;\" style=\"position:absolute;width:100%;height:100%;left:0;top:0;border:none !important;\" allowfullscreen webkitallowfullscreen mozallowfullscreen></iframe></div></div>"
      ],
      "text/plain": [
       "<folium.folium.Map at 0x211126eaf30>"
      ]
     },
     "metadata": {},
     "output_type": "display_data"
    }
   ],
   "source": [
    "# 지도에 그리기\n",
    "plot_paths_on_map(true_path, pred_path, df)"
   ]
  },
  {
   "cell_type": "code",
   "execution_count": 194,
   "id": "45550565-566d-4e20-9881-f58669938ad1",
   "metadata": {},
   "outputs": [
    {
     "name": "stdout",
     "output_type": "stream",
     "text": [
      "\u001b[1m7/7\u001b[0m \u001b[32m━━━━━━━━━━━━━━━━━━━━\u001b[0m\u001b[37m\u001b[0m \u001b[1m1s\u001b[0m 68ms/step\n",
      "📈 LAT R²: 0.9446\n",
      "📈 LON R²: 0.9686\n"
     ]
    }
   ],
   "source": [
    "# (1) 첫 번째 선박으로 모델을 생성, 세 번째 선박에 적용\n",
    "# 1. 예측 실행\n",
    "true_path, pred_path, df = predict_from_file(\n",
    "    './datasets/KRPUS_CNDAG/a804036f-9377-3242-a11d-1b76dfa0dcec.csv',\n",
    "    'CNDAG_model.keras'\n",
    ")"
   ]
  },
  {
   "cell_type": "markdown",
   "id": "d6b0f0b3-184d-42ca-b572-1141807189f8",
   "metadata": {},
   "source": [
    "- 파일명 변경\n",
    "- 결정 계수 변경 (과거, 미래 시점)"
   ]
  },
  {
   "cell_type": "code",
   "execution_count": null,
   "id": "43bc5742-ad97-4c5b-a973-8af59da09b45",
   "metadata": {},
   "outputs": [],
   "source": []
  },
  {
   "cell_type": "code",
   "execution_count": null,
   "id": "c0192027-420d-43c1-acb3-4d68512c41c2",
   "metadata": {},
   "outputs": [],
   "source": []
  },
  {
   "cell_type": "code",
   "execution_count": null,
   "id": "115a84bb-a9d1-4620-aeb0-db522d0865ac",
   "metadata": {},
   "outputs": [],
   "source": []
  },
  {
   "cell_type": "code",
   "execution_count": null,
   "id": "ebdbe284-d2b2-4382-b929-2d04d3dcccf7",
   "metadata": {},
   "outputs": [],
   "source": []
  },
  {
   "cell_type": "code",
   "execution_count": null,
   "id": "8f68ac29-af8e-4993-9e6f-58ff985e4bcc",
   "metadata": {},
   "outputs": [],
   "source": []
  }
 ],
 "metadata": {
  "kernelspec": {
   "display_name": "Python [conda env:base] *",
   "language": "python",
   "name": "conda-base-py"
  },
  "language_info": {
   "codemirror_mode": {
    "name": "ipython",
    "version": 3
   },
   "file_extension": ".py",
   "mimetype": "text/x-python",
   "name": "python",
   "nbconvert_exporter": "python",
   "pygments_lexer": "ipython3",
   "version": "3.12.7"
  }
 },
 "nbformat": 4,
 "nbformat_minor": 5
}
