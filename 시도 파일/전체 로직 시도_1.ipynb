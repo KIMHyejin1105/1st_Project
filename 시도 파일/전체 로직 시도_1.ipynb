{
 "cells": [
  {
   "cell_type": "markdown",
   "id": "dfbd01a8-e8e4-4f60-a5c6-ead2c9f9cfca",
   "metadata": {},
   "source": [
    "# 3시간 시점"
   ]
  },
  {
   "cell_type": "code",
   "execution_count": 5,
   "id": "d98cc64e-07d7-453e-b5cb-e3630d8a0b01",
   "metadata": {},
   "outputs": [],
   "source": [
    "import pandas as pd\n",
    "import numpy as np\n",
    "import matplotlib.pyplot as plt\n",
    "from sklearn.model_selection import train_test_split\n",
    "from sklearn.ensemble import RandomForestClassifier, VotingClassifier\n",
    "from sklearn.linear_model import LogisticRegression\n",
    "from sklearn.metrics import accuracy_score, confusion_matrix, ConfusionMatrixDisplay"
   ]
  },
  {
   "cell_type": "markdown",
   "id": "1c52318f-4e5c-4951-b7e6-f455a364738c",
   "metadata": {},
   "source": [
    "## 설정"
   ]
  },
  {
   "cell_type": "code",
   "execution_count": 22,
   "id": "bb26604c-0631-49ef-9eea-7469bd3cabfe",
   "metadata": {},
   "outputs": [],
   "source": [
    "csv_path = './dataset/must_use_final.csv'\n",
    "hours_ahead = 5 # 시간 대입\n",
    "interval_minutes = 10\n",
    "shift_n = hours_ahead * 60 // interval_minutes\n",
    "feature_cols = ['LAT', 'LON', 'COG', 'HEADING']\n",
    "target_col = ['CLUSTER_1']"
   ]
  },
  {
   "cell_type": "code",
   "execution_count": 24,
   "id": "e5ae9e8b-84bf-42ca-b23b-94c6f88d161b",
   "metadata": {},
   "outputs": [],
   "source": [
    "df = pd.read_csv(csv_path)\n",
    "df['TIMESTAMP'] = pd.to_datetime(df['TIMESTAMP'])"
   ]
  },
  {
   "cell_type": "code",
   "execution_count": 26,
   "id": "97f0f05d-d64c-41c3-8758-ecef86f85b51",
   "metadata": {},
   "outputs": [],
   "source": [
    "accuracy_results = []"
   ]
  },
  {
   "cell_type": "markdown",
   "id": "1e4b4bca-b82a-4d98-be9a-096ab5cc00c2",
   "metadata": {},
   "source": [
    "## 실행"
   ]
  },
  {
   "cell_type": "code",
   "execution_count": 28,
   "id": "5e4bd1bb-fe82-49a1-b60f-4999e9e8b755",
   "metadata": {},
   "outputs": [
    {
     "name": "stdout",
     "output_type": "stream",
     "text": [
      "\n",
      "🔹 CLUSTER_1: 0\n"
     ]
    },
    {
     "ename": "ValueError",
     "evalue": "Columns must be same length as key",
     "output_type": "error",
     "traceback": [
      "\u001b[1;31m---------------------------------------------------------------------------\u001b[0m",
      "\u001b[1;31mValueError\u001b[0m                                Traceback (most recent call last)",
      "Cell \u001b[1;32mIn[28], line 6\u001b[0m\n\u001b[0;32m      4\u001b[0m \u001b[38;5;66;03m# 정렬 및 미래 타깃 생성\u001b[39;00m\n\u001b[0;32m      5\u001b[0m cluster_df \u001b[38;5;241m=\u001b[39m cluster_df\u001b[38;5;241m.\u001b[39msort_values(by\u001b[38;5;241m=\u001b[39m[\u001b[38;5;124m'\u001b[39m\u001b[38;5;124mVSL_ID\u001b[39m\u001b[38;5;124m'\u001b[39m, \u001b[38;5;124m'\u001b[39m\u001b[38;5;124mTIMESTAMP\u001b[39m\u001b[38;5;124m'\u001b[39m])\u001b[38;5;241m.\u001b[39mreset_index(drop\u001b[38;5;241m=\u001b[39m\u001b[38;5;28;01mTrue\u001b[39;00m)\n\u001b[1;32m----> 6\u001b[0m cluster_df[target_col] \u001b[38;5;241m=\u001b[39m cluster_df\u001b[38;5;241m.\u001b[39mgroupby(\u001b[38;5;124m'\u001b[39m\u001b[38;5;124mVSL_ID\u001b[39m\u001b[38;5;124m'\u001b[39m)[\u001b[38;5;124m'\u001b[39m\u001b[38;5;124mPORT_NAME\u001b[39m\u001b[38;5;124m'\u001b[39m]\u001b[38;5;241m.\u001b[39mshift(\u001b[38;5;241m-\u001b[39mshift_n)\n\u001b[0;32m      7\u001b[0m filtered \u001b[38;5;241m=\u001b[39m cluster_df\u001b[38;5;241m.\u001b[39mdropna(subset\u001b[38;5;241m=\u001b[39mfeature_cols \u001b[38;5;241m+\u001b[39m [target_col])\n\u001b[0;32m      9\u001b[0m \u001b[38;5;66;03m# 유효성 체크\u001b[39;00m\n",
      "File \u001b[1;32m~\\anaconda3\\Lib\\site-packages\\pandas\\core\\frame.py:4299\u001b[0m, in \u001b[0;36mDataFrame.__setitem__\u001b[1;34m(self, key, value)\u001b[0m\n\u001b[0;32m   4297\u001b[0m     \u001b[38;5;28mself\u001b[39m\u001b[38;5;241m.\u001b[39m_setitem_frame(key, value)\n\u001b[0;32m   4298\u001b[0m \u001b[38;5;28;01melif\u001b[39;00m \u001b[38;5;28misinstance\u001b[39m(key, (Series, np\u001b[38;5;241m.\u001b[39mndarray, \u001b[38;5;28mlist\u001b[39m, Index)):\n\u001b[1;32m-> 4299\u001b[0m     \u001b[38;5;28mself\u001b[39m\u001b[38;5;241m.\u001b[39m_setitem_array(key, value)\n\u001b[0;32m   4300\u001b[0m \u001b[38;5;28;01melif\u001b[39;00m \u001b[38;5;28misinstance\u001b[39m(value, DataFrame):\n\u001b[0;32m   4301\u001b[0m     \u001b[38;5;28mself\u001b[39m\u001b[38;5;241m.\u001b[39m_set_item_frame_value(key, value)\n",
      "File \u001b[1;32m~\\anaconda3\\Lib\\site-packages\\pandas\\core\\frame.py:4358\u001b[0m, in \u001b[0;36mDataFrame._setitem_array\u001b[1;34m(self, key, value)\u001b[0m\n\u001b[0;32m   4355\u001b[0m     \u001b[38;5;28;01mreturn\u001b[39;00m \u001b[38;5;28mself\u001b[39m\u001b[38;5;241m.\u001b[39m_setitem_array(key, value)\n\u001b[0;32m   4357\u001b[0m \u001b[38;5;28;01melse\u001b[39;00m:\n\u001b[1;32m-> 4358\u001b[0m     \u001b[38;5;28mself\u001b[39m\u001b[38;5;241m.\u001b[39m_iset_not_inplace(key, value)\n",
      "File \u001b[1;32m~\\anaconda3\\Lib\\site-packages\\pandas\\core\\frame.py:4377\u001b[0m, in \u001b[0;36mDataFrame._iset_not_inplace\u001b[1;34m(self, key, value)\u001b[0m\n\u001b[0;32m   4375\u001b[0m \u001b[38;5;28;01mif\u001b[39;00m \u001b[38;5;28mself\u001b[39m\u001b[38;5;241m.\u001b[39mcolumns\u001b[38;5;241m.\u001b[39mis_unique:\n\u001b[0;32m   4376\u001b[0m     \u001b[38;5;28;01mif\u001b[39;00m np\u001b[38;5;241m.\u001b[39mshape(value)[\u001b[38;5;241m-\u001b[39m\u001b[38;5;241m1\u001b[39m] \u001b[38;5;241m!=\u001b[39m \u001b[38;5;28mlen\u001b[39m(key):\n\u001b[1;32m-> 4377\u001b[0m         \u001b[38;5;28;01mraise\u001b[39;00m \u001b[38;5;167;01mValueError\u001b[39;00m(\u001b[38;5;124m\"\u001b[39m\u001b[38;5;124mColumns must be same length as key\u001b[39m\u001b[38;5;124m\"\u001b[39m)\n\u001b[0;32m   4379\u001b[0m     \u001b[38;5;28;01mfor\u001b[39;00m i, col \u001b[38;5;129;01min\u001b[39;00m \u001b[38;5;28menumerate\u001b[39m(key):\n\u001b[0;32m   4380\u001b[0m         \u001b[38;5;28mself\u001b[39m[col] \u001b[38;5;241m=\u001b[39m igetitem(value, i)\n",
      "\u001b[1;31mValueError\u001b[0m: Columns must be same length as key"
     ]
    }
   ],
   "source": [
    "for cluster_id, cluster_df in df.groupby('CLUSTER_1'):\n",
    "    print(f\"\\n🔹 CLUSTER_1: {cluster_id}\")\n",
    "\n",
    "    # 정렬 및 미래 타깃 생성\n",
    "    cluster_df = cluster_df.sort_values(by=['VSL_ID', 'TIMESTAMP']).reset_index(drop=True)\n",
    "    cluster_df[target_col] = cluster_df.groupby('VSL_ID')['PORT_NAME'].shift(-shift_n)\n",
    "    filtered = cluster_df.dropna(subset=feature_cols + [target_col])\n",
    "\n",
    "    # 유효성 체크\n",
    "    if len(filtered[target_col].unique()) < 2 or len(filtered) < 100:\n",
    "        print(\"⚠️  데이터 부족 or 클래스 수 부족 → 스킵\")\n",
    "        continue\n",
    "\n",
    "    # X, y 구성\n",
    "    X = filtered[feature_cols].values\n",
    "    y = filtered[target_col].values\n",
    "\n",
    "    # 분할\n",
    "    X_train, X_test, y_train, y_test = train_test_split(X, y, test_size=0.2, random_state=42, stratify=y)\n",
    "\n",
    "    # ===== Soft Voting Classifier 구성 =====\n",
    "    lr = LogisticRegression(max_iter=1000)\n",
    "    rf = RandomForestClassifier(n_estimators=100, random_state=42)\n",
    "    classifier = VotingClassifier(estimators=[('lr', lr), ('rf', rf)], voting='soft')\n",
    "    \n",
    "    classifier.fit(X_train, y_train)\n",
    "    y_pred = classifier.predict(X_test)\n",
    "\n",
    "    # 정확도 저장\n",
    "    accuracy = accuracy_score(y_test, y_pred)\n",
    "    accuracy_results.append((cluster_id, accuracy))\n",
    "\n",
    "    # 혼동 행렬 시각화\n",
    "    cm = confusion_matrix(y_test, y_pred, labels=np.unique(y))\n",
    "    disp = ConfusionMatrixDisplay(confusion_matrix=cm, display_labels=np.unique(y))\n",
    "\n",
    "    plt.figure(figsize=(10, 8))\n",
    "    disp.plot(xticks_rotation=90)\n",
    "    plt.title(f\"CLUSTER_1 = {cluster_id} / Accuracy = {accuracy:.2f}\")\n",
    "    plt.tight_layout()\n",
    "    plt.show()\n",
    "\n",
    "# 전체 예측 결과 저장용\n",
    "all_y_true = []\n",
    "all_y_pred = []\n",
    "\n",
    "# ===== CLUSTER_1 별 반복 =====\n",
    "for cluster_id, cluster_df in df.groupby('CLUSTER_1'):\n",
    "    ...\n",
    "    if len(filtered[target_col].unique()) < 2 or len(filtered) < 100:\n",
    "        ...\n",
    "        continue\n",
    "\n",
    "    ...\n",
    "    classifier.fit(X_train, y_train)\n",
    "    y_pred = classifier.predict(X_test)\n",
    "\n",
    "    # 전체 결과 누적\n",
    "    all_y_true.extend(y_test)\n",
    "    all_y_pred.extend(y_pred)\n",
    "\n",
    "    ...\n",
    "    \n",
    "# ===== 전체 모델 정확도 출력 =====\n",
    "total_accuracy = accuracy_score(all_y_true, all_y_pred)\n",
    "print(f\"\\n📊 전체 모델 평균 정확도: {total_accuracy:.4f}\")"
   ]
  },
  {
   "cell_type": "markdown",
   "id": "2fee5b3e-7e80-491a-9ef0-487a61170235",
   "metadata": {},
   "source": [
    "## 최종 정확도 요약"
   ]
  },
  {
   "cell_type": "code",
   "execution_count": 38,
   "id": "42712e32-994d-4e82-9e75-2a6660b32b5d",
   "metadata": {},
   "outputs": [
    {
     "name": "stdout",
     "output_type": "stream",
     "text": [
      "군집별 정확도 요약\n",
      "  - CLUSTER_1 = 1 → Accuracy = 0.7479\n",
      "  - CLUSTER_1 = 2 → Accuracy = 0.9180\n",
      "  - CLUSTER_1 = 3 → Accuracy = 0.5248\n",
      "  - CLUSTER_1 = 4 → Accuracy = 0.7768\n",
      "  - CLUSTER_1 = 6 → Accuracy = 0.7990\n",
      "  - CLUSTER_1 = 7 → Accuracy = 0.9675\n"
     ]
    }
   ],
   "source": [
    "print(\"군집별 정확도 요약\")\n",
    "for cid, acc in accuracy_results:\n",
    "    print(f\"  - CLUSTER_1 = {cid} → Accuracy = {acc:.4f}\")"
   ]
  },
  {
   "cell_type": "markdown",
   "id": "693831a2-6033-4d47-9eac-a86f450dabd7",
   "metadata": {},
   "source": [
    "# 과적합 & 교차검증"
   ]
  },
  {
   "cell_type": "code",
   "execution_count": 58,
   "id": "fe24b91f-3fcb-43c7-a7a6-bf091822ca04",
   "metadata": {},
   "outputs": [],
   "source": [
    "import pandas as pd\n",
    "import numpy as np\n",
    "import matplotlib.pyplot as plt\n",
    "from sklearn.model_selection import train_test_split, cross_val_score\n",
    "from sklearn.ensemble import RandomForestClassifier, VotingClassifier\n",
    "from sklearn.linear_model import LogisticRegression\n",
    "from sklearn.metrics import accuracy_score, confusion_matrix, ConfusionMatrixDisplay"
   ]
  },
  {
   "cell_type": "code",
   "execution_count": 60,
   "id": "ed2c6862-7727-4272-8f5f-9b4d3cc0e836",
   "metadata": {},
   "outputs": [],
   "source": [
    "csv_path = './dataset/must_use_final.csv'\n",
    "hours_ahead = 3\n",
    "interval_minutes = 10\n",
    "shift_n = hours_ahead * 60 // interval_minutes\n",
    "feature_cols = ['LAT', 'LON', 'COG', 'HEADING']\n",
    "target_col = 'FUTURE_PORT_NAME'\n",
    "do_cross_validation = True  # 🔁 이걸 True로 하면 교차검증 수행"
   ]
  },
  {
   "cell_type": "code",
   "execution_count": 62,
   "id": "54dcef20-4d25-4267-94d5-0148a89ef278",
   "metadata": {},
   "outputs": [],
   "source": [
    "df = pd.read_csv(csv_path)\n",
    "df['TIMESTAMP'] = pd.to_datetime(df['TIMESTAMP'])"
   ]
  },
  {
   "cell_type": "code",
   "execution_count": 64,
   "id": "e74dd457-ad08-4f2f-847e-b530eabad668",
   "metadata": {},
   "outputs": [],
   "source": [
    "accuracy_results = []"
   ]
  },
  {
   "cell_type": "code",
   "execution_count": 69,
   "id": "f8d2ece6-7154-4b85-8cfa-18c1908588e5",
   "metadata": {},
   "outputs": [],
   "source": [
    "import warnings\n",
    "warnings.simplefilter('ignore')"
   ]
  },
  {
   "cell_type": "markdown",
   "id": "70e68522-086f-4c60-9a9d-ec01b5cea36f",
   "metadata": {},
   "source": [
    "## 과적합 분석"
   ]
  },
  {
   "cell_type": "code",
   "execution_count": 71,
   "id": "10ec5770-d6d4-4735-8874-d64498b9c663",
   "metadata": {},
   "outputs": [
    {
     "name": "stdout",
     "output_type": "stream",
     "text": [
      "\n",
      "🔍 [1단계] 과적합 여부 확인\n",
      "\n",
      "▶ CLUSTER_1: 0\n",
      "⚠️  데이터 부족 or 클래스 수 부족 → 스킵\n",
      "\n",
      "▶ CLUSTER_1: 1\n",
      "✅ 훈련 정확도: 0.9785 / 테스트 정확도: 0.7933\n",
      "⚠️ 과적합 가능성 있음 (훈련 정확도 >> 테스트 정확도)\n",
      "\n",
      "▶ CLUSTER_1: 2\n",
      "✅ 훈련 정확도: 0.9396 / 테스트 정확도: 0.9211\n",
      "\n",
      "▶ CLUSTER_1: 3\n",
      "✅ 훈련 정확도: 0.9979 / 테스트 정확도: 0.5354\n",
      "⚠️ 과적합 가능성 있음 (훈련 정확도 >> 테스트 정확도)\n",
      "\n",
      "▶ CLUSTER_1: 4\n",
      "✅ 훈련 정확도: 0.9901 / 테스트 정확도: 0.7813\n",
      "⚠️ 과적합 가능성 있음 (훈련 정확도 >> 테스트 정확도)\n",
      "\n",
      "▶ CLUSTER_1: 5\n",
      "⚠️  데이터 부족 or 클래스 수 부족 → 스킵\n",
      "\n",
      "▶ CLUSTER_1: 6\n",
      "✅ 훈련 정확도: 0.9825 / 테스트 정확도: 0.8244\n",
      "⚠️ 과적합 가능성 있음 (훈련 정확도 >> 테스트 정확도)\n",
      "\n",
      "▶ CLUSTER_1: 7\n",
      "✅ 훈련 정확도: 0.9766 / 테스트 정확도: 0.9577\n"
     ]
    }
   ],
   "source": [
    "# ===== CLUSTER_1 별 과적합 분석 =====\n",
    "print(\"\\n🔍 [1단계] 과적합 여부 확인\")\n",
    "for cluster_id, cluster_df in df.groupby('CLUSTER_1'):\n",
    "    print(f\"\\n▶ CLUSTER_1: {cluster_id}\")\n",
    "\n",
    "    cluster_df = cluster_df.sort_values(by=['VSL_ID', 'TIMESTAMP']).reset_index(drop=True)\n",
    "    cluster_df[target_col] = cluster_df.groupby('VSL_ID')['PORT_NAME'].shift(-shift_n)\n",
    "    filtered = cluster_df.dropna(subset=feature_cols + [target_col])\n",
    "\n",
    "    if len(filtered[target_col].unique()) < 2 or len(filtered) < 100:\n",
    "        print(\"⚠️  데이터 부족 or 클래스 수 부족 → 스킵\")\n",
    "        continue\n",
    "\n",
    "    X = filtered[feature_cols].values\n",
    "    y = filtered[target_col].values\n",
    "\n",
    "    X_train, X_test, y_train, y_test = train_test_split(X, y, test_size=0.2, random_state=42)\n",
    "\n",
    "    lr = LogisticRegression(max_iter=1000)\n",
    "    rf = RandomForestClassifier(n_estimators=100, random_state=42)\n",
    "    classifier = VotingClassifier(estimators=[('lr', lr), ('rf', rf)], voting='soft')\n",
    "\n",
    "    classifier.fit(X_train, y_train)\n",
    "\n",
    "    train_acc = classifier.score(X_train, y_train)\n",
    "    test_acc = classifier.score(X_test, y_test)\n",
    "\n",
    "    print(f\"✅ 훈련 정확도: {train_acc:.4f} / 테스트 정확도: {test_acc:.4f}\")\n",
    "    if train_acc - test_acc > 0.1:\n",
    "        print(\"⚠️ 과적합 가능성 있음 (훈련 정확도 >> 테스트 정확도)\")"
   ]
  },
  {
   "cell_type": "code",
   "execution_count": null,
   "id": "e9bbdcae-3089-4df7-a181-a22e88b5811c",
   "metadata": {},
   "outputs": [
    {
     "name": "stdout",
     "output_type": "stream",
     "text": [
      "\n",
      "🔁 [2단계] 5-Fold 교차검증\n",
      "\n",
      "▶ CLUSTER_1: 0\n",
      "⚠️  데이터 부족 or 클래스 수 부족 → 스킵\n",
      "\n",
      "▶ CLUSTER_1: 1\n",
      "📊 교차검증 평균 정확도: 0.6889 ± 0.0148\n",
      "\n",
      "▶ CLUSTER_1: 2\n"
     ]
    }
   ],
   "source": [
    "print(\"\\n🔁 [2단계] 5-Fold 교차검증\")\n",
    "for cluster_id, cluster_df in df.groupby('CLUSTER_1'):\n",
    "    print(f\"\\n▶ CLUSTER_1: {cluster_id}\")\n",
    "\n",
    "    cluster_df = cluster_df.sort_values(by=['VSL_ID', 'TIMESTAMP']).reset_index(drop=True)\n",
    "    cluster_df[target_col] = cluster_df.groupby('VSL_ID')['PORT_NAME'].shift(-shift_n)\n",
    "    filtered = cluster_df.dropna(subset=feature_cols + [target_col])\n",
    "\n",
    "    if len(filtered[target_col].unique()) < 2 or len(filtered) < 100:\n",
    "        print(\"⚠️  데이터 부족 or 클래스 수 부족 → 스킵\")\n",
    "        continue\n",
    "\n",
    "    X = filtered[feature_cols].values\n",
    "    y = filtered[target_col].values\n",
    "\n",
    "    lr = LogisticRegression(max_iter=1000)\n",
    "    rf = RandomForestClassifier(n_estimators=100, random_state=42)\n",
    "    classifier = VotingClassifier(estimators=[('lr', lr), ('rf', rf)], voting='soft')\n",
    "\n",
    "    scores = cross_val_score(classifier, X, y, cv=5, scoring='accuracy')\n",
    "    print(f\"📊 교차검증 평균 정확도: {scores.mean():.4f} ± {scores.std():.4f}\")\n"
   ]
  }
 ],
 "metadata": {
  "kernelspec": {
   "display_name": "Python [conda env:base] *",
   "language": "python",
   "name": "conda-base-py"
  },
  "language_info": {
   "codemirror_mode": {
    "name": "ipython",
    "version": 3
   },
   "file_extension": ".py",
   "mimetype": "text/x-python",
   "name": "python",
   "nbconvert_exporter": "python",
   "pygments_lexer": "ipython3",
   "version": "3.12.7"
  }
 },
 "nbformat": 4,
 "nbformat_minor": 5
}
