{
 "cells": [
  {
   "cell_type": "markdown",
   "id": "8617da62-8b64-4152-91c8-08b7382f0dcc",
   "metadata": {},
   "source": [
    "# 이상치 나타내는 코드"
   ]
  },
  {
   "cell_type": "code",
   "execution_count": 19,
   "id": "6aad8e0e-d34c-4430-bea0-628f8e43af9e",
   "metadata": {},
   "outputs": [
    {
     "name": "stdout",
     "output_type": "stream",
     "text": [
      "\n",
      "=== 파일명: 4d3f1384-486b-3514-a34c-fb4d043741f7.csv ===\n",
      "\n",
      "--- 이상치 데이터 (Index: 422) ---\n",
      "TIMESTAMP    2024-07-21 01:57:05\n",
      "TIME_DIFF        0 days 07:36:44\n",
      "SPEED                       14.4\n",
      "LAT                    18.551873\n",
      "LON                   114.822848\n",
      "LAT_diff                1.506298\n",
      "LON_diff                1.124348\n",
      "Name: 422, dtype: object\n",
      "\n",
      "이전 데이터 (Index: 421):\n",
      "TIMESTAMP    2024-07-20 18:20:21\n",
      "TIME_DIFF        0 days 00:22:12\n",
      "SPEED                       14.7\n",
      "LAT                    20.058172\n",
      "LON                   115.947197\n",
      "LAT_diff                0.079938\n",
      "LON_diff                  0.0444\n",
      "Name: 421, dtype: object\n",
      "==================================================\n",
      "\n",
      "--- 이상치 데이터 (Index: 423) ---\n",
      "TIMESTAMP    2024-07-21 07:31:01\n",
      "TIME_DIFF        0 days 05:33:56\n",
      "SPEED                       12.9\n",
      "LAT                    17.546833\n",
      "LON                   114.015207\n",
      "LAT_diff                 1.00504\n",
      "LON_diff                0.807642\n",
      "Name: 423, dtype: object\n",
      "\n",
      "이전 데이터 (Index: 422):\n",
      "TIMESTAMP    2024-07-21 01:57:05\n",
      "TIME_DIFF        0 days 07:36:44\n",
      "SPEED                       14.4\n",
      "LAT                    18.551873\n",
      "LON                   114.822848\n",
      "LAT_diff                1.506298\n",
      "LON_diff                1.124348\n",
      "Name: 422, dtype: object\n",
      "==================================================\n",
      "\n",
      "--- 이상치 데이터 (Index: 447) ---\n",
      "TIMESTAMP    2024-07-22 03:27:20\n",
      "TIME_DIFF        0 days 08:49:06\n",
      "SPEED                       13.2\n",
      "LAT                    13.903192\n",
      "LON                   111.248052\n",
      "LAT_diff                1.685225\n",
      "LON_diff                1.267458\n",
      "Name: 447, dtype: object\n",
      "\n",
      "이전 데이터 (Index: 446):\n",
      "TIMESTAMP    2024-07-21 18:38:14\n",
      "TIME_DIFF        0 days 00:27:15\n",
      "SPEED                       14.1\n",
      "LAT                    15.588417\n",
      "LON                    112.51551\n",
      "LAT_diff                0.084755\n",
      "LON_diff                0.065812\n",
      "Name: 446, dtype: object\n",
      "==================================================\n"
     ]
    }
   ],
   "source": [
    "import pandas as pd\n",
    "import os\n",
    "\n",
    "# 폴더 경로 지정 (사용자가 원하는 폴더 경로로 변경)\n",
    "folder_path = \"./dataset/VNSGN\"\n",
    "\n",
    "# 폴더 내 모든 CSV 파일 가져오기\n",
    "csv_files = [f for f in os.listdir(folder_path) if f.endswith('.csv')]\n",
    "\n",
    "# 모든 CSV 파일에 대해 반복 처리\n",
    "for file in csv_files:\n",
    "    file_path = os.path.join(folder_path, file)\n",
    "    df = pd.read_csv(file_path)\n",
    "    \n",
    "    # 위도 및 경도 차이 계산\n",
    "    df[\"LAT_diff\"] = df[\"LAT\"].diff().abs()  # 이전 행과의 위도 차이\n",
    "    df[\"LON_diff\"] = df[\"LON\"].diff().abs()  # 이전 행과의 경도 차이\n",
    "\n",
    "    df[\"TIMESTAMP\"] = pd.to_datetime(df[\"TIMESTAMP\"])\n",
    "    df[\"TIME_DIFF\"] = df[\"TIMESTAMP\"].diff() \n",
    "\n",
    "    # 이상치 조건 (경도 또는 위도가 1도 이상 차이)\n",
    "    outlier_indices = df[(df[\"LAT_diff\"] >= 1) | (df[\"LON_diff\"] >= 1)].index\n",
    "\n",
    "    # 결과 출력\n",
    "    if not outlier_indices.empty:\n",
    "        print(f\"\\n=== 파일명: {file} ===\")\n",
    "        for idx in outlier_indices:\n",
    "            print(f\"\\n--- 이상치 데이터 (Index: {idx}) ---\")\n",
    "            print(df.loc[idx, ['TIMESTAMP','TIME_DIFF', 'SPEED', 'LAT', 'LON', 'LAT_diff', 'LON_diff']])  # 현재 이상치 데이터 출력\n",
    "            \n",
    "            # 앞 데이터 출력 (이전 행이 존재할 경우)\n",
    "            if idx > 0:\n",
    "                print(f\"\\n이전 데이터 (Index: {idx - 1}):\")\n",
    "                print(df.loc[idx - 1, ['TIMESTAMP','TIME_DIFF', 'SPEED', 'LAT', 'LON', 'LAT_diff', 'LON_diff']])\n",
    "\n",
    "            print(\"=\" * 50)  # 구분선 추가"
   ]
  },
  {
   "cell_type": "markdown",
   "id": "a56a24ab-ca31-4607-bda9-0f6652e19ed6",
   "metadata": {},
   "source": [
    "# 지도를 볼 수 있는 코드(폴더랑 파일명 지정)"
   ]
  },
  {
   "cell_type": "code",
   "execution_count": null,
   "id": "23d4d3f9-0403-4022-931a-0f58b2f5f5e7",
   "metadata": {},
   "outputs": [],
   "source": [
    "import pandas as pd\n",
    "import folium\n",
    "\n",
    "# CSV 파일 로드\n",
    "file_path = \"./dataset/JPKNZ/af2ff49a-4e82-3b27-af7d-b8ad38ffcd51.csv\"  # 업로드한 파일 경로를 입력하세요.\n",
    "df = pd.read_csv(file_path)\n",
    "\n",
    "# 위도와 경도 데이터 추출\n",
    "latitude = df[\"LAT\"].tolist()\n",
    "longitude = df[\"LON\"].tolist()\n",
    "\n",
    "# 지도 초기화 (첫 번째 위치 기준)\n",
    "m = folium.Map(location=[latitude[0], longitude[0]], zoom_start=10)\n",
    "\n",
    "# 마커 추가 (각 위치별)\n",
    "for lat, lon, timestamp in zip(latitude, longitude, df[\"TIMESTAMP\"]):\n",
    "    folium.Marker(\n",
    "        location=[lat, lon],\n",
    "        popup=f\"Time: {timestamp}\",\n",
    "        icon=folium.Icon(color=\"blue\", icon=\"info-sign\")\n",
    "    ).add_to(m)\n",
    "\n",
    "# 경로 표시 (폴리라인 추가)\n",
    "folium.PolyLine(\n",
    "    locations=list(zip(latitude, longitude)),\n",
    "    color=\"blue\",\n",
    "    weight=4,\n",
    "    opacity=0.7\n",
    ").add_to(m)\n",
    "\n",
    "# HTML 파일로 저장\n",
    "m.save(\"map.html\")\n",
    "\n",
    "# 생성된 지도 파일 열기 (Jupyter Notebook 환경)\n",
    "import webbrowser\n",
    "webbrowser.open(\"map.html\")"
   ]
  },
  {
   "cell_type": "code",
   "execution_count": 23,
   "id": "3ad84872-8308-4088-b85f-d9d6b13a7426",
   "metadata": {},
   "outputs": [
    {
     "name": "stdout",
     "output_type": "stream",
     "text": [
      "Collecting geopy\n",
      "  Downloading geopy-2.4.1-py3-none-any.whl.metadata (6.8 kB)\n",
      "Collecting geographiclib<3,>=1.52 (from geopy)\n",
      "  Downloading geographiclib-2.0-py3-none-any.whl.metadata (1.4 kB)\n",
      "Downloading geopy-2.4.1-py3-none-any.whl (125 kB)\n",
      "Downloading geographiclib-2.0-py3-none-any.whl (40 kB)\n",
      "Installing collected packages: geographiclib, geopy\n",
      "Successfully installed geographiclib-2.0 geopy-2.4.1\n"
     ]
    }
   ],
   "source": [
    "!pip install geopy"
   ]
  },
  {
   "cell_type": "code",
   "execution_count": 25,
   "id": "364ece76-570f-495b-a008-7102599350c8",
   "metadata": {},
   "outputs": [
    {
     "name": "stdout",
     "output_type": "stream",
     "text": [
      "실제 이동 거리: 148.20 km\n"
     ]
    }
   ],
   "source": [
    "from geopy.distance import geodesic\n",
    "\n",
    "def calculate_actual_distance(lat1, lon1, lat2, lon2):\n",
    "    \"\"\"\n",
    "    두 좌표 (위도, 경도) 간의 실제 거리(Geodesic Distance)를 계산하는 함수.\n",
    "    :param lat1: 첫 번째 위도\n",
    "    :param lon1: 첫 번째 경도\n",
    "    :param lat2: 두 번째 위도\n",
    "    :param lon2: 두 번째 경도\n",
    "    :return: 두 지점 간의 실제 거리 (km)\n",
    "    \"\"\"\n",
    "    point1 = (lat1, lon1)\n",
    "    point2 = (lat2, lon2)\n",
    "    return geodesic(point1, point2).kilometers\n",
    "\n",
    "# 예제 사용법\n",
    "lat1, lon1 = 36.428835, 134.500110\n",
    "lat2, lon2 = 37.084632, 135.945963\n",
    "actual_distance = calculate_actual_distance(lat1, lon1, lat2, lon2)\n",
    "\n",
    "print(f\"실제 이동 거리: {actual_distance:.2f} km\")\n"
   ]
  },
  {
   "cell_type": "markdown",
   "id": "dcafb307-9c38-4970-9e85-0c6db1349838",
   "metadata": {},
   "source": [
    "# 속도를 이용한 예상 이동 거리 계산"
   ]
  },
  {
   "cell_type": "code",
   "execution_count": 27,
   "id": "aac9bb04-3564-4bbc-a072-f9cf7c22c9fd",
   "metadata": {},
   "outputs": [
    {
     "name": "stdout",
     "output_type": "stream",
     "text": [
      "속도를 이용한 예상 이동 거리: 146.41 km\n"
     ]
    }
   ],
   "source": [
    "def calculate_expected_distance(speed_knots, time_hours):\n",
    "    \"\"\"\n",
    "    속도(knots)와 이동 시간을 이용하여 예상 이동 거리(km)를 계산하는 함수.\n",
    "    :param speed_knots: 선박 속도 (노트 단위)\n",
    "    :param time_hours: 이동 시간 (시간 단위)\n",
    "    :return: 예상 이동 거리 (km)\n",
    "    \"\"\"\n",
    "    speed_kmh = speed_knots * 1.852  # 노트를 km/h로 변환\n",
    "    return speed_kmh * time_hours\n",
    "\n",
    "# 예제 사용법\n",
    "speed_knots = 12.45  # 평균 속도 (노트)\n",
    "time_hours = 6.35  # 시간 차이 (6시간 21분 -> 6.35시간)\n",
    "expected_distance = calculate_expected_distance(speed_knots, time_hours)\n",
    "\n",
    "print(f\"속도를 이용한 예상 이동 거리: {expected_distance:.2f} km\")\n"
   ]
  }
 ],
 "metadata": {
  "kernelspec": {
   "display_name": "Python [conda env:base] *",
   "language": "python",
   "name": "conda-base-py"
  },
  "language_info": {
   "codemirror_mode": {
    "name": "ipython",
    "version": 3
   },
   "file_extension": ".py",
   "mimetype": "text/x-python",
   "name": "python",
   "nbconvert_exporter": "python",
   "pygments_lexer": "ipython3",
   "version": "3.12.7"
  }
 },
 "nbformat": 4,
 "nbformat_minor": 5
}
